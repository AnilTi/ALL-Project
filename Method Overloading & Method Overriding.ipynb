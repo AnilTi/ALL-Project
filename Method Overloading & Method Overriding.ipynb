{
 "cells": [
  {
   "cell_type": "markdown",
   "id": "15c0772f",
   "metadata": {},
   "source": [
    "# Method Overloading & Method Overriding in Python :-"
   ]
  },
  {
   "cell_type": "markdown",
   "id": "f9edb09f",
   "metadata": {},
   "source": [
    "<b>Method Overloading:-</b>\n",
    "     \n",
    "    (1) Method Overloading is one concept of Polymorphism.\n",
    "    (2) It comes under the elements of OOPs.\n",
    "    (3) It is worked in the same method names and different arguments.\n",
    "    (4) Arguments different will be based on a number of arguments & types of arguments."
   ]
  },
  {
   "cell_type": "code",
   "execution_count": 1,
   "id": "c80211cc",
   "metadata": {},
   "outputs": [],
   "source": [
    "class Area():\n",
    "    def find_area(self,a=None,b=None):\n",
    "        if(a!=None and b!=None):\n",
    "            print(\"Area of Rectangle=\",a*b)\n",
    "        elif(a!=None):\n",
    "            print(\"Area of Square=\",a*a)\n",
    "        else:\n",
    "            print(\"Nothing to find\")"
   ]
  },
  {
   "cell_type": "code",
   "execution_count": 2,
   "id": "ac0c466f",
   "metadata": {},
   "outputs": [
    {
     "name": "stdout",
     "output_type": "stream",
     "text": [
      "Nothing to find\n"
     ]
    }
   ],
   "source": [
    "obj=Area()\n",
    "obj.find_area()"
   ]
  },
  {
   "cell_type": "code",
   "execution_count": 3,
   "id": "14ba2dd3",
   "metadata": {},
   "outputs": [
    {
     "name": "stdout",
     "output_type": "stream",
     "text": [
      "Area of Square= 4\n"
     ]
    }
   ],
   "source": [
    "obj.find_area(2)"
   ]
  },
  {
   "cell_type": "code",
   "execution_count": 4,
   "id": "30d8b7df",
   "metadata": {},
   "outputs": [
    {
     "name": "stdout",
     "output_type": "stream",
     "text": [
      "Area of Rectangle= 8\n"
     ]
    }
   ],
   "source": [
    "obj.find_area(2,4)"
   ]
  },
  {
   "cell_type": "markdown",
   "id": "8785aa8f",
   "metadata": {},
   "source": [
    "<b>Method Overriding:-</b>\n",
    "     \n",
    "    (1) Method Overriding is also one concept of Polymorphism.\n",
    "    (2) It comes under the elements of OOPs.\n",
    "    (3) Method Overriding is the method having the same name with the same arguments.\n",
    "    (4) It is implemented with inheritance.\n",
    "    (4) It is mostly used for memory reducing processes."
   ]
  },
  {
   "cell_type": "code",
   "execution_count": 5,
   "id": "8eaffd10",
   "metadata": {},
   "outputs": [],
   "source": [
    "class A():\n",
    "    def showData(self):\n",
    "        print(\"I'm in A() Class..\")\n",
    "\n",
    "class B(A):\n",
    "    def showData(self):\n",
    "        print(\"I'm in B() Class..\")"
   ]
  },
  {
   "cell_type": "code",
   "execution_count": 6,
   "id": "12fc1d4d",
   "metadata": {},
   "outputs": [
    {
     "name": "stdout",
     "output_type": "stream",
     "text": [
      "I'm in A() Class..\n"
     ]
    }
   ],
   "source": [
    "obj1=A()\n",
    "obj1.showData()"
   ]
  },
  {
   "cell_type": "code",
   "execution_count": 7,
   "id": "bfdfb13d",
   "metadata": {},
   "outputs": [
    {
     "name": "stdout",
     "output_type": "stream",
     "text": [
      "I'm in B() Class..\n"
     ]
    }
   ],
   "source": [
    "obj2=B()\n",
    "obj2.showData()"
   ]
  },
  {
   "cell_type": "code",
   "execution_count": null,
   "id": "7e00d982",
   "metadata": {},
   "outputs": [],
   "source": []
  }
 ],
 "metadata": {
  "kernelspec": {
   "display_name": "Python 3 (ipykernel)",
   "language": "python",
   "name": "python3"
  },
  "language_info": {
   "codemirror_mode": {
    "name": "ipython",
    "version": 3
   },
   "file_extension": ".py",
   "mimetype": "text/x-python",
   "name": "python",
   "nbconvert_exporter": "python",
   "pygments_lexer": "ipython3",
   "version": "3.9.7"
  }
 },
 "nbformat": 4,
 "nbformat_minor": 5
}
