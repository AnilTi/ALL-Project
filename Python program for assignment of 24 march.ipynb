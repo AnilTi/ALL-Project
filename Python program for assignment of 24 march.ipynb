{
 "cells": [
  {
   "cell_type": "code",
   "execution_count": 2,
   "id": "d36c4bac",
   "metadata": {
    "scrolled": true
   },
   "outputs": [
    {
     "name": "stdout",
     "output_type": "stream",
     "text": [
      "1505 1540 1575 1610 1645 1680 1715 1750 1785 1820 1855 1890 1925 1960 1995 2030 2065 2100 2135 2170 2205 2240 2275 2310 2345 2380 2415 2450 2485 2520 2555 2590 2625 2660 2695 "
     ]
    }
   ],
   "source": [
    "#1 \n",
    "for i in range(1500,2700):\n",
    "    if (i%7==0 and i%5==0):\n",
    "        print(i,end=\" \")"
   ]
  },
  {
   "cell_type": "code",
   "execution_count": 1,
   "id": "ce676a19",
   "metadata": {},
   "outputs": [
    {
     "name": "stdout",
     "output_type": "stream",
     "text": [
      "Enter a Number :6\n",
      "6 * 1 = 6\n",
      "6 * 2 = 12\n",
      "6 * 3 = 18\n",
      "6 * 4 = 24\n",
      "6 * 5 = 30\n",
      "6 * 6 = 36\n",
      "6 * 7 = 42\n",
      "6 * 8 = 48\n",
      "6 * 9 = 54\n",
      "6 * 10 = 60\n"
     ]
    }
   ],
   "source": [
    "n=int(input('Enter a Number :'))\n",
    "for i in range(1,11):\n",
    "    print(n,'*',i,'=',n*i)"
   ]
  },
  {
   "cell_type": "code",
   "execution_count": 9,
   "id": "98ff10fd",
   "metadata": {
    "scrolled": true
   },
   "outputs": [
    {
     "name": "stdout",
     "output_type": "stream",
     "text": [
      "60 Celsius is  140.0 in Fahrenheit\n",
      "45 Fahrenhite is  -7.0 in Celsius\n"
     ]
    }
   ],
   "source": [
    "# 2 \n",
    "c=60\n",
    "fah=c*1.8+32\n",
    "print(c,'Celsius is ',fah,'in Fahrenheit')\n",
    "fah=45\n",
    "c=fah*.5556-(32)\n",
    "print(fah,'Fahrenhite is ',round( c,1),'in Celsius')\n"
   ]
  },
  {
   "cell_type": "code",
   "execution_count": 1,
   "id": "55bc5055",
   "metadata": {},
   "outputs": [
    {
     "name": "stdout",
     "output_type": "stream",
     "text": [
      "Enter F/C:60\n",
      "Enter the temperature:45\n",
      "45.0 fehrenheit is 7.222222222222222 in Celsius\n"
     ]
    }
   ],
   "source": [
    "v=input(\"Enter F/C:\")\n",
    "C=float(input(\"Enter the temperature:\" ))\n",
    "if v==\"C\":\n",
    "    f=(C*1.8)+32\n",
    "    print(C,\"celcius is\",f,\"in Fahrenheit\")\n",
    "else:\n",
    "    c=(C-32)/1.8\n",
    "    print(C,\"fehrenheit is\",c,\"in Celsius\")"
   ]
  },
  {
   "cell_type": "code",
   "execution_count": 1,
   "id": "734b3d53",
   "metadata": {},
   "outputs": [
    {
     "name": "stdout",
     "output_type": "stream",
     "text": [
      "What is your name? a\n",
      "Good Luck !  a\n",
      "Guess the characters\n",
      "_\n",
      "p _\n",
      "l _\n",
      "a _\n",
      "y _\n",
      "e _\n",
      "r \n",
      "guess a character:p\n",
      "p _\n",
      "l _\n",
      "a _\n",
      "y _\n",
      "e _\n",
      "r \n",
      "guess a character:l\n",
      "p l _\n",
      "a _\n",
      "y _\n",
      "e _\n",
      "r \n",
      "guess a character:a\n",
      "p l a _\n",
      "y _\n",
      "e _\n",
      "r \n",
      "guess a character:y\n",
      "p l a y _\n",
      "e _\n",
      "r \n",
      "guess a character:e\n",
      "p l a y e _\n",
      "r \n",
      "guess a character:r\n",
      "p l a y e r You Win\n",
      "The word is:  player\n"
     ]
    }
   ],
   "source": [
    "import random\n",
    "# library that we use in order to choose\n",
    "# on random words from a list of words\n",
    " \n",
    "name = input(\"What is your name? \")\n",
    "# Here the user is asked to enter the name first\n",
    " \n",
    "print(\"Good Luck ! \", name)\n",
    " \n",
    "words = ['rainbow', 'computer', 'science', 'programming',\n",
    "         'python', 'mathematics', 'player', 'condition',\n",
    "         'reverse', 'water', 'board', 'geeks']\n",
    " \n",
    "# Function will choose one random\n",
    "# word from this list of words\n",
    "word = random.choice(words)\n",
    " \n",
    " \n",
    "print(\"Guess the characters\")\n",
    " \n",
    "guesses = ''\n",
    " \n",
    "# any number of turns can be used here\n",
    "turns = 12\n",
    " \n",
    " \n",
    "while turns > 0:\n",
    "     \n",
    "    # counts the number of times a user fails\n",
    "    failed = 0\n",
    "     \n",
    "    # all characters from the input\n",
    "    # word taking one at a time.\n",
    "    for char in word:\n",
    "         \n",
    "        # comparing that character with\n",
    "        # the character in guesses\n",
    "        if char in guesses:\n",
    "            print(char, end=\" \")\n",
    "             \n",
    "        else:\n",
    "            print(\"_\")\n",
    "            print(char, end=\" \")\n",
    "             \n",
    "            # for every failure 1 will be\n",
    "            # incremented in failure\n",
    "            failed += 1\n",
    "             \n",
    " \n",
    "    if failed == 0:\n",
    "        # user will win the game if failure is 0\n",
    "        # and 'You Win' will be given as output\n",
    "        print(\"You Win\")\n",
    "         \n",
    "        # this print the correct word\n",
    "        print(\"The word is: \", word)\n",
    "        break\n",
    "     \n",
    "    # if user has input the wrong alphabet then\n",
    "    # it will ask user to enter another alphabet\n",
    "    print()\n",
    "    guess = input(\"guess a character:\")\n",
    "     \n",
    "    # every input character will be stored in guesses\n",
    "    guesses += guess\n",
    "     \n",
    "    # check input with the character in word\n",
    "    if guess not in word:\n",
    "         \n",
    "        turns -= 1\n",
    "         \n",
    "        # if the character doesn’t match the word\n",
    "        # then “Wrong” will be given as output\n",
    "        print(\"Wrong\")\n",
    "         \n",
    "        # this will print the number of\n",
    "        # turns left for the user\n",
    "        print(\"You have\", + turns, 'more guesses')\n",
    "         \n",
    "         \n",
    "        if turns == 0:\n",
    "            print(\"You Loose\")"
   ]
  },
  {
   "cell_type": "code",
   "execution_count": 4,
   "id": "5cd5251e",
   "metadata": {},
   "outputs": [
    {
     "name": "stdout",
     "output_type": "stream",
     "text": [
      "3\n",
      "Guess a number:- 8\n",
      "appear again\n",
      "Guess a number:- 3\n",
      "Congratulations Well done  2  try\n"
     ]
    }
   ],
   "source": [
    "# 2\n",
    "import random\n",
    "\n",
    "\n",
    "x =random.randint(1,10)\n",
    "print(x) \n",
    "count = 0 \n",
    "while count < 3:\n",
    "    count += 1\n",
    "    guess = int(input(\"Guess a number:- \"))\n",
    "    if x == guess:\n",
    "        print(\"Congratulations Well done \",\n",
    "              count, \" try\")\n",
    "        break\n",
    "    elif x < guess:\n",
    "        print(\"appear again\")\n",
    "# shows this output.\n",
    "if count >= 3:\n",
    "    print(\"\\nThe number is %d\" % x)\n",
    "    print(\"\\tBetter Luck Next time!\")\n",
    " \n",
    "\n",
    "    \n"
   ]
  },
  {
   "cell_type": "code",
   "execution_count": null,
   "id": "62df7120",
   "metadata": {},
   "outputs": [
    {
     "name": "stdout",
     "output_type": "stream",
     "text": [
      "Enter the guess number: 8\n",
      "Try again\n",
      "Enter the guess number: 1\n",
      "Try again\n"
     ]
    }
   ],
   "source": [
    "while True:\n",
    "    import random as r\n",
    "    n=int(input(\"Enter the guess number: \"))\n",
    "    r=r.randint(1,9)\n",
    "    if n==r:\n",
    "        print(\"Well guessed!\")\n",
    "        break\n",
    "    else:\n",
    "        print(\"Try again\")\n",
    "        continue"
   ]
  },
  {
   "cell_type": "code",
   "execution_count": 12,
   "id": "a8948f40",
   "metadata": {},
   "outputs": [
    {
     "name": "stdout",
     "output_type": "stream",
     "text": [
      "Enter a Number :7\n",
      "* \n",
      "* * \n",
      "* * * \n",
      "* * * * \n",
      "* * * * * \n",
      "* * * * * * \n",
      "* * * * * * * \n",
      "* * * * * * \n",
      "* * * * * \n",
      "* * * * \n",
      "* * * \n",
      "* * \n",
      "* \n"
     ]
    }
   ],
   "source": [
    "# 4\n",
    "n=int(input('Enter a Number :'))\n",
    "for i in range(1,n+1):\n",
    "    print('* '*i)\n",
    "for i in range(n-1,0,-1):\n",
    "    print('* '*i)"
   ]
  },
  {
   "cell_type": "code",
   "execution_count": 1,
   "id": "0ba4dd88",
   "metadata": {},
   "outputs": [
    {
     "name": "stdout",
     "output_type": "stream",
     "text": [
      "* \n",
      "* * \n",
      "* * * \n",
      "* * * * \n",
      "* * * * * \n",
      "* * * * \n",
      "* * * \n",
      "* * \n",
      "* \n"
     ]
    }
   ],
   "source": [
    "for i in range(1,6):\n",
    "    print('* '*i)\n",
    "for j in range(4,0,-1):\n",
    "    print('* '*j)"
   ]
  },
  {
   "cell_type": "code",
   "execution_count": 6,
   "id": "bb161b1e",
   "metadata": {},
   "outputs": [
    {
     "name": "stdout",
     "output_type": "stream",
     "text": [
      "Enter a Word :-Anil Tiwari\n",
      "irawiT linA\n"
     ]
    }
   ],
   "source": [
    "a=input('Enter a Word :-')\n",
    "print(a[::-1])  # Reverse String"
   ]
  },
  {
   "cell_type": "code",
   "execution_count": null,
   "id": "2303bbea",
   "metadata": {},
   "outputs": [],
   "source": []
  },
  {
   "cell_type": "code",
   "execution_count": 2,
   "id": "d8c84291",
   "metadata": {},
   "outputs": [
    {
     "name": "stdout",
     "output_type": "stream",
     "text": [
      "Enter a string :Anil TIWARI is great all rounder\n",
      "reversed string : rednuor lla taerg si IRAWIT linA\n"
     ]
    }
   ],
   "source": [
    "def reverse (string):\n",
    "    r_str=\"\"\n",
    "    for i in string:\n",
    "        r_str=i+r_str\n",
    "    print('reversed string :',r_str)\n",
    "    \n",
    "string=input('Enter a string :')\n",
    "\n",
    "reverse(string)"
   ]
  },
  {
   "cell_type": "code",
   "execution_count": 2,
   "id": "f2975804",
   "metadata": {},
   "outputs": [
    {
     "name": "stdout",
     "output_type": "stream",
     "text": [
      "1 Odd Number \n",
      "2 Even Number \n",
      "3 Odd Number \n",
      "4 Even Number \n",
      "5 Odd Number \n",
      "6 Even Number \n",
      "7 Odd Number \n",
      "8 Even Number \n",
      "9 Odd Number \n",
      "Count of Even Number : 4\n",
      "Count of Odd Number  : 5\n"
     ]
    }
   ],
   "source": [
    "# 6\n",
    "even_count=0\n",
    "odd_count=0\n",
    "list=[1,2,3,4,5,6,7,8,9]\n",
    "for number in list:\n",
    "    if number%2==0:\n",
    "        print(number,'Even Number ')\n",
    "        even_count=even_count+1\n",
    "    else:\n",
    "        print(number,'Odd Number ')\n",
    "        odd_count=odd_count+1        \n",
    "print('Count of Even Number :',even_count)\n",
    "print('Count of Odd Number  :',odd_count)\n",
    "        \n",
    "            "
   ]
  },
  {
   "cell_type": "code",
   "execution_count": 2,
   "id": "8d0946c7",
   "metadata": {},
   "outputs": [
    {
     "name": "stdout",
     "output_type": "stream",
     "text": [
      "Number of even numbers: 4\n",
      "Number of odd numbers: 5\n"
     ]
    }
   ],
   "source": [
    "o=0\n",
    "e=0\n",
    "for i in range(1,10):\n",
    "    if i%2==0:\n",
    "        e=e+1\n",
    "    else:\n",
    "        o=o+1\n",
    "        continue\n",
    "print(\"Number of even numbers:\",e)\n",
    "print(\"Number of odd numbers:\",o)"
   ]
  },
  {
   "cell_type": "code",
   "execution_count": 4,
   "id": "449b21e7",
   "metadata": {},
   "outputs": [
    {
     "name": "stdout",
     "output_type": "stream",
     "text": [
      "1452 ------> <class 'int'>\n",
      "11.23 ------> <class 'float'>\n",
      "(1+2j) ------> <class 'complex'>\n",
      "True ------> <class 'bool'>\n",
      "Python foundation ------> <class 'str'>\n",
      "(0, -1) ------> <class 'tuple'>\n",
      "[5, 12] ------> <class 'list'>\n",
      "{'class': 'V', 'Section': 'A'} ------> <class 'dict'>\n"
     ]
    }
   ],
   "source": [
    "#7\n",
    "num=[1452,11.23,1+2j,True,'Python foundation',(0,-1),[5,12],{'class':'V','Section':'A'}]\n",
    "for i in num:\n",
    "    print(i,\"------>\",type(i))"
   ]
  },
  {
   "cell_type": "code",
   "execution_count": 18,
   "id": "0a15436a",
   "metadata": {},
   "outputs": [
    {
     "name": "stdout",
     "output_type": "stream",
     "text": [
      "1\n",
      "2\n",
      "4\n",
      "5\n"
     ]
    }
   ],
   "source": [
    "#8\n",
    "for i in range(1,7):\n",
    "    if(i%3==0):  # 3,6\n",
    "        continue\n",
    "        print(i)\n",
    "    else:\n",
    "        print(i)        "
   ]
  },
  {
   "cell_type": "code",
   "execution_count": 2,
   "id": "2ae36607",
   "metadata": {},
   "outputs": [],
   "source": [
    "def fib(n):\n",
    "    if n==0 or n==1:\n",
    "        return n\n",
    "    else:\n",
    "        return fib(n-1) + fib(n-2)\n",
    "    "
   ]
  },
  {
   "cell_type": "code",
   "execution_count": 3,
   "id": "87d5a2c4",
   "metadata": {},
   "outputs": [
    {
     "name": "stdout",
     "output_type": "stream",
     "text": [
      "Fib0 is 0\n",
      "Fib1 is 1\n",
      "Fib2 is 1\n",
      "Fib3 is 2\n",
      "Fib4 is 3\n"
     ]
    }
   ],
   "source": [
    "for i in range(0,5):\n",
    "    print(f'Fib{i} is {fib(i)}')"
   ]
  },
  {
   "cell_type": "code",
   "execution_count": 2,
   "id": "f264ed73",
   "metadata": {},
   "outputs": [
    {
     "name": "stdout",
     "output_type": "stream",
     "text": [
      "Enter a Number50\n",
      "0\n",
      "1\n",
      "1\n",
      "2\n",
      "3\n",
      "5\n",
      "8\n",
      "13\n",
      "21\n",
      "34\n",
      "55\n",
      "89\n",
      "144\n",
      "233\n",
      "377\n",
      "610\n",
      "987\n",
      "1597\n",
      "2584\n",
      "4181\n",
      "6765\n",
      "10946\n",
      "17711\n",
      "28657\n",
      "46368\n",
      "75025\n",
      "121393\n",
      "196418\n",
      "317811\n",
      "514229\n",
      "832040\n",
      "1346269\n",
      "2178309\n",
      "3524578\n",
      "5702887\n",
      "9227465\n",
      "14930352\n",
      "24157817\n",
      "39088169\n",
      "63245986\n",
      "102334155\n",
      "165580141\n",
      "267914296\n",
      "433494437\n",
      "701408733\n",
      "1134903170\n",
      "1836311903\n",
      "2971215073\n",
      "4807526976\n",
      "7778742049\n"
     ]
    }
   ],
   "source": [
    "n = int(input('Enter a Number'))\n",
    "a=0\n",
    "b=1\n",
    "for i in range(n):\n",
    "    print(a)\n",
    "    c=a\n",
    "    a=b\n",
    "    b=c+b"
   ]
  },
  {
   "cell_type": "code",
   "execution_count": 5,
   "id": "c0ad5617",
   "metadata": {},
   "outputs": [
    {
     "name": "stdout",
     "output_type": "stream",
     "text": [
      "0 1 1 2 1 3 2 5 3 8 5 13 8 21 13 34 "
     ]
    }
   ],
   "source": [
    "x=0\n",
    "y=1\n",
    "z=1\n",
    "while z<=50:\n",
    "    print(x,z,end=\" \")\n",
    "    x=y\n",
    "    y=z\n",
    "    z=x+y"
   ]
  },
  {
   "cell_type": "code",
   "execution_count": 7,
   "id": "65b04e91",
   "metadata": {},
   "outputs": [
    {
     "name": "stdout",
     "output_type": "stream",
     "text": [
      "1\n",
      "2\n",
      "Fizz\n",
      "4\n",
      "Buzz\n",
      "Fizz\n",
      "7\n",
      "8\n",
      "Fizz\n",
      "Buzz\n",
      "11\n",
      "Fizz\n",
      "13\n",
      "14\n",
      "FizzBuzz\n",
      "16\n",
      "17\n",
      "Fizz\n",
      "19\n",
      "Buzz\n",
      "Fizz\n",
      "22\n",
      "23\n",
      "Fizz\n",
      "Buzz\n",
      "26\n",
      "Fizz\n",
      "28\n",
      "29\n",
      "FizzBuzz\n",
      "31\n",
      "32\n",
      "Fizz\n",
      "34\n",
      "Buzz\n",
      "Fizz\n",
      "37\n",
      "38\n",
      "Fizz\n",
      "Buzz\n",
      "41\n",
      "Fizz\n",
      "43\n",
      "44\n",
      "FizzBuzz\n",
      "46\n",
      "47\n",
      "Fizz\n",
      "49\n"
     ]
    }
   ],
   "source": [
    "# 10\n",
    "for num in range (1,50):\n",
    "    if num %3==0 and num%5==0:\n",
    "        print('FizzBuzz')\n",
    "    elif num %3==0:\n",
    "        print('Fizz')\n",
    "    elif num%5==0:\n",
    "        print('Buzz')\n",
    "    else:\n",
    "        print(num)\n",
    "    \n",
    "        "
   ]
  },
  {
   "cell_type": "code",
   "execution_count": 8,
   "id": "680776ff",
   "metadata": {},
   "outputs": [
    {
     "name": "stdout",
     "output_type": "stream",
     "text": [
      "[[0 0 0 0]\n",
      " [0 1 2 3]\n",
      " [0 2 4 6]]\n"
     ]
    }
   ],
   "source": [
    "import numpy as np\n",
    "b = np.array([[0,0,0,0],[0,1,2,3],[0,2,4,6]])\n",
    "print(b)"
   ]
  },
  {
   "cell_type": "code",
   "execution_count": 6,
   "id": "85c52aef",
   "metadata": {},
   "outputs": [
    {
     "name": "stdout",
     "output_type": "stream",
     "text": [
      "Enter the number of rows:3\n",
      "Enter the number of columns:4\n",
      "0 0 0 0 \n",
      "0 1 2 3 \n",
      "0 2 4 6 \n"
     ]
    }
   ],
   "source": [
    "n=int(input(\"Enter the number of rows:\"))\n",
    "m=int(input(\"Enter the number of columns:\"))\n",
    "for i in range(0,n):\n",
    "    for j in range(0,m):\n",
    "        if i==0 or j==0:\n",
    "            print(0,end=\" \")\n",
    "        elif i==1:\n",
    "            print(j,end=\" \")\n",
    "        else:\n",
    "            print(j*2,end=\" \")\n",
    "    print()"
   ]
  },
  {
   "cell_type": "code",
   "execution_count": null,
   "id": "76d3dfe4",
   "metadata": {},
   "outputs": [],
   "source": []
  },
  {
   "cell_type": "code",
   "execution_count": 5,
   "id": "ee19ba7b",
   "metadata": {},
   "outputs": [
    {
     "ename": "SyntaxError",
     "evalue": "invalid syntax (Temp/ipykernel_13980/1033837251.py, line 3)",
     "output_type": "error",
     "traceback": [
      "\u001b[1;36m  File \u001b[1;32m\"C:\\Users\\ANILTI~1\\AppData\\Local\\Temp/ipykernel_13980/1033837251.py\"\u001b[1;36m, line \u001b[1;32m3\u001b[0m\n\u001b[1;33m    if i in n== n.isalpha()\u001b[0m\n\u001b[1;37m                           ^\u001b[0m\n\u001b[1;31mSyntaxError\u001b[0m\u001b[1;31m:\u001b[0m invalid syntax\n"
     ]
    }
   ],
   "source": []
  },
  {
   "cell_type": "code",
   "execution_count": null,
   "id": "dc61a314",
   "metadata": {},
   "outputs": [],
   "source": []
  }
 ],
 "metadata": {
  "kernelspec": {
   "display_name": "Python 3 (ipykernel)",
   "language": "python",
   "name": "python3"
  },
  "language_info": {
   "codemirror_mode": {
    "name": "ipython",
    "version": 3
   },
   "file_extension": ".py",
   "mimetype": "text/x-python",
   "name": "python",
   "nbconvert_exporter": "python",
   "pygments_lexer": "ipython3",
   "version": "3.9.7"
  }
 },
 "nbformat": 4,
 "nbformat_minor": 5
}
