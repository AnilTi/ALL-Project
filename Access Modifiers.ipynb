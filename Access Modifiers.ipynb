{
 "cells": [
  {
   "cell_type": "markdown",
   "id": "1665c0f2",
   "metadata": {},
   "source": [
    "# Access Modifiers in Python : Public, Private and Protected :-"
   ]
  },
  {
   "cell_type": "markdown",
   "id": "9a274288",
   "metadata": {},
   "source": [
    "<b>A Class in Python has three types of access modifiers:-\n",
    "\n",
    "    (1) Public Access Modifier\n",
    "    (2) Protected Access Modifier\n",
    "    (3) Private Access Modifier"
   ]
  },
  {
   "cell_type": "markdown",
   "id": "a14fee78",
   "metadata": {},
   "source": [
    "<b>Public Access Modifier:</b>\n",
    "The members of a class that are declared public are easily accessible from \n",
    "any part of the program. All data members and member functions of a class \n",
    "are public by default. "
   ]
  },
  {
   "cell_type": "markdown",
   "id": "c7480014",
   "metadata": {},
   "source": [
    "<b>Protected Access Modifier:</b>\n",
    "The members of a class that are declared protected are only accessible to a class derived from it. Data members of a class are declared protected by adding a single underscore ‘_’ symbol before the data member of that class. "
   ]
  },
  {
   "cell_type": "markdown",
   "id": "87e622bb",
   "metadata": {},
   "source": [
    "<b>Private Access Modifier:</b>\n",
    "The members of a class that are declared private are accessible within the class only, private access modifier is the most secure access modifier. Data members of a class are declared private by adding a double underscore ‘__’ symbol before the data member of that class. "
   ]
  },
  {
   "cell_type": "code",
   "execution_count": 27,
   "id": "e24db847",
   "metadata": {},
   "outputs": [],
   "source": [
    "# All the class variables are public:\n",
    "\n",
    "class Car():\n",
    "    def __init__(self,windows,doors,enginetype):\n",
    "        self.windows=windows\n",
    "        self.doors=doors\n",
    "        self.enginetype=enginetype"
   ]
  },
  {
   "cell_type": "code",
   "execution_count": 28,
   "id": "2178e5df",
   "metadata": {},
   "outputs": [
    {
     "name": "stdout",
     "output_type": "stream",
     "text": [
      "4\n",
      "5\n",
      "Diesel\n"
     ]
    }
   ],
   "source": [
    "audi=Car(4,5,\"Diesel\")\n",
    "print(audi.windows)\n",
    "print(audi.doors)\n",
    "print(audi.enginetype)"
   ]
  },
  {
   "cell_type": "code",
   "execution_count": 29,
   "id": "3e8ab511",
   "metadata": {},
   "outputs": [
    {
     "data": {
      "text/plain": [
       "5"
      ]
     },
     "execution_count": 29,
     "metadata": {},
     "output_type": "execute_result"
    }
   ],
   "source": [
    "audi.windows=5\n",
    "audi.windows"
   ]
  },
  {
   "cell_type": "code",
   "execution_count": 30,
   "id": "9f067eee",
   "metadata": {},
   "outputs": [
    {
     "data": {
      "text/plain": [
       "['__class__',\n",
       " '__delattr__',\n",
       " '__dict__',\n",
       " '__dir__',\n",
       " '__doc__',\n",
       " '__eq__',\n",
       " '__format__',\n",
       " '__ge__',\n",
       " '__getattribute__',\n",
       " '__gt__',\n",
       " '__hash__',\n",
       " '__init__',\n",
       " '__init_subclass__',\n",
       " '__le__',\n",
       " '__lt__',\n",
       " '__module__',\n",
       " '__ne__',\n",
       " '__new__',\n",
       " '__reduce__',\n",
       " '__reduce_ex__',\n",
       " '__repr__',\n",
       " '__setattr__',\n",
       " '__sizeof__',\n",
       " '__str__',\n",
       " '__subclasshook__',\n",
       " '__weakref__',\n",
       " 'doors',\n",
       " 'enginetype',\n",
       " 'windows']"
      ]
     },
     "execution_count": 30,
     "metadata": {},
     "output_type": "execute_result"
    }
   ],
   "source": [
    "dir(audi)"
   ]
  },
  {
   "cell_type": "code",
   "execution_count": 31,
   "id": "2a28b094",
   "metadata": {},
   "outputs": [],
   "source": [
    "# All the class variables are protected:\n",
    "\n",
    "class Car():\n",
    "    def __init__(self,windows,doors,enginetype):\n",
    "        self._windows=windows\n",
    "        self._doors=doors\n",
    "        self._enginetype=enginetype"
   ]
  },
  {
   "cell_type": "code",
   "execution_count": 32,
   "id": "f0be3151",
   "metadata": {},
   "outputs": [],
   "source": [
    "#audi=Car(4,5,\"Diesel\")\n",
    "#dir(audi)\n",
    "#print(audi.windows)\n",
    "#print(audi.doors)\n",
    "#print(audi.enginetype)\n",
    "# Using object Protected members of class does not accessed directly,\n",
    "# It is accessed only by the derived class."
   ]
  },
  {
   "cell_type": "code",
   "execution_count": 33,
   "id": "63d4237a",
   "metadata": {},
   "outputs": [],
   "source": [
    "class Truck(Car):\n",
    "    def __init__(self,windows,doors,enginetype,horsepower):\n",
    "        super().__init__(windows,doors,enginetype)\n",
    "        self.horsepower=horsepower"
   ]
  },
  {
   "cell_type": "code",
   "execution_count": 34,
   "id": "50926877",
   "metadata": {},
   "outputs": [
    {
     "name": "stdout",
     "output_type": "stream",
     "text": [
      "4\n",
      "4\n",
      "Diesel\n",
      "4000\n"
     ]
    }
   ],
   "source": [
    "truck=Truck(4,4,\"Diesel\",4000)\n",
    "print(truck._windows)\n",
    "print(truck._doors)\n",
    "print(truck._enginetype)\n",
    "print(truck.horsepower)"
   ]
  },
  {
   "cell_type": "code",
   "execution_count": 35,
   "id": "7e5cfebd",
   "metadata": {},
   "outputs": [
    {
     "data": {
      "text/plain": [
       "['__class__',\n",
       " '__delattr__',\n",
       " '__dict__',\n",
       " '__dir__',\n",
       " '__doc__',\n",
       " '__eq__',\n",
       " '__format__',\n",
       " '__ge__',\n",
       " '__getattribute__',\n",
       " '__gt__',\n",
       " '__hash__',\n",
       " '__init__',\n",
       " '__init_subclass__',\n",
       " '__le__',\n",
       " '__lt__',\n",
       " '__module__',\n",
       " '__ne__',\n",
       " '__new__',\n",
       " '__reduce__',\n",
       " '__reduce_ex__',\n",
       " '__repr__',\n",
       " '__setattr__',\n",
       " '__sizeof__',\n",
       " '__str__',\n",
       " '__subclasshook__',\n",
       " '__weakref__',\n",
       " '_doors',\n",
       " '_enginetype',\n",
       " '_windows',\n",
       " 'horsepower']"
      ]
     },
     "execution_count": 35,
     "metadata": {},
     "output_type": "execute_result"
    }
   ],
   "source": [
    "dir(truck)"
   ]
  },
  {
   "cell_type": "code",
   "execution_count": 36,
   "id": "dab35552",
   "metadata": {},
   "outputs": [],
   "source": [
    "truck._doors=5"
   ]
  },
  {
   "cell_type": "code",
   "execution_count": 37,
   "id": "3d938ed2",
   "metadata": {},
   "outputs": [
    {
     "data": {
      "text/plain": [
       "5"
      ]
     },
     "execution_count": 37,
     "metadata": {},
     "output_type": "execute_result"
    }
   ],
   "source": [
    "truck._doors"
   ]
  },
  {
   "cell_type": "code",
   "execution_count": 38,
   "id": "e1f704b4",
   "metadata": {},
   "outputs": [],
   "source": [
    "# All the class variables are private:\n",
    "\n",
    "class Car():\n",
    "    def __init__(self,windows,doors,enginetype):\n",
    "        self.__windows=windows\n",
    "        self.__doors=doors\n",
    "        self.__enginetype=enginetype\n",
    "    def show(self):\n",
    "        print(self.__windows)\n",
    "        print(self.__doors)\n",
    "        print(self.__enginetype)"
   ]
  },
  {
   "cell_type": "code",
   "execution_count": 39,
   "id": "89030f32",
   "metadata": {},
   "outputs": [],
   "source": [
    "audi=Car(4,4,\"Diesel\")"
   ]
  },
  {
   "cell_type": "code",
   "execution_count": 40,
   "id": "0744eba3",
   "metadata": {},
   "outputs": [],
   "source": [
    "#print(audi.windows)\n",
    "#print(audi.doors)\n",
    "#print(audi.enginetype)"
   ]
  },
  {
   "cell_type": "code",
   "execution_count": 41,
   "id": "2e41ce8c",
   "metadata": {},
   "outputs": [
    {
     "data": {
      "text/plain": [
       "['_Car__doors',\n",
       " '_Car__enginetype',\n",
       " '_Car__windows',\n",
       " '__class__',\n",
       " '__delattr__',\n",
       " '__dict__',\n",
       " '__dir__',\n",
       " '__doc__',\n",
       " '__eq__',\n",
       " '__format__',\n",
       " '__ge__',\n",
       " '__getattribute__',\n",
       " '__gt__',\n",
       " '__hash__',\n",
       " '__init__',\n",
       " '__init_subclass__',\n",
       " '__le__',\n",
       " '__lt__',\n",
       " '__module__',\n",
       " '__ne__',\n",
       " '__new__',\n",
       " '__reduce__',\n",
       " '__reduce_ex__',\n",
       " '__repr__',\n",
       " '__setattr__',\n",
       " '__sizeof__',\n",
       " '__str__',\n",
       " '__subclasshook__',\n",
       " '__weakref__',\n",
       " 'show']"
      ]
     },
     "execution_count": 41,
     "metadata": {},
     "output_type": "execute_result"
    }
   ],
   "source": [
    "dir(audi)"
   ]
  },
  {
   "cell_type": "code",
   "execution_count": 42,
   "id": "7c6f83ac",
   "metadata": {},
   "outputs": [
    {
     "name": "stdout",
     "output_type": "stream",
     "text": [
      "4\n",
      "4\n",
      "Diesel\n"
     ]
    }
   ],
   "source": [
    "audi.show()"
   ]
  },
  {
   "cell_type": "code",
   "execution_count": null,
   "id": "babe7455",
   "metadata": {},
   "outputs": [],
   "source": []
  }
 ],
 "metadata": {
  "kernelspec": {
   "display_name": "Python 3 (ipykernel)",
   "language": "python",
   "name": "python3"
  },
  "language_info": {
   "codemirror_mode": {
    "name": "ipython",
    "version": 3
   },
   "file_extension": ".py",
   "mimetype": "text/x-python",
   "name": "python",
   "nbconvert_exporter": "python",
   "pygments_lexer": "ipython3",
   "version": "3.9.7"
  }
 },
 "nbformat": 4,
 "nbformat_minor": 5
}
