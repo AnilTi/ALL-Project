{
 "cells": [
  {
   "cell_type": "code",
   "execution_count": 5,
   "metadata": {},
   "outputs": [
    {
     "data": {
      "text/html": [
       "        <script type=\"text/javascript\">\n",
       "        window.PlotlyConfig = {MathJaxConfig: 'local'};\n",
       "        if (window.MathJax) {MathJax.Hub.Config({SVG: {font: \"STIX-Web\"}});}\n",
       "        if (typeof require !== 'undefined') {\n",
       "        require.undef(\"plotly\");\n",
       "        requirejs.config({\n",
       "            paths: {\n",
       "                'plotly': ['https://cdn.plot.ly/plotly-latest.min']\n",
       "            }\n",
       "        });\n",
       "        require(['plotly'], function(Plotly) {\n",
       "            window._Plotly = Plotly;\n",
       "        });\n",
       "        }\n",
       "        </script>\n",
       "        "
      ]
     },
     "metadata": {},
     "output_type": "display_data"
    },
    {
     "data": {
      "application/vnd.plotly.v1+json": {
       "config": {
        "linkText": "Export to plotly.com",
        "plotlyServerURL": "https://plotly.com",
        "showLink": false
       },
       "data": [
        {
         "colorscale": [
          [
           0,
           "rgb(12,51,131)"
          ],
          [
           0.25,
           "rgb(10,136,186)"
          ],
          [
           0.5,
           "rgb(242,211,56)"
          ],
          [
           0.75,
           "rgb(242,143,56)"
          ],
          [
           1,
           "rgb(217,30,30)"
          ]
         ],
         "locationmode": "country names",
         "locations": [
          null,
          "World",
          "USA",
          "Spain",
          "Italy",
          "UK",
          "France",
          "Germany",
          "Turkey",
          "Russia",
          "Iran",
          "Brazil",
          "Canada",
          "Belgium",
          "Netherlands",
          "Peru",
          "India",
          "Switzerland",
          "Portugal",
          "Ecuador",
          "Saudi Arabia",
          "Sweden",
          "Ireland",
          "Mexico",
          "Singapore",
          "Pakistan",
          "Chile",
          "Israel",
          "Austria",
          "Japan",
          "Belarus",
          "Qatar",
          "Poland",
          "UAE",
          "Romania",
          "S. Korea",
          "Ukraine",
          "Indonesia",
          "Denmark",
          "Serbia",
          "Philippines",
          "Norway",
          "Czechia",
          "Bangladesh",
          "Dominican Republic",
          "Australia",
          "Panama",
          "Colombia",
          "Malaysia",
          "South Africa",
          "Egypt",
          "Finland",
          "Argentina",
          "Morocco",
          "Kuwait",
          "Algeria",
          "Moldova",
          "Luxembourg",
          "Kazakhstan",
          "Bahrain",
          "Thailand",
          "Hungary",
          "Greece",
          "Oman",
          "Afghanistan",
          "Armenia",
          "Iraq",
          "Croatia",
          "Ghana",
          "Uzbekistan",
          "Nigeria",
          "Cameroon",
          "Azerbaijan",
          "Iceland",
          "Bosnia and Herzegovina",
          "Estonia",
          "Bulgaria",
          "Cuba",
          "Guinea",
          "New Zealand",
          "North Macedonia",
          "Slovenia",
          "Slovakia",
          "Lithuania",
          "Ivory Coast",
          "Bolivia",
          "Djibouti",
          "Hong Kong",
          "Tunisia",
          "Senegal",
          "Latvia",
          "Cyprus",
          "Honduras",
          "Albania",
          "Kyrgyzstan",
          "Andorra",
          "Lebanon",
          "Niger",
          "Costa Rica",
          "Diamond Princess",
          "Sri Lanka",
          "Burkina Faso",
          "Uruguay",
          "Somalia",
          "Guatemala",
          "DRC",
          "San Marino",
          "Georgia",
          "Mayotte",
          "Channel Islands",
          "Mali",
          "Tanzania",
          "Maldives",
          "Malta",
          "Jordan",
          "Sudan",
          "Taiwan",
          "El Salvador",
          "Jamaica",
          "Réunion",
          "Kenya",
          "Palestine",
          "Venezuela",
          "Mauritius",
          "Montenegro",
          "Isle of Man",
          "Equatorial Guinea",
          "Gabon",
          "Vietnam",
          "Paraguay",
          "Rwanda",
          "Congo",
          "Guinea-Bissau",
          "Faeroe Islands",
          "Martinique",
          "Guadeloupe",
          "Myanmar",
          "Gibraltar",
          "Liberia",
          "Brunei ",
          "Ethiopia",
          "Madagascar",
          "French Guiana",
          "Sierra Leone",
          "Cambodia",
          "Cabo Verde",
          "Togo",
          "Trinidad and Tobago",
          "Bermuda",
          "Zambia",
          "Aruba",
          "Eswatini",
          "Monaco",
          "Uganda",
          "Guyana",
          "Liechtenstein",
          "Bahamas",
          "Haiti",
          "Barbados",
          "Mozambique",
          "Sint Maarten",
          "Chad",
          "Cayman Islands",
          "Benin",
          "Libya",
          "French Polynesia",
          "Nepal",
          "CAR",
          "Macao",
          "Syria",
          "Zimbabwe",
          "Eritrea",
          "Saint Martin",
          "Mongolia",
          "Malawi",
          "South Sudan",
          "Angola",
          "Antigua and Barbuda",
          "Timor-Leste",
          "Botswana",
          "Grenada",
          "Laos",
          "Belize",
          "Fiji",
          "New Caledonia",
          "Saint Lucia",
          "Curaçao",
          "Dominica",
          "Namibia",
          "St. Vincent Grenadines",
          "Saint Kitts and Nevis",
          "Tajikistan",
          "Nicaragua",
          "Sao Tome and Principe",
          "Falkland Islands",
          "Turks and Caicos",
          "Burundi",
          "Gambia",
          "Montserrat",
          "Greenland",
          "Vatican City",
          "Seychelles",
          "Suriname",
          "MS Zaandam",
          "Mauritania",
          "Papua New Guinea",
          "Bhutan",
          "Yemen",
          "British Virgin Islands",
          "St. Barth",
          "Western Sahara",
          "Caribbean Netherlands",
          "Anguilla",
          "Comoros",
          "Saint Pierre Miquelon",
          "China"
         ],
         "type": "choropleth",
         "z": [
          "721",
          "3,310,039",
          "1,095,304",
          "239,639",
          "205,463",
          "171,253",
          "167,178",
          "163,009",
          "120,204",
          "106,498",
          "94,640",
          "87,187",
          "53,236",
          "48,519",
          "39,316",
          "36,976",
          "35,043",
          "29,586",
          "25,045",
          "24,934",
          "22,753",
          "21,092",
          "20,612",
          "19,224",
          "17,101",
          "16,817",
          "16,023",
          "16,004",
          "15,452",
          "14,088",
          "14,027",
          "13,409",
          "12,877",
          "12,481",
          "12,240",
          "10,774",
          "10,406",
          "10,118",
          "9,158",
          "9,009",
          "8,488",
          "7,738",
          "7,689",
          "7,667",
          "6,972",
          "6,766",
          "6,532",
          "6,507",
          "6,002",
          "5,647",
          "5,537",
          "4,995",
          "4,428",
          "4,423",
          "4,024",
          "4,006",
          "3,897",
          "3,784",
          "3,551",
          "3,040",
          "2,960",
          "2,863",
          "2,591",
          "2,348",
          "2,171",
          "2,148",
          "2,085",
          "2,076",
          "2,074",
          "2,046",
          "1,932",
          "1,832",
          "1,804",
          "1,797",
          "1,757",
          "1,689",
          "1,541",
          "1,501",
          "1,495",
          "1,479",
          "1,465",
          "1,429",
          "1,396",
          "1,385",
          "1,275",
          "1,167",
          "1,089",
          "1,038",
          "994",
          "933",
          "870",
          "850",
          "804",
          "773",
          "756",
          "745",
          "725",
          "719",
          "719",
          "712",
          "665",
          "645",
          "643",
          "601",
          "599",
          "572",
          "569",
          "566",
          "539",
          "537",
          "490",
          "480",
          "468",
          "465",
          "453",
          "442",
          "429",
          "424",
          "422",
          "420",
          "396",
          "344",
          "333",
          "332",
          "322",
          "315",
          "315",
          "276",
          "270",
          "266",
          "243",
          "220",
          "205",
          "187",
          "178",
          "151",
          "151",
          "144",
          "141",
          "138",
          "131",
          "128",
          "126",
          "124",
          "122",
          "121",
          "116",
          "116",
          "114",
          "106",
          "100",
          "100",
          "95",
          "83",
          "82",
          "82",
          "81",
          "81",
          "81",
          "76",
          "75",
          "73",
          "73",
          "64",
          "61",
          "58",
          "57",
          "50",
          "45",
          "43",
          "40",
          "39",
          "38",
          "38",
          "37",
          "35",
          "27",
          "24",
          "24",
          "23",
          "20",
          "19",
          "18",
          "18",
          "18",
          "17",
          "16",
          "16",
          "16",
          "16",
          "15",
          "15",
          "14",
          "14",
          "13",
          "12",
          "11",
          "11",
          "11",
          "11",
          "11",
          "11",
          "10",
          "9",
          "8",
          "8",
          "7",
          "6",
          "6",
          "6",
          "6",
          "5",
          "3",
          "1",
          "1",
          "82,874"
         ]
        }
       ],
       "layout": {
        "template": {
         "data": {
          "bar": [
           {
            "error_x": {
             "color": "#2a3f5f"
            },
            "error_y": {
             "color": "#2a3f5f"
            },
            "marker": {
             "line": {
              "color": "#E5ECF6",
              "width": 0.5
             }
            },
            "type": "bar"
           }
          ],
          "barpolar": [
           {
            "marker": {
             "line": {
              "color": "#E5ECF6",
              "width": 0.5
             }
            },
            "type": "barpolar"
           }
          ],
          "carpet": [
           {
            "aaxis": {
             "endlinecolor": "#2a3f5f",
             "gridcolor": "white",
             "linecolor": "white",
             "minorgridcolor": "white",
             "startlinecolor": "#2a3f5f"
            },
            "baxis": {
             "endlinecolor": "#2a3f5f",
             "gridcolor": "white",
             "linecolor": "white",
             "minorgridcolor": "white",
             "startlinecolor": "#2a3f5f"
            },
            "type": "carpet"
           }
          ],
          "choropleth": [
           {
            "colorbar": {
             "outlinewidth": 0,
             "ticks": ""
            },
            "type": "choropleth"
           }
          ],
          "contour": [
           {
            "colorbar": {
             "outlinewidth": 0,
             "ticks": ""
            },
            "colorscale": [
             [
              0,
              "#0d0887"
             ],
             [
              0.1111111111111111,
              "#46039f"
             ],
             [
              0.2222222222222222,
              "#7201a8"
             ],
             [
              0.3333333333333333,
              "#9c179e"
             ],
             [
              0.4444444444444444,
              "#bd3786"
             ],
             [
              0.5555555555555556,
              "#d8576b"
             ],
             [
              0.6666666666666666,
              "#ed7953"
             ],
             [
              0.7777777777777778,
              "#fb9f3a"
             ],
             [
              0.8888888888888888,
              "#fdca26"
             ],
             [
              1,
              "#f0f921"
             ]
            ],
            "type": "contour"
           }
          ],
          "contourcarpet": [
           {
            "colorbar": {
             "outlinewidth": 0,
             "ticks": ""
            },
            "type": "contourcarpet"
           }
          ],
          "heatmap": [
           {
            "colorbar": {
             "outlinewidth": 0,
             "ticks": ""
            },
            "colorscale": [
             [
              0,
              "#0d0887"
             ],
             [
              0.1111111111111111,
              "#46039f"
             ],
             [
              0.2222222222222222,
              "#7201a8"
             ],
             [
              0.3333333333333333,
              "#9c179e"
             ],
             [
              0.4444444444444444,
              "#bd3786"
             ],
             [
              0.5555555555555556,
              "#d8576b"
             ],
             [
              0.6666666666666666,
              "#ed7953"
             ],
             [
              0.7777777777777778,
              "#fb9f3a"
             ],
             [
              0.8888888888888888,
              "#fdca26"
             ],
             [
              1,
              "#f0f921"
             ]
            ],
            "type": "heatmap"
           }
          ],
          "heatmapgl": [
           {
            "colorbar": {
             "outlinewidth": 0,
             "ticks": ""
            },
            "colorscale": [
             [
              0,
              "#0d0887"
             ],
             [
              0.1111111111111111,
              "#46039f"
             ],
             [
              0.2222222222222222,
              "#7201a8"
             ],
             [
              0.3333333333333333,
              "#9c179e"
             ],
             [
              0.4444444444444444,
              "#bd3786"
             ],
             [
              0.5555555555555556,
              "#d8576b"
             ],
             [
              0.6666666666666666,
              "#ed7953"
             ],
             [
              0.7777777777777778,
              "#fb9f3a"
             ],
             [
              0.8888888888888888,
              "#fdca26"
             ],
             [
              1,
              "#f0f921"
             ]
            ],
            "type": "heatmapgl"
           }
          ],
          "histogram": [
           {
            "marker": {
             "colorbar": {
              "outlinewidth": 0,
              "ticks": ""
             }
            },
            "type": "histogram"
           }
          ],
          "histogram2d": [
           {
            "colorbar": {
             "outlinewidth": 0,
             "ticks": ""
            },
            "colorscale": [
             [
              0,
              "#0d0887"
             ],
             [
              0.1111111111111111,
              "#46039f"
             ],
             [
              0.2222222222222222,
              "#7201a8"
             ],
             [
              0.3333333333333333,
              "#9c179e"
             ],
             [
              0.4444444444444444,
              "#bd3786"
             ],
             [
              0.5555555555555556,
              "#d8576b"
             ],
             [
              0.6666666666666666,
              "#ed7953"
             ],
             [
              0.7777777777777778,
              "#fb9f3a"
             ],
             [
              0.8888888888888888,
              "#fdca26"
             ],
             [
              1,
              "#f0f921"
             ]
            ],
            "type": "histogram2d"
           }
          ],
          "histogram2dcontour": [
           {
            "colorbar": {
             "outlinewidth": 0,
             "ticks": ""
            },
            "colorscale": [
             [
              0,
              "#0d0887"
             ],
             [
              0.1111111111111111,
              "#46039f"
             ],
             [
              0.2222222222222222,
              "#7201a8"
             ],
             [
              0.3333333333333333,
              "#9c179e"
             ],
             [
              0.4444444444444444,
              "#bd3786"
             ],
             [
              0.5555555555555556,
              "#d8576b"
             ],
             [
              0.6666666666666666,
              "#ed7953"
             ],
             [
              0.7777777777777778,
              "#fb9f3a"
             ],
             [
              0.8888888888888888,
              "#fdca26"
             ],
             [
              1,
              "#f0f921"
             ]
            ],
            "type": "histogram2dcontour"
           }
          ],
          "mesh3d": [
           {
            "colorbar": {
             "outlinewidth": 0,
             "ticks": ""
            },
            "type": "mesh3d"
           }
          ],
          "parcoords": [
           {
            "line": {
             "colorbar": {
              "outlinewidth": 0,
              "ticks": ""
             }
            },
            "type": "parcoords"
           }
          ],
          "pie": [
           {
            "automargin": true,
            "type": "pie"
           }
          ],
          "scatter": [
           {
            "marker": {
             "colorbar": {
              "outlinewidth": 0,
              "ticks": ""
             }
            },
            "type": "scatter"
           }
          ],
          "scatter3d": [
           {
            "line": {
             "colorbar": {
              "outlinewidth": 0,
              "ticks": ""
             }
            },
            "marker": {
             "colorbar": {
              "outlinewidth": 0,
              "ticks": ""
             }
            },
            "type": "scatter3d"
           }
          ],
          "scattercarpet": [
           {
            "marker": {
             "colorbar": {
              "outlinewidth": 0,
              "ticks": ""
             }
            },
            "type": "scattercarpet"
           }
          ],
          "scattergeo": [
           {
            "marker": {
             "colorbar": {
              "outlinewidth": 0,
              "ticks": ""
             }
            },
            "type": "scattergeo"
           }
          ],
          "scattergl": [
           {
            "marker": {
             "colorbar": {
              "outlinewidth": 0,
              "ticks": ""
             }
            },
            "type": "scattergl"
           }
          ],
          "scattermapbox": [
           {
            "marker": {
             "colorbar": {
              "outlinewidth": 0,
              "ticks": ""
             }
            },
            "type": "scattermapbox"
           }
          ],
          "scatterpolar": [
           {
            "marker": {
             "colorbar": {
              "outlinewidth": 0,
              "ticks": ""
             }
            },
            "type": "scatterpolar"
           }
          ],
          "scatterpolargl": [
           {
            "marker": {
             "colorbar": {
              "outlinewidth": 0,
              "ticks": ""
             }
            },
            "type": "scatterpolargl"
           }
          ],
          "scatterternary": [
           {
            "marker": {
             "colorbar": {
              "outlinewidth": 0,
              "ticks": ""
             }
            },
            "type": "scatterternary"
           }
          ],
          "surface": [
           {
            "colorbar": {
             "outlinewidth": 0,
             "ticks": ""
            },
            "colorscale": [
             [
              0,
              "#0d0887"
             ],
             [
              0.1111111111111111,
              "#46039f"
             ],
             [
              0.2222222222222222,
              "#7201a8"
             ],
             [
              0.3333333333333333,
              "#9c179e"
             ],
             [
              0.4444444444444444,
              "#bd3786"
             ],
             [
              0.5555555555555556,
              "#d8576b"
             ],
             [
              0.6666666666666666,
              "#ed7953"
             ],
             [
              0.7777777777777778,
              "#fb9f3a"
             ],
             [
              0.8888888888888888,
              "#fdca26"
             ],
             [
              1,
              "#f0f921"
             ]
            ],
            "type": "surface"
           }
          ],
          "table": [
           {
            "cells": {
             "fill": {
              "color": "#EBF0F8"
             },
             "line": {
              "color": "white"
             }
            },
            "header": {
             "fill": {
              "color": "#C8D4E3"
             },
             "line": {
              "color": "white"
             }
            },
            "type": "table"
           }
          ]
         },
         "layout": {
          "annotationdefaults": {
           "arrowcolor": "#2a3f5f",
           "arrowhead": 0,
           "arrowwidth": 1
          },
          "coloraxis": {
           "colorbar": {
            "outlinewidth": 0,
            "ticks": ""
           }
          },
          "colorscale": {
           "diverging": [
            [
             0,
             "#8e0152"
            ],
            [
             0.1,
             "#c51b7d"
            ],
            [
             0.2,
             "#de77ae"
            ],
            [
             0.3,
             "#f1b6da"
            ],
            [
             0.4,
             "#fde0ef"
            ],
            [
             0.5,
             "#f7f7f7"
            ],
            [
             0.6,
             "#e6f5d0"
            ],
            [
             0.7,
             "#b8e186"
            ],
            [
             0.8,
             "#7fbc41"
            ],
            [
             0.9,
             "#4d9221"
            ],
            [
             1,
             "#276419"
            ]
           ],
           "sequential": [
            [
             0,
             "#0d0887"
            ],
            [
             0.1111111111111111,
             "#46039f"
            ],
            [
             0.2222222222222222,
             "#7201a8"
            ],
            [
             0.3333333333333333,
             "#9c179e"
            ],
            [
             0.4444444444444444,
             "#bd3786"
            ],
            [
             0.5555555555555556,
             "#d8576b"
            ],
            [
             0.6666666666666666,
             "#ed7953"
            ],
            [
             0.7777777777777778,
             "#fb9f3a"
            ],
            [
             0.8888888888888888,
             "#fdca26"
            ],
            [
             1,
             "#f0f921"
            ]
           ],
           "sequentialminus": [
            [
             0,
             "#0d0887"
            ],
            [
             0.1111111111111111,
             "#46039f"
            ],
            [
             0.2222222222222222,
             "#7201a8"
            ],
            [
             0.3333333333333333,
             "#9c179e"
            ],
            [
             0.4444444444444444,
             "#bd3786"
            ],
            [
             0.5555555555555556,
             "#d8576b"
            ],
            [
             0.6666666666666666,
             "#ed7953"
            ],
            [
             0.7777777777777778,
             "#fb9f3a"
            ],
            [
             0.8888888888888888,
             "#fdca26"
            ],
            [
             1,
             "#f0f921"
            ]
           ]
          },
          "colorway": [
           "#636efa",
           "#EF553B",
           "#00cc96",
           "#ab63fa",
           "#FFA15A",
           "#19d3f3",
           "#FF6692",
           "#B6E880",
           "#FF97FF",
           "#FECB52"
          ],
          "font": {
           "color": "#2a3f5f"
          },
          "geo": {
           "bgcolor": "white",
           "lakecolor": "white",
           "landcolor": "#E5ECF6",
           "showlakes": true,
           "showland": true,
           "subunitcolor": "white"
          },
          "hoverlabel": {
           "align": "left"
          },
          "hovermode": "closest",
          "mapbox": {
           "style": "light"
          },
          "paper_bgcolor": "white",
          "plot_bgcolor": "#E5ECF6",
          "polar": {
           "angularaxis": {
            "gridcolor": "white",
            "linecolor": "white",
            "ticks": ""
           },
           "bgcolor": "#E5ECF6",
           "radialaxis": {
            "gridcolor": "white",
            "linecolor": "white",
            "ticks": ""
           }
          },
          "scene": {
           "xaxis": {
            "backgroundcolor": "#E5ECF6",
            "gridcolor": "white",
            "gridwidth": 2,
            "linecolor": "white",
            "showbackground": true,
            "ticks": "",
            "zerolinecolor": "white"
           },
           "yaxis": {
            "backgroundcolor": "#E5ECF6",
            "gridcolor": "white",
            "gridwidth": 2,
            "linecolor": "white",
            "showbackground": true,
            "ticks": "",
            "zerolinecolor": "white"
           },
           "zaxis": {
            "backgroundcolor": "#E5ECF6",
            "gridcolor": "white",
            "gridwidth": 2,
            "linecolor": "white",
            "showbackground": true,
            "ticks": "",
            "zerolinecolor": "white"
           }
          },
          "shapedefaults": {
           "line": {
            "color": "#2a3f5f"
           }
          },
          "ternary": {
           "aaxis": {
            "gridcolor": "white",
            "linecolor": "white",
            "ticks": ""
           },
           "baxis": {
            "gridcolor": "white",
            "linecolor": "white",
            "ticks": ""
           },
           "bgcolor": "#E5ECF6",
           "caxis": {
            "gridcolor": "white",
            "linecolor": "white",
            "ticks": ""
           }
          },
          "title": {
           "x": 0.05
          },
          "xaxis": {
           "automargin": true,
           "gridcolor": "white",
           "linecolor": "white",
           "ticks": "",
           "title": {
            "standoff": 15
           },
           "zerolinecolor": "white",
           "zerolinewidth": 2
          },
          "yaxis": {
           "automargin": true,
           "gridcolor": "white",
           "linecolor": "white",
           "ticks": "",
           "title": {
            "standoff": 15
           },
           "zerolinecolor": "white",
           "zerolinewidth": 2
          }
         }
        }
       }
      },
      "text/html": [
       "<div>\n",
       "        \n",
       "        \n",
       "            <div id=\"9c213ddb-d2cd-4248-b6de-e3b7374a4000\" class=\"plotly-graph-div\" style=\"height:525px; width:100%;\"></div>\n",
       "            <script type=\"text/javascript\">\n",
       "                require([\"plotly\"], function(Plotly) {\n",
       "                    window.PLOTLYENV=window.PLOTLYENV || {};\n",
       "                    \n",
       "                if (document.getElementById(\"9c213ddb-d2cd-4248-b6de-e3b7374a4000\")) {\n",
       "                    Plotly.newPlot(\n",
       "                        '9c213ddb-d2cd-4248-b6de-e3b7374a4000',\n",
       "                        [{\"colorscale\": [[0.0, \"rgb(12,51,131)\"], [0.25, \"rgb(10,136,186)\"], [0.5, \"rgb(242,211,56)\"], [0.75, \"rgb(242,143,56)\"], [1.0, \"rgb(217,30,30)\"]], \"locationmode\": \"country names\", \"locations\": [null, \"World\", \"USA\", \"Spain\", \"Italy\", \"UK\", \"France\", \"Germany\", \"Turkey\", \"Russia\", \"Iran\", \"Brazil\", \"Canada\", \"Belgium\", \"Netherlands\", \"Peru\", \"India\", \"Switzerland\", \"Portugal\", \"Ecuador\", \"Saudi Arabia\", \"Sweden\", \"Ireland\", \"Mexico\", \"Singapore\", \"Pakistan\", \"Chile\", \"Israel\", \"Austria\", \"Japan\", \"Belarus\", \"Qatar\", \"Poland\", \"UAE\", \"Romania\", \"S. Korea\", \"Ukraine\", \"Indonesia\", \"Denmark\", \"Serbia\", \"Philippines\", \"Norway\", \"Czechia\", \"Bangladesh\", \"Dominican Republic\", \"Australia\", \"Panama\", \"Colombia\", \"Malaysia\", \"South Africa\", \"Egypt\", \"Finland\", \"Argentina\", \"Morocco\", \"Kuwait\", \"Algeria\", \"Moldova\", \"Luxembourg\", \"Kazakhstan\", \"Bahrain\", \"Thailand\", \"Hungary\", \"Greece\", \"Oman\", \"Afghanistan\", \"Armenia\", \"Iraq\", \"Croatia\", \"Ghana\", \"Uzbekistan\", \"Nigeria\", \"Cameroon\", \"Azerbaijan\", \"Iceland\", \"Bosnia and Herzegovina\", \"Estonia\", \"Bulgaria\", \"Cuba\", \"Guinea\", \"New Zealand\", \"North Macedonia\", \"Slovenia\", \"Slovakia\", \"Lithuania\", \"Ivory Coast\", \"Bolivia\", \"Djibouti\", \"Hong Kong\", \"Tunisia\", \"Senegal\", \"Latvia\", \"Cyprus\", \"Honduras\", \"Albania\", \"Kyrgyzstan\", \"Andorra\", \"Lebanon\", \"Niger\", \"Costa Rica\", \"Diamond Princess\", \"Sri Lanka\", \"Burkina Faso\", \"Uruguay\", \"Somalia\", \"Guatemala\", \"DRC\", \"San Marino\", \"Georgia\", \"Mayotte\", \"Channel Islands\", \"Mali\", \"Tanzania\", \"Maldives\", \"Malta\", \"Jordan\", \"Sudan\", \"Taiwan\", \"El Salvador\", \"Jamaica\", \"R\\u00e9union\", \"Kenya\", \"Palestine\", \"Venezuela\", \"Mauritius\", \"Montenegro\", \"Isle of Man\", \"Equatorial Guinea\", \"Gabon\", \"Vietnam\", \"Paraguay\", \"Rwanda\", \"Congo\", \"Guinea-Bissau\", \"Faeroe Islands\", \"Martinique\", \"Guadeloupe\", \"Myanmar\", \"Gibraltar\", \"Liberia\", \"Brunei \", \"Ethiopia\", \"Madagascar\", \"French Guiana\", \"Sierra Leone\", \"Cambodia\", \"Cabo Verde\", \"Togo\", \"Trinidad and Tobago\", \"Bermuda\", \"Zambia\", \"Aruba\", \"Eswatini\", \"Monaco\", \"Uganda\", \"Guyana\", \"Liechtenstein\", \"Bahamas\", \"Haiti\", \"Barbados\", \"Mozambique\", \"Sint Maarten\", \"Chad\", \"Cayman Islands\", \"Benin\", \"Libya\", \"French Polynesia\", \"Nepal\", \"CAR\", \"Macao\", \"Syria\", \"Zimbabwe\", \"Eritrea\", \"Saint Martin\", \"Mongolia\", \"Malawi\", \"South Sudan\", \"Angola\", \"Antigua and Barbuda\", \"Timor-Leste\", \"Botswana\", \"Grenada\", \"Laos\", \"Belize\", \"Fiji\", \"New Caledonia\", \"Saint Lucia\", \"Cura\\u00e7ao\", \"Dominica\", \"Namibia\", \"St. Vincent Grenadines\", \"Saint Kitts and Nevis\", \"Tajikistan\", \"Nicaragua\", \"Sao Tome and Principe\", \"Falkland Islands\", \"Turks and Caicos\", \"Burundi\", \"Gambia\", \"Montserrat\", \"Greenland\", \"Vatican City\", \"Seychelles\", \"Suriname\", \"MS Zaandam\", \"Mauritania\", \"Papua New Guinea\", \"Bhutan\", \"Yemen\", \"British Virgin Islands\", \"St. Barth\", \"Western Sahara\", \"Caribbean Netherlands\", \"Anguilla\", \"Comoros\", \"Saint Pierre Miquelon\", \"China\"], \"type\": \"choropleth\", \"z\": [\"721\", \"3,310,039\", \"1,095,304\", \"239,639\", \"205,463\", \"171,253\", \"167,178\", \"163,009\", \"120,204\", \"106,498\", \"94,640\", \"87,187\", \"53,236\", \"48,519\", \"39,316\", \"36,976\", \"35,043\", \"29,586\", \"25,045\", \"24,934\", \"22,753\", \"21,092\", \"20,612\", \"19,224\", \"17,101\", \"16,817\", \"16,023\", \"16,004\", \"15,452\", \"14,088\", \"14,027\", \"13,409\", \"12,877\", \"12,481\", \"12,240\", \"10,774\", \"10,406\", \"10,118\", \"9,158\", \"9,009\", \"8,488\", \"7,738\", \"7,689\", \"7,667\", \"6,972\", \"6,766\", \"6,532\", \"6,507\", \"6,002\", \"5,647\", \"5,537\", \"4,995\", \"4,428\", \"4,423\", \"4,024\", \"4,006\", \"3,897\", \"3,784\", \"3,551\", \"3,040\", \"2,960\", \"2,863\", \"2,591\", \"2,348\", \"2,171\", \"2,148\", \"2,085\", \"2,076\", \"2,074\", \"2,046\", \"1,932\", \"1,832\", \"1,804\", \"1,797\", \"1,757\", \"1,689\", \"1,541\", \"1,501\", \"1,495\", \"1,479\", \"1,465\", \"1,429\", \"1,396\", \"1,385\", \"1,275\", \"1,167\", \"1,089\", \"1,038\", \"994\", \"933\", \"870\", \"850\", \"804\", \"773\", \"756\", \"745\", \"725\", \"719\", \"719\", \"712\", \"665\", \"645\", \"643\", \"601\", \"599\", \"572\", \"569\", \"566\", \"539\", \"537\", \"490\", \"480\", \"468\", \"465\", \"453\", \"442\", \"429\", \"424\", \"422\", \"420\", \"396\", \"344\", \"333\", \"332\", \"322\", \"315\", \"315\", \"276\", \"270\", \"266\", \"243\", \"220\", \"205\", \"187\", \"178\", \"151\", \"151\", \"144\", \"141\", \"138\", \"131\", \"128\", \"126\", \"124\", \"122\", \"121\", \"116\", \"116\", \"114\", \"106\", \"100\", \"100\", \"95\", \"83\", \"82\", \"82\", \"81\", \"81\", \"81\", \"76\", \"75\", \"73\", \"73\", \"64\", \"61\", \"58\", \"57\", \"50\", \"45\", \"43\", \"40\", \"39\", \"38\", \"38\", \"37\", \"35\", \"27\", \"24\", \"24\", \"23\", \"20\", \"19\", \"18\", \"18\", \"18\", \"17\", \"16\", \"16\", \"16\", \"16\", \"15\", \"15\", \"14\", \"14\", \"13\", \"12\", \"11\", \"11\", \"11\", \"11\", \"11\", \"11\", \"10\", \"9\", \"8\", \"8\", \"7\", \"6\", \"6\", \"6\", \"6\", \"5\", \"3\", \"1\", \"1\", \"82,874\"]}],\n",
       "                        {\"template\": {\"data\": {\"bar\": [{\"error_x\": {\"color\": \"#2a3f5f\"}, \"error_y\": {\"color\": \"#2a3f5f\"}, \"marker\": {\"line\": {\"color\": \"#E5ECF6\", \"width\": 0.5}}, \"type\": \"bar\"}], \"barpolar\": [{\"marker\": {\"line\": {\"color\": \"#E5ECF6\", \"width\": 0.5}}, \"type\": \"barpolar\"}], \"carpet\": [{\"aaxis\": {\"endlinecolor\": \"#2a3f5f\", \"gridcolor\": \"white\", \"linecolor\": \"white\", \"minorgridcolor\": \"white\", \"startlinecolor\": \"#2a3f5f\"}, \"baxis\": {\"endlinecolor\": \"#2a3f5f\", \"gridcolor\": \"white\", \"linecolor\": \"white\", \"minorgridcolor\": \"white\", \"startlinecolor\": \"#2a3f5f\"}, \"type\": \"carpet\"}], \"choropleth\": [{\"colorbar\": {\"outlinewidth\": 0, \"ticks\": \"\"}, \"type\": \"choropleth\"}], \"contour\": [{\"colorbar\": {\"outlinewidth\": 0, \"ticks\": \"\"}, \"colorscale\": [[0.0, \"#0d0887\"], [0.1111111111111111, \"#46039f\"], [0.2222222222222222, \"#7201a8\"], [0.3333333333333333, \"#9c179e\"], [0.4444444444444444, \"#bd3786\"], [0.5555555555555556, \"#d8576b\"], [0.6666666666666666, \"#ed7953\"], [0.7777777777777778, \"#fb9f3a\"], [0.8888888888888888, \"#fdca26\"], [1.0, \"#f0f921\"]], \"type\": \"contour\"}], \"contourcarpet\": [{\"colorbar\": {\"outlinewidth\": 0, \"ticks\": \"\"}, \"type\": \"contourcarpet\"}], \"heatmap\": [{\"colorbar\": {\"outlinewidth\": 0, \"ticks\": \"\"}, \"colorscale\": [[0.0, \"#0d0887\"], [0.1111111111111111, \"#46039f\"], [0.2222222222222222, \"#7201a8\"], [0.3333333333333333, \"#9c179e\"], [0.4444444444444444, \"#bd3786\"], [0.5555555555555556, \"#d8576b\"], [0.6666666666666666, \"#ed7953\"], [0.7777777777777778, \"#fb9f3a\"], [0.8888888888888888, \"#fdca26\"], [1.0, \"#f0f921\"]], \"type\": \"heatmap\"}], \"heatmapgl\": [{\"colorbar\": {\"outlinewidth\": 0, \"ticks\": \"\"}, \"colorscale\": [[0.0, \"#0d0887\"], [0.1111111111111111, \"#46039f\"], [0.2222222222222222, \"#7201a8\"], [0.3333333333333333, \"#9c179e\"], [0.4444444444444444, \"#bd3786\"], [0.5555555555555556, \"#d8576b\"], [0.6666666666666666, \"#ed7953\"], [0.7777777777777778, \"#fb9f3a\"], [0.8888888888888888, \"#fdca26\"], [1.0, \"#f0f921\"]], \"type\": \"heatmapgl\"}], \"histogram\": [{\"marker\": {\"colorbar\": {\"outlinewidth\": 0, \"ticks\": \"\"}}, \"type\": \"histogram\"}], \"histogram2d\": [{\"colorbar\": {\"outlinewidth\": 0, \"ticks\": \"\"}, \"colorscale\": [[0.0, \"#0d0887\"], [0.1111111111111111, \"#46039f\"], [0.2222222222222222, \"#7201a8\"], [0.3333333333333333, \"#9c179e\"], [0.4444444444444444, \"#bd3786\"], [0.5555555555555556, \"#d8576b\"], [0.6666666666666666, \"#ed7953\"], [0.7777777777777778, \"#fb9f3a\"], [0.8888888888888888, \"#fdca26\"], [1.0, \"#f0f921\"]], \"type\": \"histogram2d\"}], \"histogram2dcontour\": [{\"colorbar\": {\"outlinewidth\": 0, \"ticks\": \"\"}, \"colorscale\": [[0.0, \"#0d0887\"], [0.1111111111111111, \"#46039f\"], [0.2222222222222222, \"#7201a8\"], [0.3333333333333333, \"#9c179e\"], [0.4444444444444444, \"#bd3786\"], [0.5555555555555556, \"#d8576b\"], [0.6666666666666666, \"#ed7953\"], [0.7777777777777778, \"#fb9f3a\"], [0.8888888888888888, \"#fdca26\"], [1.0, \"#f0f921\"]], \"type\": \"histogram2dcontour\"}], \"mesh3d\": [{\"colorbar\": {\"outlinewidth\": 0, \"ticks\": \"\"}, \"type\": \"mesh3d\"}], \"parcoords\": [{\"line\": {\"colorbar\": {\"outlinewidth\": 0, \"ticks\": \"\"}}, \"type\": \"parcoords\"}], \"pie\": [{\"automargin\": true, \"type\": \"pie\"}], \"scatter\": [{\"marker\": {\"colorbar\": {\"outlinewidth\": 0, \"ticks\": \"\"}}, \"type\": \"scatter\"}], \"scatter3d\": [{\"line\": {\"colorbar\": {\"outlinewidth\": 0, \"ticks\": \"\"}}, \"marker\": {\"colorbar\": {\"outlinewidth\": 0, \"ticks\": \"\"}}, \"type\": \"scatter3d\"}], \"scattercarpet\": [{\"marker\": {\"colorbar\": {\"outlinewidth\": 0, \"ticks\": \"\"}}, \"type\": \"scattercarpet\"}], \"scattergeo\": [{\"marker\": {\"colorbar\": {\"outlinewidth\": 0, \"ticks\": \"\"}}, \"type\": \"scattergeo\"}], \"scattergl\": [{\"marker\": {\"colorbar\": {\"outlinewidth\": 0, \"ticks\": \"\"}}, \"type\": \"scattergl\"}], \"scattermapbox\": [{\"marker\": {\"colorbar\": {\"outlinewidth\": 0, \"ticks\": \"\"}}, \"type\": \"scattermapbox\"}], \"scatterpolar\": [{\"marker\": {\"colorbar\": {\"outlinewidth\": 0, \"ticks\": \"\"}}, \"type\": \"scatterpolar\"}], \"scatterpolargl\": [{\"marker\": {\"colorbar\": {\"outlinewidth\": 0, \"ticks\": \"\"}}, \"type\": \"scatterpolargl\"}], \"scatterternary\": [{\"marker\": {\"colorbar\": {\"outlinewidth\": 0, \"ticks\": \"\"}}, \"type\": \"scatterternary\"}], \"surface\": [{\"colorbar\": {\"outlinewidth\": 0, \"ticks\": \"\"}, \"colorscale\": [[0.0, \"#0d0887\"], [0.1111111111111111, \"#46039f\"], [0.2222222222222222, \"#7201a8\"], [0.3333333333333333, \"#9c179e\"], [0.4444444444444444, \"#bd3786\"], [0.5555555555555556, \"#d8576b\"], [0.6666666666666666, \"#ed7953\"], [0.7777777777777778, \"#fb9f3a\"], [0.8888888888888888, \"#fdca26\"], [1.0, \"#f0f921\"]], \"type\": \"surface\"}], \"table\": [{\"cells\": {\"fill\": {\"color\": \"#EBF0F8\"}, \"line\": {\"color\": \"white\"}}, \"header\": {\"fill\": {\"color\": \"#C8D4E3\"}, \"line\": {\"color\": \"white\"}}, \"type\": \"table\"}]}, \"layout\": {\"annotationdefaults\": {\"arrowcolor\": \"#2a3f5f\", \"arrowhead\": 0, \"arrowwidth\": 1}, \"coloraxis\": {\"colorbar\": {\"outlinewidth\": 0, \"ticks\": \"\"}}, \"colorscale\": {\"diverging\": [[0, \"#8e0152\"], [0.1, \"#c51b7d\"], [0.2, \"#de77ae\"], [0.3, \"#f1b6da\"], [0.4, \"#fde0ef\"], [0.5, \"#f7f7f7\"], [0.6, \"#e6f5d0\"], [0.7, \"#b8e186\"], [0.8, \"#7fbc41\"], [0.9, \"#4d9221\"], [1, \"#276419\"]], \"sequential\": [[0.0, \"#0d0887\"], [0.1111111111111111, \"#46039f\"], [0.2222222222222222, \"#7201a8\"], [0.3333333333333333, \"#9c179e\"], [0.4444444444444444, \"#bd3786\"], [0.5555555555555556, \"#d8576b\"], [0.6666666666666666, \"#ed7953\"], [0.7777777777777778, \"#fb9f3a\"], [0.8888888888888888, \"#fdca26\"], [1.0, \"#f0f921\"]], \"sequentialminus\": [[0.0, \"#0d0887\"], [0.1111111111111111, \"#46039f\"], [0.2222222222222222, \"#7201a8\"], [0.3333333333333333, \"#9c179e\"], [0.4444444444444444, \"#bd3786\"], [0.5555555555555556, \"#d8576b\"], [0.6666666666666666, \"#ed7953\"], [0.7777777777777778, \"#fb9f3a\"], [0.8888888888888888, \"#fdca26\"], [1.0, \"#f0f921\"]]}, \"colorway\": [\"#636efa\", \"#EF553B\", \"#00cc96\", \"#ab63fa\", \"#FFA15A\", \"#19d3f3\", \"#FF6692\", \"#B6E880\", \"#FF97FF\", \"#FECB52\"], \"font\": {\"color\": \"#2a3f5f\"}, \"geo\": {\"bgcolor\": \"white\", \"lakecolor\": \"white\", \"landcolor\": \"#E5ECF6\", \"showlakes\": true, \"showland\": true, \"subunitcolor\": \"white\"}, \"hoverlabel\": {\"align\": \"left\"}, \"hovermode\": \"closest\", \"mapbox\": {\"style\": \"light\"}, \"paper_bgcolor\": \"white\", \"plot_bgcolor\": \"#E5ECF6\", \"polar\": {\"angularaxis\": {\"gridcolor\": \"white\", \"linecolor\": \"white\", \"ticks\": \"\"}, \"bgcolor\": \"#E5ECF6\", \"radialaxis\": {\"gridcolor\": \"white\", \"linecolor\": \"white\", \"ticks\": \"\"}}, \"scene\": {\"xaxis\": {\"backgroundcolor\": \"#E5ECF6\", \"gridcolor\": \"white\", \"gridwidth\": 2, \"linecolor\": \"white\", \"showbackground\": true, \"ticks\": \"\", \"zerolinecolor\": \"white\"}, \"yaxis\": {\"backgroundcolor\": \"#E5ECF6\", \"gridcolor\": \"white\", \"gridwidth\": 2, \"linecolor\": \"white\", \"showbackground\": true, \"ticks\": \"\", \"zerolinecolor\": \"white\"}, \"zaxis\": {\"backgroundcolor\": \"#E5ECF6\", \"gridcolor\": \"white\", \"gridwidth\": 2, \"linecolor\": \"white\", \"showbackground\": true, \"ticks\": \"\", \"zerolinecolor\": \"white\"}}, \"shapedefaults\": {\"line\": {\"color\": \"#2a3f5f\"}}, \"ternary\": {\"aaxis\": {\"gridcolor\": \"white\", \"linecolor\": \"white\", \"ticks\": \"\"}, \"baxis\": {\"gridcolor\": \"white\", \"linecolor\": \"white\", \"ticks\": \"\"}, \"bgcolor\": \"#E5ECF6\", \"caxis\": {\"gridcolor\": \"white\", \"linecolor\": \"white\", \"ticks\": \"\"}}, \"title\": {\"x\": 0.05}, \"xaxis\": {\"automargin\": true, \"gridcolor\": \"white\", \"linecolor\": \"white\", \"ticks\": \"\", \"title\": {\"standoff\": 15}, \"zerolinecolor\": \"white\", \"zerolinewidth\": 2}, \"yaxis\": {\"automargin\": true, \"gridcolor\": \"white\", \"linecolor\": \"white\", \"ticks\": \"\", \"title\": {\"standoff\": 15}, \"zerolinecolor\": \"white\", \"zerolinewidth\": 2}}}},\n",
       "                        {\"responsive\": true}\n",
       "                    ).then(function(){\n",
       "                            \n",
       "var gd = document.getElementById('9c213ddb-d2cd-4248-b6de-e3b7374a4000');\n",
       "var x = new MutationObserver(function (mutations, observer) {{\n",
       "        var display = window.getComputedStyle(gd).display;\n",
       "        if (!display || display === 'none') {{\n",
       "            console.log([gd, 'removed!']);\n",
       "            Plotly.purge(gd);\n",
       "            observer.disconnect();\n",
       "        }}\n",
       "}});\n",
       "\n",
       "// Listen for the removal of the full notebook cells\n",
       "var notebookContainer = gd.closest('#notebook-container');\n",
       "if (notebookContainer) {{\n",
       "    x.observe(notebookContainer, {childList: true});\n",
       "}}\n",
       "\n",
       "// Listen for the clearing of the current output cell\n",
       "var outputEl = gd.closest('.output');\n",
       "if (outputEl) {{\n",
       "    x.observe(outputEl, {childList: true});\n",
       "}}\n",
       "\n",
       "                        })\n",
       "                };\n",
       "                });\n",
       "            </script>\n",
       "        </div>"
      ]
     },
     "metadata": {},
     "output_type": "display_data"
    }
   ],
   "source": [
    "import chart_studio.plotly as py\n",
    "import plotly.graph_objs as go\n",
    "import pandas as pd\n",
    "\n",
    "from plotly.offline import download_plotlyjs, init_notebook_mode, iplot, plot \n",
    "\n",
    "# To establish connection \n",
    "init_notebook_mode(connected = True)\n",
    "\n",
    "df = pd.read_csv(\"base_data.csv\")\n",
    "\n",
    "data = dict (\n",
    "    type = 'choropleth',\n",
    "    locations = df['Country'],\n",
    "    locationmode='country names',\n",
    "    colorscale = 'Portland',\n",
    "    z=df['Total Cases'])\n",
    "\n",
    "map = go.Figure(data=[data])\n",
    "iplot(map)"
   ]
  },
  {
   "cell_type": "code",
   "execution_count": null,
   "metadata": {},
   "outputs": [],
   "source": []
  }
 ],
 "metadata": {
  "kernelspec": {
   "display_name": "Python 3",
   "language": "python",
   "name": "python3"
  },
  "language_info": {
   "codemirror_mode": {
    "name": "ipython",
    "version": 3
   },
   "file_extension": ".py",
   "mimetype": "text/x-python",
   "name": "python",
   "nbconvert_exporter": "python",
   "pygments_lexer": "ipython3",
   "version": "3.7.3"
  }
 },
 "nbformat": 4,
 "nbformat_minor": 2
}
