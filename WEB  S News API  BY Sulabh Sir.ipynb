{
 "cells": [
  {
   "cell_type": "code",
   "execution_count": 1,
   "id": "2b50dea2",
   "metadata": {},
   "outputs": [],
   "source": [
    "import bs4\n",
    "import requests"
   ]
  },
  {
   "cell_type": "code",
   "execution_count": 25,
   "id": "b4989eef",
   "metadata": {},
   "outputs": [],
   "source": [
    "url=\"https://newsapi.org/v2/everything?q=tesla&from=2021-12-31&sortBy=publishedAt&apiKey=4d99f8f033a54cceadb486bbe4341520\"\n",
    "data=requests.get(url)"
   ]
  },
  {
   "cell_type": "code",
   "execution_count": 26,
   "id": "9a28decf",
   "metadata": {},
   "outputs": [
    {
     "name": "stdout",
     "output_type": "stream",
     "text": [
      "<Response [200]>\n"
     ]
    }
   ],
   "source": [
    "print(data)"
   ]
  },
  {
   "cell_type": "code",
   "execution_count": 27,
   "id": "ad7576d5",
   "metadata": {},
   "outputs": [
    {
     "name": "stdout",
     "output_type": "stream",
     "text": [
      "{\"status\":\"ok\",\"totalResults\":13251,\"articles\":[{\"source\":{\"id\":null,\"name\":\"N-tv.de\"},\"author\":\"n-tv NACHRICHTEN\",\"title\":\"Angebote bei Amazon &amp; Co.: Deal des Tages: Noise-Cancelling-Kopfhörer zum Bestpreis\",\"description\":\"Wie gut sind Sonderangebote wirklich? Handelt es sich um echte Schnäppchen oder sehen die Deals nur günstig aus? Der ntv-Check zeigt die echten Preiskracher und lohnende Rabatte.\",\"url\":\"https://www.n-tv.de/ratgeber/shopping-and-service/Deal-des-Tages-Noise-Cancelling-Kopfhoerer-zum-Bestpreis-article22209591.html\",\"urlToImage\":\"https://bilder4.n-tv.de/img/shopping-and-service/crop23090439/4931328401-cImg_16_9-w1200/Wir-finden-taglich-die-besten-Deals-fur-Kopfhorer-Smartphones-Fernseher-Co.jpg\",\"publishedAt\":\"2022-01-31T07:04:00Z\",\"content\":\"Wie gut sind Sonderangebote wirklich? Handelt es sich um echte Schnäppchen oder sehen die Deals nur günstig aus? Der ntv-Check zeigt die echten Preiskracher und lohnende Rabatte.\\r\\nTrotz Tagesangebote… [+11365 chars]\"},{\"source\":{\"id\":null,\"name\":\"Diit.cz\"},\"author\":\"no-X\",\"title\":\"Hopper GH100 nestojí na čipletech, jde o téměř 1000mm² monolit\",\"description\":\"Vypadá to, že zvěsti o čipletové architektuře Nvidie byly poněkud předčasné. Podle nových informací je jádro GH100 architektury Hopper největší monolit, který kdy Nvidia připravila…\",\"url\":\"https://diit.cz/clanek/hopper-gh100-nestoji-na-cipletech-jde-o-temer-1000mm2-monolit\",\"urlToImage\":\"https://diit.cz/sites/default/files/grace_hopper.jpg\",\"publishedAt\":\"2022-01-31T07:00:00Z\",\"content\":\"Zatímco o graficky orientované architektue Lovelace, na ní Nvidia postaví novou generaci karet pro desktop, se mluvilo jako o monolitickém eení, výpoetní Hopper mla být první adou Nvidie vyuívající i… [+7051 chars]\"},{\"source\":{\"id\":null,\"name\":\"Www.nu.nl\"},\"author\":\"NU.nl\",\"title\":\"Elon Musk wil Twitter-account offline hebben dat zijn privéjet volgt\",\"description\":\"Elon Musk heeft een 19-jarige man uit Florida geld geboden om een tweetbot uit de lucht te halen die de vluchten van zijn privéjet bijhoudt. Dat schrijft CNN.\",\"url\":\"https://www.nu.nl/tech/6181186/elon-musk-wil-twitter-account-offline-hebben-dat-zijn-privejet-volgt.html\",\"urlToImage\":\"https://media.nu.nl/m/emsx6gnazu5a_wd1280.jpg/elon-musk-wil-twitter-account-offline-hebben-dat-zijn-privejet-volgt.jpg\",\"publishedAt\":\"2022-01-31T06:59:01Z\",\"content\":\"Elon Musk heeft een 19-jarige man uit Florida geld geboden om een tweetbot uit de lucht te halen die de vluchten van zijn privéjet bijhoudt. Dat schrijft CNN.\\r\\nDe 19-jarige Jack Sweeney kreeg eind no… [+667 chars]\"},{\"source\":{\"id\":null,\"name\":\"M3.idg.se\"},\"author\":null,\"title\":\"Tesla släpper Tesla Mic – sjung karaoke medan bilen laddar\",\"description\":\"Mikrofonen kommer bara säljas i Kina.\",\"url\":\"https://m3.idg.se/2.1022/1.762008/tesla-slapper-tesla-mic--sjung-karaoke-medan-bilen-laddar\",\"urlToImage\":\"https://www.idg.se/editorial/1200/path/1.762008.1643565779!teaserImage/imageTypeSelector/localImage/95150706.jpg\",\"publishedAt\":\"2022-01-31T06:59:00Z\",\"content\":\"Lagom till det kommande kinesiska nyåret håller Tesla som bäst på att förbereda en större mjukvaruuppdatering, en uppdatering som ofta brukar innehålla diverse överraskningar. Den här gången går Tesl… [+420 chars]\"},{\"source\":{\"id\":null,\"name\":\"Shiftdelete.net\"},\"author\":\"Faruk Doğan\",\"title\":\"Elon Musk’ın teklifini beğenmeyen genç daha fazla para istedi\",\"description\":\"Özel jetini takip eden gence bunu durdurması karşılığı 5 bin dolar teklif eden Elon Musk, ilginç bir cevap aldı.\\nBu içerik ilk olarak Elon Musk’ın teklifini beğenmeyen genç daha fazla para istedi adresinde yayınlandı Teknoloji Haberleri - ShiftDelete.Net.\",\"url\":\"https://shiftdelete.net/elon-musk-in-teklifini-begenmeyen-genc-daha-fazla-para-istedi\",\"urlToImage\":\"https://shiftdelete.net/wp-content/uploads/2022/01/elon-musk-in-teklifini-begenmeyen-genc-daha-fazla-para-istedi.jpg\",\"publishedAt\":\"2022-01-31T06:56:15Z\",\"content\":\"Dünyann en zengin insanlarndan Elon Musk, bir üniversite örencisiyle anlamazlk yayor. Central Florida Üniversitesi’nde okuyan 19 yandaki Jack Sweeney, gelitirdii özel bir yazlm araclyla otomatik hava… [+2066 chars]\"},{\"source\":{\"id\":null,\"name\":\"Computerworld.dk\"},\"author\":\"Jakob Schjoldager\",\"title\":\"Tech-rigmænd har tabt over 600 milliarder alene i januar\",\"description\":\"Verdens rigeste it-milliadærer har tabt milliarder af kroner i løbet af den første måned i 2022. Fladet kommet dog efter historisk store stigninger i rigmændenes formue efter coronakrisen.\",\"url\":\"https://www.computerworld.dk/art/259544/tech-rigmaend-har-tabt-over-600-milliarder-kroner-alene-i-januar\",\"urlToImage\":\"https://www.computerworld.dk/fil/199587?width=600&amp;height=315&amp;focus=1\",\"publishedAt\":\"2022-01-31T06:48:00Z\",\"content\":\"Verdens rigeste it-milliadærer har tabt milliarder af kroner i løbet af den første måned i 2022. Fladet kommet dog efter historisk store stigninger i rigmændenes formue efter coronakrisen.Annonceindl… [+1349 chars]\"},{\"source\":{\"id\":null,\"name\":\"Ixbt.com\"},\"author\":\"jin@ixbt.com (Jin)\",\"title\":\"Tesla купила железную дорогу, чтобы облегчить сотрудникам дорогу на работу\",\"description\":\"Министерство инфраструктуры и национального планирования Германии подтвердило на прошлой неделе, что Tesla приобрела существующий железнодорожный путь у немецкой региональной железнодорожной группы DRE. Железная дорога проходит от города Эркнер до станции к ю…\",\"url\":\"https://www.ixbt.com/news/2022/01/31/tesla-kupila-zheleznuju-dorogu-chtoby-oblegchit-sotrudnikam-dorogu-na-rabotu.html\",\"urlToImage\":\"https://www.ixbt.com/img/n1/news/2022/0/1/tesla-model-y-at-a-supercharging-station_large_0_large.jpg\",\"publishedAt\":\"2022-01-31T06:47:00Z\",\"content\":\", Tesla DRE.\\r\\n . Fangschleuse, - . , Tesla , .\\r\\n 2021 , . , Model Y, Tesla, .\\r\\n , Tesla Model Y 565 , , , .\\r\\nTesla 1000 Model Y 2022 . Gigafactory Tesla 500 000 .\"},{\"source\":{\"id\":null,\"name\":\"Madshrimps.be\"},\"author\":\"Stefan Mileschin\",\"title\":\"Tesla is selling a microphone for in-car karaoke, but only in China\",\"description\":\"Tesla is selling a new accessory: a microphone for in-car karaoke. The TeslaMic is only available in China for the time being. The company introduced it amid the rollout of a Chinese New Year software update, which adds a karaoke platform called Leishi KTV to…\",\"url\":\"http://www.madshrimps.be/news/item/211823\",\"urlToImage\":null,\"publishedAt\":\"2022-01-31T06:38:39Z\",\"content\":\"Copyright © 2001-2011 Madshrimps, All rights reserved.Graphic Design by Dennis Kestelle, Programming by Maarten Menten,\\r\\nOverall Site design by John Meys\\r\\nAll information and graphics contained in Ma… [+135 chars]\"},{\"source\":{\"id\":null,\"name\":\"Corriere.it\"},\"author\":\"Redazione Tecnologia\",\"title\":\"Studente 19enne crea bot che traccia i voli del jet privato di Musk: per fermarlo, lui gli offre 5mila dollari\",\"description\":\"L'account Twitter si chiama Elon Musk Jet e mostra le rotte aeree percorse dal milionario. Lo ha creato Jack Sweeney, uno studente della University of Central Florida\",\"url\":\"https://www.corriere.it/tecnologia/22_gennaio_31/studente-19enne-crea-bot-che-traccia-voli-jet-privato-musk-fermarlo-lui-offre-5mila-dollari-36d0b378-80a9-11ec-9fac-a85f17701932.shtml\",\"urlToImage\":\"https://images2.corriereobjects.it/methode_image/socialshare/2022/01/29/9092ee72-80b2-11ec-9fac-a85f17701932.jpg\",\"publishedAt\":\"2022-01-31T06:35:42Z\",\"content\":\"di Redazione TecnologiaL'account Twitter si chiama Elon Musk Jet e mostra le rotte aeree percorse dal milionario. Lo ha creato Jack Sweeney, uno studente della University of Central Florida \\r\\nSi chia… [+3400 chars]\"},{\"source\":{\"id\":null,\"name\":\"Madshrimps.be\"},\"author\":\"Stefan Mileschin\",\"title\":\"Apples triumph over supply-chain shortage is a disaster\",\"description\":\"Wall Street warns it is not good news\\n\\nThe Tame Apple Press has been praising Apples cleverness in overcoming the global chips supply-chain shortage, when it should be really concerned about the cost of Job's Mob's success.\\n\\nThe iPhone maker, which had warne…\",\"url\":\"http://www.madshrimps.be/news/item/211813\",\"urlToImage\":null,\"publishedAt\":\"2022-01-31T06:33:52Z\",\"content\":\"Wall Street warns it is not good newsThe Tame Apple Press has been praising Apples cleverness in overcoming the global chips supply-chain shortage, when it should be really concerned about the cost o… [+821 chars]\"},{\"source\":{\"id\":null,\"name\":\"Habr.com\"},\"author\":\"SearchInform_team\",\"title\":\"(Не) безопасный дайджест post New Year: атака на Tesla, похищенные учетки в FIFA и Google Maps в поисках крестного отца\",\"description\":\"Пришло время обсудить, что случилось, пока мы отмечали новогодние праздники. В традиционном дайджесте собрали небольшую, но очень впечатляющую подборку ИБ-инцидентов, о которых писали СМИ в январе – тут и печальный конец «прославившейся» группировки REvil, и …\",\"url\":\"https://habr.com/ru/company/searchinform/blog/648699/#post-content-body\",\"urlToImage\":\"https://habrastorage.org/getpro/habr/upload_files/4a9/eba/20b/4a9eba20bed658bd7aed1b6bc022d327.jpg\",\"publishedAt\":\"2022-01-31T06:25:26Z\",\"content\":\", , .  , -, «» REvil, , 60 , Google Maps .\\r\\n ?\\r\\n: 25 Tesla . \\r\\n: 11 19- , 25 Tesla 13 . , , , , . 900 6 . , .\\r\\n, , Tesla. TezLab ( ) , . , , . \\r\\n bloomberg , . , . , , Tesla . , Tesla , - . , «»? \\r\\n:… [+610 chars]\"},{\"source\":{\"id\":null,\"name\":\"Bolsamania.com\"},\"author\":\"José María Rodríguez\",\"title\":\"Ahora o nunca en Tesla: agarrándose a la MM200 como 'a un clavo ardiendo'\",\"description\":\"Desde los máximos históricos de noviembre (1.243,49 dólares) los títulos de Tesla se han dejado por el camino un 35% de su valor hasta los mínimos del pasado viernes en los 792,01 dólares. Corrección similar a la experimentada entre enero y marzo de 2021, don…\",\"url\":\"https://www.bolsamania.com/noticias/analisis-tecnico/ahora-nunca-tesla-agarrandose-mm200-como-un-clavo-ardiendo--9121066.html\",\"urlToImage\":\"https://img6.s3wfg.com/web/img/images_uploaded/f/4/la-sec-enquete-sur-tesla-en-raison-d-une-plainte-sur-les-defauts-des-panneaux-solaires_rsz.jpg\",\"publishedAt\":\"2022-01-31T06:20:55Z\",\"content\":\"Desde los máximos históricos de noviembre (1.243,49 dólares) los títulos de Tesla se han dejado por el camino un 35% de su valor hasta los mínimos del pasado viernes en los 792,01 dólares. Corrección… [+93 chars]\"},{\"source\":{\"id\":null,\"name\":\"Viva.co.id\"},\"author\":\"Hanggianto Martyas Laksono\",\"title\":\"Privasinya Terganggu Bukan Lapor Polisi, Elon Musk Malah Kasih Duit\",\"description\":\"Berita Privasinya Terganggu Bukan Lapor Polisi, Elon Musk Malah Kasih Duit terbaru hari ini 2022-01-31 13:14:01 dari sumber yang terpercaya\",\"url\":\"https://www.viva.co.id/otomotif/1445210-privasinya-terganggu-bukan-lapor-polisi-elon-musk-malah-kasih-duit\",\"urlToImage\":\"https://thumb.viva.co.id/media/frontend/thumbs3/2021/12/15/61b8ea9878555-elon-musk_665_374.jpg\",\"publishedAt\":\"2022-01-31T06:14:01Z\",\"content\":\"VIVA  Elon Musk memang selalu menjadi sorotan, bos mobil listrik Tesla ini belum lama menawarkan uang sebesar USD 5000, atau jika dikonversi ke Rupiah nilainya Rp71 juta. Uang tersebut ditawarkan kep… [+1678 chars]\"},{\"source\":{\"id\":\"wirtschafts-woche\",\"name\":\"Wirtschafts Woche\"},\"author\":\"Wirtschaftswoche\",\"title\":\"Lange Lieferzeiten: Änderungen bei Subventionen: Banges Warten auf das E-Auto\",\"description\":\"Autokäufer müssen derzeit lange auf einen Neuwagen warten. Für etliche, die ein E-Auto bestellt haben, könnte die Wartezeit richtig teuer werden: Denn die hohe Förderprämie des Bundes ist nur noch für 2022 garantiert.\",\"url\":\"https://www.wiwo.de/politik/deutschland/lange-lieferzeiten-aenderungen-bei-subventionen-banges-warten-auf-das-e-auto/28023266.html\",\"urlToImage\":\"https://www.wiwo.de/images/wirtschaftlichkeit-von-elektroautos/28023280/2-format11240.jpg\",\"publishedAt\":\"2022-01-31T06:14:00Z\",\"content\":\"Das könnte knapp werden: Viele Kunden von Volkswagen, die sich in diesen Tagen das Elektro-Auto ID.3 bestellen wollen, bekommen von ihren Händlern Kalenderwoche 49 oder sogar noch später als Lieferte… [+5942 chars]\"},{\"source\":{\"id\":null,\"name\":\"Heydesigner.com\"},\"author\":\"Travis\",\"title\":\"A UX designer walks into a Tesla Bar\",\"description\":\"About 5 minutes into the ride, the windshield started fogging up. I couldn’t find the defroster on the large control screen Teslas are so famous for.\",\"url\":\"https://heydesigner.com/a-ux-designer-walks-into-a-tesla-bar/\",\"urlToImage\":\"https://heydesigner.com/wp-content/uploads/social-meta-img.png?v9\",\"publishedAt\":\"2022-01-31T06:12:55Z\",\"content\":\"About 5 minutes into the ride, the windshield started fogging up. I couldnt find the defroster on the large control screen Teslas…\"},{\"source\":{\"id\":null,\"name\":\"Motley Fool Australia\"},\"author\":\"James Mickleboro\",\"title\":\"2 popular ETFs for ASX investors to buy this week\",\"description\":\"These ETFs could be top options for ASX investors...\\nThe post 2 popular ETFs for ASX investors to buy this week appeared first on The Motley Fool Australia.\",\"url\":\"https://www.fool.com.au/2022/01/31/2-popular-etfs-for-asx-investors-to-buy-this-week/\",\"urlToImage\":\"https://www.fool.com.au/wp-content/uploads/2022/01/etf-2-16.9.jpg\",\"publishedAt\":\"2022-01-31T06:07:23Z\",\"content\":\"Exchange traded funds (ETFs) can be a fantastic way to balance out your portfolio. This is because ETFs provide investors with easy access to a large and diverse group of shares.\\r\\nWith that in mind, … [+1701 chars]\"},{\"source\":{\"id\":null,\"name\":\"Yahoo Entertainment\"},\"author\":\"Associated Press Videos\",\"title\":\"Tesla co-founder touts battery recycling benefits\",\"description\":\"JB Straubel, the co-founder of Tesla, left the electric-vehicle manufacturer to help start a company that recycles metals (Jan. 31)\",\"url\":\"https://news.yahoo.com/tesla-co-founder-touts-battery-060401158.html\",\"urlToImage\":\"https://s.yimg.com/ny/api/res/1.2/gss2fT3a3_ILN5jWIvZUIw--/YXBwaWQ9aGlnaGxhbmRlcjt3PTEyMDA7aD02NzU-/https://s.yimg.com/hd/cp-video-transcode/prod/2022-01/31/61f77d972a1f5e27b61f64d5/61f77d972a1f5e27b61f64d6_o_U_v2.jpg\",\"publishedAt\":\"2022-01-31T06:04:01Z\",\"content\":\"A cold weather front next week could trigger near record-setting levels of electric demand in Texas, which last winter saw days-long power outages impacting millions in the state, according to the st… [+245 chars]\"},{\"source\":{\"id\":null,\"name\":\"CleanTechnica\"},\"author\":\"José Pontes\",\"title\":\"Tesla #1 In World EV Sales In 2021\",\"description\":\"Tesla wins its 4th title as top selling EV manufacturer. Top Auto Brands in EV Sales High-tide mode Tesla managed to win another monthly Best Seller title in December, and with a record to boot (170,000 registrations). Tesla crossed the 100,000 registrations/…\",\"url\":\"https://cleantechnica.com/2022/01/31/tesla-1-in-world-ev-sales-in-2021/\",\"urlToImage\":\"https://cleantechnica.com/files/2022/01/Top-Auto-Brands-World-EV-Sales-January-December-2021-CleanTechnica-Chart.png\",\"publishedAt\":\"2022-01-31T06:03:15Z\",\"content\":\"Tesla wins its 4th title as top selling EV manufacturer.\\r\\nTesla Supercharger in Florida, by Zach Shahan/CleanTechnica.\\r\\nTop Auto Brands in EV Sales\\r\\nHigh-tide mode Tesla managed to win another monthl… [+8083 chars]\"},{\"source\":{\"id\":null,\"name\":\"Numerama\"},\"author\":\"Raphaëlle Baut\",\"title\":\"SUV électriques : est-ce vraiment une bonne idée ?\",\"description\":\"Le SUV thermique est régulièrement pointé du doigt pour son impact environnemental. En réponse, les constructeurs automobiles proposent une gamme, toujours plus grande, de SUV à motorisation électrique. Est-ce vraiment la solution à retenir ? La catégorie des…\",\"url\":\"https://www.numerama.com/vroom/836429-suv-electrique-est-ce-vraiment-bonne-idee.html\",\"urlToImage\":\"https://www.numerama.com/wp-content/uploads/2021/05/subaru-solterra-electric-suv-3.jpeg\",\"publishedAt\":\"2022-01-31T06:02:00Z\",\"content\":\"Le SUV thermique est régulièrement pointé du doigt pour son impact environnemental. En réponse, les constructeurs automobiles proposent une gamme, toujours plus grande, de SUV à motorisation électriq… [+5834 chars]\"},{\"source\":{\"id\":null,\"name\":\"Gizmodo Australia\"},\"author\":\"Andy Kalmowitz\",\"title\":\"Elon Musk Tried To Pay A Teen Thousands Of Dollars To Stop Tracking His Plane\",\"description\":\"Tesla CEO Elon Musk is attempting to pay a teen thousands of dollars to shut down a Twitter account that...\\nThe post Elon Musk Tried To Pay A Teen Thousands Of Dollars To Stop Tracking His Plane appeared first on Gizmodo Australia.\\n\\n  Related Stories\\r\\n<ul>&lt;li…\",\"url\":\"https://www.gizmodo.com.au/2022/01/elon-musk-tried-to-pay-a-teen-thousands-of-dollars-to-stop-tracking-his-plane/\",\"urlToImage\":\"https://imgix.gizmodo.com.au/content/uploads/sites/2/2022/01/28/c08683a1acefe6c898add5213aa7d4b5-scaled.jpg?ar=16%3A9&amp;auto=format&amp;fit=crop&amp;q=65&amp;w=1200\",\"publishedAt\":\"2022-01-31T06:00:36Z\",\"content\":\"Tesla CEO Elon Musk is attempting to pay a teen thousands of dollars to shut down a Twitter account that keeps tabs on his private jet, claiming a concern about his personal safety.\\r\\nThe billionaire … [+1738 chars]\"}]}</ul>\n"
     ]
    }
   ],
   "source": [
    "soup = bs4.BeautifulSoup(data.text, 'html.parser')\n",
    "print(soup)"
   ]
  },
  {
   "cell_type": "code",
   "execution_count": 28,
   "id": "8b6f5f21",
   "metadata": {},
   "outputs": [
    {
     "name": "stdout",
     "output_type": "stream",
     "text": [
      "{\"status\":\"ok\",\"totalResults\":13251,\"articles\":[{\"source\":{\"id\":null,\"name\":\"N-tv.de\"},\"author\":\"n-tv NACHRICHTEN\",\"title\":\"Angebote bei Amazon &amp; Co.: Deal des Tages: Noise-Cancelling-Kopfhörer zum Bestpreis\",\"description\":\"Wie gut sind Sonderangebote wirklich? Handelt es sich um echte Schnäppchen oder sehen die Deals nur günstig aus? Der ntv-Check zeigt die echten Preiskracher und lohnende Rabatte.\",\"url\":\"https://www.n-tv.de/ratgeber/shopping-and-service/Deal-des-Tages-Noise-Cancelling-Kopfhoerer-zum-Bestpreis-article22209591.html\",\"urlToImage\":\"https://bilder4.n-tv.de/img/shopping-and-service/crop23090439/4931328401-cImg_16_9-w1200/Wir-finden-taglich-die-besten-Deals-fur-Kopfhorer-Smartphones-Fernseher-Co.jpg\",\"publishedAt\":\"2022-01-31T07:04:00Z\",\"content\":\"Wie gut sind Sonderangebote wirklich? Handelt es sich um echte Schnäppchen oder sehen die Deals nur günstig aus? Der ntv-Check zeigt die echten Preiskracher und lohnende Rabatte.\\r\\nTrotz Tagesangebote… [+11365 chars]\"},{\"source\":{\"id\":null,\"name\":\"Diit.cz\"},\"author\":\"no-X\",\"title\":\"Hopper GH100 nestojí na čipletech, jde o téměř 1000mm² monolit\",\"description\":\"Vypadá to, že zvěsti o čipletové architektuře Nvidie byly poněkud předčasné. Podle nových informací je jádro GH100 architektury Hopper největší monolit, který kdy Nvidia připravila…\",\"url\":\"https://diit.cz/clanek/hopper-gh100-nestoji-na-cipletech-jde-o-temer-1000mm2-monolit\",\"urlToImage\":\"https://diit.cz/sites/default/files/grace_hopper.jpg\",\"publishedAt\":\"2022-01-31T07:00:00Z\",\"content\":\"Zatímco o graficky orientované architektue Lovelace, na ní Nvidia postaví novou generaci karet pro desktop, se mluvilo jako o monolitickém eení, výpoetní Hopper mla být první adou Nvidie vyuívající i… [+7051 chars]\"},{\"source\":{\"id\":null,\"name\":\"Www.nu.nl\"},\"author\":\"NU.nl\",\"title\":\"Elon Musk wil Twitter-account offline hebben dat zijn privéjet volgt\",\"description\":\"Elon Musk heeft een 19-jarige man uit Florida geld geboden om een tweetbot uit de lucht te halen die de vluchten van zijn privéjet bijhoudt. Dat schrijft CNN.\",\"url\":\"https://www.nu.nl/tech/6181186/elon-musk-wil-twitter-account-offline-hebben-dat-zijn-privejet-volgt.html\",\"urlToImage\":\"https://media.nu.nl/m/emsx6gnazu5a_wd1280.jpg/elon-musk-wil-twitter-account-offline-hebben-dat-zijn-privejet-volgt.jpg\",\"publishedAt\":\"2022-01-31T06:59:01Z\",\"content\":\"Elon Musk heeft een 19-jarige man uit Florida geld geboden om een tweetbot uit de lucht te halen die de vluchten van zijn privéjet bijhoudt. Dat schrijft CNN.\\r\\nDe 19-jarige Jack Sweeney kreeg eind no… [+667 chars]\"},{\"source\":{\"id\":null,\"name\":\"M3.idg.se\"},\"author\":null,\"title\":\"Tesla släpper Tesla Mic – sjung karaoke medan bilen laddar\",\"description\":\"Mikrofonen kommer bara säljas i Kina.\",\"url\":\"https://m3.idg.se/2.1022/1.762008/tesla-slapper-tesla-mic--sjung-karaoke-medan-bilen-laddar\",\"urlToImage\":\"https://www.idg.se/editorial/1200/path/1.762008.1643565779!teaserImage/imageTypeSelector/localImage/95150706.jpg\",\"publishedAt\":\"2022-01-31T06:59:00Z\",\"content\":\"Lagom till det kommande kinesiska nyåret håller Tesla som bäst på att förbereda en större mjukvaruuppdatering, en uppdatering som ofta brukar innehålla diverse överraskningar. Den här gången går Tesl… [+420 chars]\"},{\"source\":{\"id\":null,\"name\":\"Shiftdelete.net\"},\"author\":\"Faruk Doğan\",\"title\":\"Elon Musk’ın teklifini beğenmeyen genç daha fazla para istedi\",\"description\":\"Özel jetini takip eden gence bunu durdurması karşılığı 5 bin dolar teklif eden Elon Musk, ilginç bir cevap aldı.\\nBu içerik ilk olarak Elon Musk’ın teklifini beğenmeyen genç daha fazla para istedi adresinde yayınlandı Teknoloji Haberleri - ShiftDelete.Net.\",\"url\":\"https://shiftdelete.net/elon-musk-in-teklifini-begenmeyen-genc-daha-fazla-para-istedi\",\"urlToImage\":\"https://shiftdelete.net/wp-content/uploads/2022/01/elon-musk-in-teklifini-begenmeyen-genc-daha-fazla-para-istedi.jpg\",\"publishedAt\":\"2022-01-31T06:56:15Z\",\"content\":\"Dünyann en zengin insanlarndan Elon Musk, bir üniversite örencisiyle anlamazlk yayor. Central Florida Üniversitesi’nde okuyan 19 yandaki Jack Sweeney, gelitirdii özel bir yazlm araclyla otomatik hava… [+2066 chars]\"},{\"source\":{\"id\":null,\"name\":\"Computerworld.dk\"},\"author\":\"Jakob Schjoldager\",\"title\":\"Tech-rigmænd har tabt over 600 milliarder alene i januar\",\"description\":\"Verdens rigeste it-milliadærer har tabt milliarder af kroner i løbet af den første måned i 2022. Fladet kommet dog efter historisk store stigninger i rigmændenes formue efter coronakrisen.\",\"url\":\"https://www.computerworld.dk/art/259544/tech-rigmaend-har-tabt-over-600-milliarder-kroner-alene-i-januar\",\"urlToImage\":\"https://www.computerworld.dk/fil/199587?width=600&amp;height=315&amp;focus=1\",\"publishedAt\":\"2022-01-31T06:48:00Z\",\"content\":\"Verdens rigeste it-milliadærer har tabt milliarder af kroner i løbet af den første måned i 2022. Fladet kommet dog efter historisk store stigninger i rigmændenes formue efter coronakrisen.Annonceindl… [+1349 chars]\"},{\"source\":{\"id\":null,\"name\":\"Ixbt.com\"},\"author\":\"jin@ixbt.com (Jin)\",\"title\":\"Tesla купила железную дорогу, чтобы облегчить сотрудникам дорогу на работу\",\"description\":\"Министерство инфраструктуры и национального планирования Германии подтвердило на прошлой неделе, что Tesla приобрела существующий железнодорожный путь у немецкой региональной железнодорожной группы DRE. Железная дорога проходит от города Эркнер до станции к ю…\",\"url\":\"https://www.ixbt.com/news/2022/01/31/tesla-kupila-zheleznuju-dorogu-chtoby-oblegchit-sotrudnikam-dorogu-na-rabotu.html\",\"urlToImage\":\"https://www.ixbt.com/img/n1/news/2022/0/1/tesla-model-y-at-a-supercharging-station_large_0_large.jpg\",\"publishedAt\":\"2022-01-31T06:47:00Z\",\"content\":\", Tesla DRE.\\r\\n . Fangschleuse, - . , Tesla , .\\r\\n 2021 , . , Model Y, Tesla, .\\r\\n , Tesla Model Y 565 , , , .\\r\\nTesla 1000 Model Y 2022 . Gigafactory Tesla 500 000 .\"},{\"source\":{\"id\":null,\"name\":\"Madshrimps.be\"},\"author\":\"Stefan Mileschin\",\"title\":\"Tesla is selling a microphone for in-car karaoke, but only in China\",\"description\":\"Tesla is selling a new accessory: a microphone for in-car karaoke. The TeslaMic is only available in China for the time being. The company introduced it amid the rollout of a Chinese New Year software update, which adds a karaoke platform called Leishi KTV to…\",\"url\":\"http://www.madshrimps.be/news/item/211823\",\"urlToImage\":null,\"publishedAt\":\"2022-01-31T06:38:39Z\",\"content\":\"Copyright © 2001-2011 Madshrimps, All rights reserved.Graphic Design by Dennis Kestelle, Programming by Maarten Menten,\\r\\nOverall Site design by John Meys\\r\\nAll information and graphics contained in Ma… [+135 chars]\"},{\"source\":{\"id\":null,\"name\":\"Corriere.it\"},\"author\":\"Redazione Tecnologia\",\"title\":\"Studente 19enne crea bot che traccia i voli del jet privato di Musk: per fermarlo, lui gli offre 5mila dollari\",\"description\":\"L'account Twitter si chiama Elon Musk Jet e mostra le rotte aeree percorse dal milionario. Lo ha creato Jack Sweeney, uno studente della University of Central Florida\",\"url\":\"https://www.corriere.it/tecnologia/22_gennaio_31/studente-19enne-crea-bot-che-traccia-voli-jet-privato-musk-fermarlo-lui-offre-5mila-dollari-36d0b378-80a9-11ec-9fac-a85f17701932.shtml\",\"urlToImage\":\"https://images2.corriereobjects.it/methode_image/socialshare/2022/01/29/9092ee72-80b2-11ec-9fac-a85f17701932.jpg\",\"publishedAt\":\"2022-01-31T06:35:42Z\",\"content\":\"di Redazione TecnologiaL'account Twitter si chiama Elon Musk Jet e mostra le rotte aeree percorse dal milionario. Lo ha creato Jack Sweeney, uno studente della University of Central Florida \\r\\nSi chia… [+3400 chars]\"},{\"source\":{\"id\":null,\"name\":\"Madshrimps.be\"},\"author\":\"Stefan Mileschin\",\"title\":\"Apples triumph over supply-chain shortage is a disaster\",\"description\":\"Wall Street warns it is not good news\\n\\nThe Tame Apple Press has been praising Apples cleverness in overcoming the global chips supply-chain shortage, when it should be really concerned about the cost of Job's Mob's success.\\n\\nThe iPhone maker, which had warne…\",\"url\":\"http://www.madshrimps.be/news/item/211813\",\"urlToImage\":null,\"publishedAt\":\"2022-01-31T06:33:52Z\",\"content\":\"Wall Street warns it is not good newsThe Tame Apple Press has been praising Apples cleverness in overcoming the global chips supply-chain shortage, when it should be really concerned about the cost o… [+821 chars]\"},{\"source\":{\"id\":null,\"name\":\"Habr.com\"},\"author\":\"SearchInform_team\",\"title\":\"(Не) безопасный дайджест post New Year: атака на Tesla, похищенные учетки в FIFA и Google Maps в поисках крестного отца\",\"description\":\"Пришло время обсудить, что случилось, пока мы отмечали новогодние праздники. В традиционном дайджесте собрали небольшую, но очень впечатляющую подборку ИБ-инцидентов, о которых писали СМИ в январе – тут и печальный конец «прославившейся» группировки REvil, и …\",\"url\":\"https://habr.com/ru/company/searchinform/blog/648699/#post-content-body\",\"urlToImage\":\"https://habrastorage.org/getpro/habr/upload_files/4a9/eba/20b/4a9eba20bed658bd7aed1b6bc022d327.jpg\",\"publishedAt\":\"2022-01-31T06:25:26Z\",\"content\":\", , .  , -, «» REvil, , 60 , Google Maps .\\r\\n ?\\r\\n: 25 Tesla . \\r\\n: 11 19- , 25 Tesla 13 . , , , , . 900 6 . , .\\r\\n, , Tesla. TezLab ( ) , . , , . \\r\\n bloomberg , . , . , , Tesla . , Tesla , - . , «»? \\r\\n:… [+610 chars]\"},{\"source\":{\"id\":null,\"name\":\"Bolsamania.com\"},\"author\":\"José María Rodríguez\",\"title\":\"Ahora o nunca en Tesla: agarrándose a la MM200 como 'a un clavo ardiendo'\",\"description\":\"Desde los máximos históricos de noviembre (1.243,49 dólares) los títulos de Tesla se han dejado por el camino un 35% de su valor hasta los mínimos del pasado viernes en los 792,01 dólares. Corrección similar a la experimentada entre enero y marzo de 2021, don…\",\"url\":\"https://www.bolsamania.com/noticias/analisis-tecnico/ahora-nunca-tesla-agarrandose-mm200-como-un-clavo-ardiendo--9121066.html\",\"urlToImage\":\"https://img6.s3wfg.com/web/img/images_uploaded/f/4/la-sec-enquete-sur-tesla-en-raison-d-une-plainte-sur-les-defauts-des-panneaux-solaires_rsz.jpg\",\"publishedAt\":\"2022-01-31T06:20:55Z\",\"content\":\"Desde los máximos históricos de noviembre (1.243,49 dólares) los títulos de Tesla se han dejado por el camino un 35% de su valor hasta los mínimos del pasado viernes en los 792,01 dólares. Corrección… [+93 chars]\"},{\"source\":{\"id\":null,\"name\":\"Viva.co.id\"},\"author\":\"Hanggianto Martyas Laksono\",\"title\":\"Privasinya Terganggu Bukan Lapor Polisi, Elon Musk Malah Kasih Duit\",\"description\":\"Berita Privasinya Terganggu Bukan Lapor Polisi, Elon Musk Malah Kasih Duit terbaru hari ini 2022-01-31 13:14:01 dari sumber yang terpercaya\",\"url\":\"https://www.viva.co.id/otomotif/1445210-privasinya-terganggu-bukan-lapor-polisi-elon-musk-malah-kasih-duit\",\"urlToImage\":\"https://thumb.viva.co.id/media/frontend/thumbs3/2021/12/15/61b8ea9878555-elon-musk_665_374.jpg\",\"publishedAt\":\"2022-01-31T06:14:01Z\",\"content\":\"VIVA  Elon Musk memang selalu menjadi sorotan, bos mobil listrik Tesla ini belum lama menawarkan uang sebesar USD 5000, atau jika dikonversi ke Rupiah nilainya Rp71 juta. Uang tersebut ditawarkan kep… [+1678 chars]\"},{\"source\":{\"id\":\"wirtschafts-woche\",\"name\":\"Wirtschafts Woche\"},\"author\":\"Wirtschaftswoche\",\"title\":\"Lange Lieferzeiten: Änderungen bei Subventionen: Banges Warten auf das E-Auto\",\"description\":\"Autokäufer müssen derzeit lange auf einen Neuwagen warten. Für etliche, die ein E-Auto bestellt haben, könnte die Wartezeit richtig teuer werden: Denn die hohe Förderprämie des Bundes ist nur noch für 2022 garantiert.\",\"url\":\"https://www.wiwo.de/politik/deutschland/lange-lieferzeiten-aenderungen-bei-subventionen-banges-warten-auf-das-e-auto/28023266.html\",\"urlToImage\":\"https://www.wiwo.de/images/wirtschaftlichkeit-von-elektroautos/28023280/2-format11240.jpg\",\"publishedAt\":\"2022-01-31T06:14:00Z\",\"content\":\"Das könnte knapp werden: Viele Kunden von Volkswagen, die sich in diesen Tagen das Elektro-Auto ID.3 bestellen wollen, bekommen von ihren Händlern Kalenderwoche 49 oder sogar noch später als Lieferte… [+5942 chars]\"},{\"source\":{\"id\":null,\"name\":\"Heydesigner.com\"},\"author\":\"Travis\",\"title\":\"A UX designer walks into a Tesla Bar\",\"description\":\"About 5 minutes into the ride, the windshield started fogging up. I couldn’t find the defroster on the large control screen Teslas are so famous for.\",\"url\":\"https://heydesigner.com/a-ux-designer-walks-into-a-tesla-bar/\",\"urlToImage\":\"https://heydesigner.com/wp-content/uploads/social-meta-img.png?v9\",\"publishedAt\":\"2022-01-31T06:12:55Z\",\"content\":\"About 5 minutes into the ride, the windshield started fogging up. I couldnt find the defroster on the large control screen Teslas…\"},{\"source\":{\"id\":null,\"name\":\"Motley Fool Australia\"},\"author\":\"James Mickleboro\",\"title\":\"2 popular ETFs for ASX investors to buy this week\",\"description\":\"These ETFs could be top options for ASX investors...\\nThe post 2 popular ETFs for ASX investors to buy this week appeared first on The Motley Fool Australia.\",\"url\":\"https://www.fool.com.au/2022/01/31/2-popular-etfs-for-asx-investors-to-buy-this-week/\",\"urlToImage\":\"https://www.fool.com.au/wp-content/uploads/2022/01/etf-2-16.9.jpg\",\"publishedAt\":\"2022-01-31T06:07:23Z\",\"content\":\"Exchange traded funds (ETFs) can be a fantastic way to balance out your portfolio. This is because ETFs provide investors with easy access to a large and diverse group of shares.\\r\\nWith that in mind, … [+1701 chars]\"},{\"source\":{\"id\":null,\"name\":\"Yahoo Entertainment\"},\"author\":\"Associated Press Videos\",\"title\":\"Tesla co-founder touts battery recycling benefits\",\"description\":\"JB Straubel, the co-founder of Tesla, left the electric-vehicle manufacturer to help start a company that recycles metals (Jan. 31)\",\"url\":\"https://news.yahoo.com/tesla-co-founder-touts-battery-060401158.html\",\"urlToImage\":\"https://s.yimg.com/ny/api/res/1.2/gss2fT3a3_ILN5jWIvZUIw--/YXBwaWQ9aGlnaGxhbmRlcjt3PTEyMDA7aD02NzU-/https://s.yimg.com/hd/cp-video-transcode/prod/2022-01/31/61f77d972a1f5e27b61f64d5/61f77d972a1f5e27b61f64d6_o_U_v2.jpg\",\"publishedAt\":\"2022-01-31T06:04:01Z\",\"content\":\"A cold weather front next week could trigger near record-setting levels of electric demand in Texas, which last winter saw days-long power outages impacting millions in the state, according to the st… [+245 chars]\"},{\"source\":{\"id\":null,\"name\":\"CleanTechnica\"},\"author\":\"José Pontes\",\"title\":\"Tesla #1 In World EV Sales In 2021\",\"description\":\"Tesla wins its 4th title as top selling EV manufacturer. Top Auto Brands in EV Sales High-tide mode Tesla managed to win another monthly Best Seller title in December, and with a record to boot (170,000 registrations). Tesla crossed the 100,000 registrations/…\",\"url\":\"https://cleantechnica.com/2022/01/31/tesla-1-in-world-ev-sales-in-2021/\",\"urlToImage\":\"https://cleantechnica.com/files/2022/01/Top-Auto-Brands-World-EV-Sales-January-December-2021-CleanTechnica-Chart.png\",\"publishedAt\":\"2022-01-31T06:03:15Z\",\"content\":\"Tesla wins its 4th title as top selling EV manufacturer.\\r\\nTesla Supercharger in Florida, by Zach Shahan/CleanTechnica.\\r\\nTop Auto Brands in EV Sales\\r\\nHigh-tide mode Tesla managed to win another monthl… [+8083 chars]\"},{\"source\":{\"id\":null,\"name\":\"Numerama\"},\"author\":\"Raphaëlle Baut\",\"title\":\"SUV électriques : est-ce vraiment une bonne idée ?\",\"description\":\"Le SUV thermique est régulièrement pointé du doigt pour son impact environnemental. En réponse, les constructeurs automobiles proposent une gamme, toujours plus grande, de SUV à motorisation électrique. Est-ce vraiment la solution à retenir ? La catégorie des…\",\"url\":\"https://www.numerama.com/vroom/836429-suv-electrique-est-ce-vraiment-bonne-idee.html\",\"urlToImage\":\"https://www.numerama.com/wp-content/uploads/2021/05/subaru-solterra-electric-suv-3.jpeg\",\"publishedAt\":\"2022-01-31T06:02:00Z\",\"content\":\"Le SUV thermique est régulièrement pointé du doigt pour son impact environnemental. En réponse, les constructeurs automobiles proposent une gamme, toujours plus grande, de SUV à motorisation électriq… [+5834 chars]\"},{\"source\":{\"id\":null,\"name\":\"Gizmodo Australia\"},\"author\":\"Andy Kalmowitz\",\"title\":\"Elon Musk Tried To Pay A Teen Thousands Of Dollars To Stop Tracking His Plane\",\"description\":\"Tesla CEO Elon Musk is attempting to pay a teen thousands of dollars to shut down a Twitter account that...\\nThe post Elon Musk Tried To Pay A Teen Thousands Of Dollars To Stop Tracking His Plane appeared first on Gizmodo Australia.\\n\\n  Related Stories\\r\\n\n",
      "<ul>\n",
      " &lt;li…\",\"url\":\"https://www.gizmodo.com.au/2022/01/elon-musk-tried-to-pay-a-teen-thousands-of-dollars-to-stop-tracking-his-plane/\",\"urlToImage\":\"https://imgix.gizmodo.com.au/content/uploads/sites/2/2022/01/28/c08683a1acefe6c898add5213aa7d4b5-scaled.jpg?ar=16%3A9&amp;auto=format&amp;fit=crop&amp;q=65&amp;w=1200\",\"publishedAt\":\"2022-01-31T06:00:36Z\",\"content\":\"Tesla CEO Elon Musk is attempting to pay a teen thousands of dollars to shut down a Twitter account that keeps tabs on his private jet, claiming a concern about his personal safety.\\r\\nThe billionaire … [+1738 chars]\"}]}\n",
      "</ul>\n"
     ]
    }
   ],
   "source": [
    "print(soup.prettify())"
   ]
  },
  {
   "cell_type": "code",
   "execution_count": 29,
   "id": "5836797c",
   "metadata": {},
   "outputs": [],
   "source": [
    "import re"
   ]
  },
  {
   "cell_type": "code",
   "execution_count": 30,
   "id": "ea78fa46",
   "metadata": {},
   "outputs": [],
   "source": [
    "def find_title(x):\n",
    "    regx=re.compile(r'\"title\":\"(.+?)\"')\n",
    "    result=regx.findall(x)\n",
    "    return result"
   ]
  },
  {
   "cell_type": "code",
   "execution_count": 31,
   "id": "87e694a8",
   "metadata": {},
   "outputs": [
    {
     "name": "stdout",
     "output_type": "stream",
     "text": [
      "['Angebote bei Amazon & Co.: Deal des Tages: Noise-Cancelling-Kopfhörer zum Bestpreis', 'Hopper GH100 nestojí na čipletech, jde o téměř 1000mm² monolit', 'Elon Musk wil Twitter-account offline hebben dat zijn privéjet volgt', 'Tesla släpper Tesla Mic – sjung karaoke medan bilen laddar', 'Elon Musk’ın teklifini beğenmeyen genç daha fazla para istedi', 'Tech-rigmænd har tabt over 600 milliarder alene i januar', 'Tesla купила железную дорогу, чтобы облегчить сотрудникам дорогу на работу', 'Tesla is selling a microphone for in-car karaoke, but only in China', 'Studente 19enne crea bot che traccia i voli del jet privato di Musk: per fermarlo, lui gli offre 5mila dollari', 'Apple\\x92s triumph over supply-chain shortage is a disaster', '(Не) безопасный дайджест post New Year: атака на Tesla, похищенные учетки в FIFA и Google Maps в поисках крестного отца', \"Ahora o nunca en Tesla: agarrándose a la MM200 como 'a un clavo ardiendo'\", 'Privasinya Terganggu Bukan Lapor Polisi, Elon Musk Malah Kasih Duit', 'Lange Lieferzeiten: Änderungen bei Subventionen: Banges Warten auf das E-Auto', 'A UX designer walks into a Tesla Bar', '2 popular ETFs for ASX investors to buy this week', 'Tesla co-founder touts battery recycling benefits', 'Tesla #1 In World EV Sales In 2021', 'SUV électriques : est-ce vraiment une bonne idée ?', 'Elon Musk Tried To Pay A Teen Thousands Of Dollars To Stop Tracking His Plane']\n"
     ]
    }
   ],
   "source": [
    "title=find_title(data.text)\n",
    "print(title)"
   ]
  },
  {
   "cell_type": "code",
   "execution_count": null,
   "id": "22b5e2ed",
   "metadata": {},
   "outputs": [],
   "source": []
  },
  {
   "cell_type": "code",
   "execution_count": null,
   "id": "4e4731c9",
   "metadata": {},
   "outputs": [],
   "source": []
  },
  {
   "cell_type": "code",
   "execution_count": 32,
   "id": "71ddc35f",
   "metadata": {},
   "outputs": [],
   "source": [
    "def find_desc(x):\n",
    "    regx=re.compile(r'\"description\":\"(.+?)\"')\n",
    "    result=regx.findall(x)\n",
    "    return result"
   ]
  },
  {
   "cell_type": "code",
   "execution_count": null,
   "id": "aa03ddc9",
   "metadata": {},
   "outputs": [],
   "source": []
  },
  {
   "cell_type": "code",
   "execution_count": 33,
   "id": "54f3540e",
   "metadata": {},
   "outputs": [
    {
     "name": "stdout",
     "output_type": "stream",
     "text": [
      "['Wie gut sind Sonderangebote wirklich? Handelt es sich um echte Schnäppchen oder sehen die Deals nur günstig aus? Der ntv-Check zeigt die echten Preiskracher und lohnende Rabatte.', 'Vypadá to, že zvěsti o čipletové architektuře Nvidie byly poněkud předčasné. Podle nových informací je jádro GH100 architektury Hopper největší monolit, který kdy Nvidia připravila…', 'Elon Musk heeft een 19-jarige man uit Florida geld geboden om een tweetbot uit de lucht te halen die de vluchten van zijn privéjet bijhoudt. Dat schrijft CNN.', 'Mikrofonen kommer bara säljas i Kina.', 'Özel jetini takip eden gence bunu durdurması karşılığı 5 bin dolar teklif eden Elon Musk, ilginç bir cevap aldı.\\\\nBu içerik ilk olarak Elon Musk’ın teklifini beğenmeyen genç daha fazla para istedi adresinde yayınlandı Teknoloji Haberleri - ShiftDelete.Net.', 'Verdens rigeste it-milliadærer har tabt milliarder af kroner i løbet af den første måned i 2022. Fladet kommet dog efter historisk store stigninger i rigmændenes formue efter coronakrisen.', 'Министерство инфраструктуры и национального планирования Германии подтвердило на прошлой неделе, что Tesla приобрела существующий железнодорожный путь у немецкой региональной железнодорожной группы DRE. Железная дорога проходит от города Эркнер до станции к ю…', 'Tesla is selling a new accessory: a microphone for in-car karaoke. The TeslaMic is only available in China for the time being. The company introduced it amid the rollout of a Chinese New Year software update, which adds a karaoke platform called Leishi KTV to…', \"L'account Twitter si chiama Elon Musk Jet e mostra le rotte aeree percorse dal milionario. Lo ha creato Jack Sweeney, uno studente della University of Central Florida\", \"Wall Street warns it is not good news\\\\n\\\\nThe Tame Apple Press has been praising Apple\\x92s cleverness in overcoming the global chips supply-chain shortage, when it should be really concerned about the cost of Job's Mob's success.\\\\n\\\\nThe iPhone maker, which had warne…\", 'Пришло время обсудить, что случилось, пока мы отмечали новогодние праздники. В традиционном дайджесте собрали\\xa0небольшую, но очень впечатляющую подборку ИБ-инцидентов, о которых писали СМИ в январе – тут и печальный конец «прославившейся» группировки REvil, и …', 'Desde los máximos históricos de noviembre (1.243,49 dólares) los títulos de Tesla se han dejado por el camino un 35% de su valor hasta los mínimos del pasado viernes en los 792,01 dólares. Corrección similar a la experimentada entre enero y marzo de 2021, don…', 'Berita Privasinya Terganggu Bukan Lapor Polisi, Elon Musk Malah Kasih Duit terbaru hari ini 2022-01-31 13:14:01 dari sumber yang terpercaya', 'Autokäufer müssen derzeit lange auf einen Neuwagen warten. Für etliche, die ein E-Auto bestellt haben, könnte die Wartezeit richtig teuer werden: Denn die hohe Förderprämie des Bundes ist nur noch für 2022 garantiert.', 'About 5 minutes into the ride, the windshield started fogging up. I couldn’t find the defroster on the large control screen Teslas are so famous for.', 'These ETFs could be top options for ASX investors...\\\\nThe post 2 popular ETFs for ASX investors to buy this week appeared first on The Motley Fool Australia.', 'JB Straubel, the co-founder of Tesla, left the electric-vehicle manufacturer to help start a company that recycles metals (Jan. 31)', 'Tesla wins its 4th title as top selling EV manufacturer. Top Auto Brands in EV Sales High-tide mode Tesla managed to win another monthly Best Seller title in December, and with a record to boot (170,000 registrations). Tesla crossed the 100,000 registrations/…', 'Le SUV thermique est régulièrement pointé du doigt pour son impact environnemental. En réponse, les constructeurs automobiles proposent une gamme, toujours plus grande, de SUV à motorisation électrique. Est-ce vraiment la solution à retenir\\xa0? La catégorie des…', 'Tesla CEO Elon Musk is attempting to pay a teen thousands of dollars to shut down a Twitter account that...\\\\nThe post Elon Musk Tried To Pay A Teen Thousands Of Dollars To Stop Tracking His Plane appeared first on Gizmodo Australia.\\\\n\\\\n\\xa0\\xa0Related Stories\\\\r\\\\n<ul><li…']\n"
     ]
    }
   ],
   "source": [
    "description=find_desc(data.text)\n",
    "print(description)"
   ]
  },
  {
   "cell_type": "code",
   "execution_count": 36,
   "id": "29933ade",
   "metadata": {},
   "outputs": [],
   "source": [
    "def find_url(x):\n",
    "    regx=re.compile(r'\"url\":\"(.+?)\"')\n",
    "    result=regx.findall(x)\n",
    "    return result"
   ]
  },
  {
   "cell_type": "code",
   "execution_count": 37,
   "id": "5af3a3d0",
   "metadata": {},
   "outputs": [
    {
     "name": "stdout",
     "output_type": "stream",
     "text": [
      "['https://www.n-tv.de/ratgeber/shopping-and-service/Deal-des-Tages-Noise-Cancelling-Kopfhoerer-zum-Bestpreis-article22209591.html', 'https://diit.cz/clanek/hopper-gh100-nestoji-na-cipletech-jde-o-temer-1000mm2-monolit', 'https://www.nu.nl/tech/6181186/elon-musk-wil-twitter-account-offline-hebben-dat-zijn-privejet-volgt.html', 'https://m3.idg.se/2.1022/1.762008/tesla-slapper-tesla-mic--sjung-karaoke-medan-bilen-laddar', 'https://shiftdelete.net/elon-musk-in-teklifini-begenmeyen-genc-daha-fazla-para-istedi', 'https://www.computerworld.dk/art/259544/tech-rigmaend-har-tabt-over-600-milliarder-kroner-alene-i-januar', 'https://www.ixbt.com/news/2022/01/31/tesla-kupila-zheleznuju-dorogu-chtoby-oblegchit-sotrudnikam-dorogu-na-rabotu.html', 'http://www.madshrimps.be/news/item/211823', 'https://www.corriere.it/tecnologia/22_gennaio_31/studente-19enne-crea-bot-che-traccia-voli-jet-privato-musk-fermarlo-lui-offre-5mila-dollari-36d0b378-80a9-11ec-9fac-a85f17701932.shtml', 'http://www.madshrimps.be/news/item/211813', 'https://habr.com/ru/company/searchinform/blog/648699/#post-content-body', 'https://www.bolsamania.com/noticias/analisis-tecnico/ahora-nunca-tesla-agarrandose-mm200-como-un-clavo-ardiendo--9121066.html', 'https://www.viva.co.id/otomotif/1445210-privasinya-terganggu-bukan-lapor-polisi-elon-musk-malah-kasih-duit', 'https://www.wiwo.de/politik/deutschland/lange-lieferzeiten-aenderungen-bei-subventionen-banges-warten-auf-das-e-auto/28023266.html', 'https://heydesigner.com/a-ux-designer-walks-into-a-tesla-bar/', 'https://www.fool.com.au/2022/01/31/2-popular-etfs-for-asx-investors-to-buy-this-week/', 'https://news.yahoo.com/tesla-co-founder-touts-battery-060401158.html', 'https://cleantechnica.com/2022/01/31/tesla-1-in-world-ev-sales-in-2021/', 'https://www.numerama.com/vroom/836429-suv-electrique-est-ce-vraiment-bonne-idee.html', 'https://www.gizmodo.com.au/2022/01/elon-musk-tried-to-pay-a-teen-thousands-of-dollars-to-stop-tracking-his-plane/']\n"
     ]
    }
   ],
   "source": [
    "url=find_url(data.text)\n",
    "print(url)"
   ]
  },
  {
   "cell_type": "code",
   "execution_count": 39,
   "id": "5593d304",
   "metadata": {},
   "outputs": [],
   "source": [
    "t =open('url.txt','w')\n",
    "for i in url:\n",
    "    t.write(str(i) +\"\\n\")\n",
    "t.close()"
   ]
  },
  {
   "cell_type": "code",
   "execution_count": 45,
   "id": "c32b0229",
   "metadata": {},
   "outputs": [
    {
     "ename": "UnicodeEncodeError",
     "evalue": "'charmap' codec can't encode character '\\u010d' in position 24: character maps to <undefined>",
     "output_type": "error",
     "traceback": [
      "\u001b[1;31m---------------------------------------------------------------------------\u001b[0m",
      "\u001b[1;31mUnicodeEncodeError\u001b[0m                        Traceback (most recent call last)",
      "\u001b[1;32mC:\\Users\\MONUSA~1\\AppData\\Local\\Temp/ipykernel_2604/1137525862.py\u001b[0m in \u001b[0;36m<module>\u001b[1;34m\u001b[0m\n\u001b[0;32m      1\u001b[0m \u001b[0mu\u001b[0m \u001b[1;33m=\u001b[0m\u001b[0mopen\u001b[0m\u001b[1;33m(\u001b[0m\u001b[1;34m'title.txt'\u001b[0m\u001b[1;33m,\u001b[0m\u001b[1;34m'w'\u001b[0m\u001b[1;33m)\u001b[0m\u001b[1;33m\u001b[0m\u001b[1;33m\u001b[0m\u001b[0m\n\u001b[0;32m      2\u001b[0m \u001b[1;32mfor\u001b[0m \u001b[0mi\u001b[0m \u001b[1;32min\u001b[0m \u001b[0mtitle\u001b[0m\u001b[1;33m:\u001b[0m\u001b[1;33m\u001b[0m\u001b[1;33m\u001b[0m\u001b[0m\n\u001b[1;32m----> 3\u001b[1;33m     \u001b[0mu\u001b[0m\u001b[1;33m.\u001b[0m\u001b[0mwrite\u001b[0m\u001b[1;33m(\u001b[0m\u001b[0mi\u001b[0m\u001b[1;33m+\u001b[0m\u001b[1;34m\"\\n\"\u001b[0m\u001b[1;33m)\u001b[0m\u001b[1;33m\u001b[0m\u001b[1;33m\u001b[0m\u001b[0m\n\u001b[0m\u001b[0;32m      4\u001b[0m \u001b[0mu\u001b[0m\u001b[1;33m.\u001b[0m\u001b[0mclose\u001b[0m\u001b[1;33m(\u001b[0m\u001b[1;33m)\u001b[0m\u001b[1;33m\u001b[0m\u001b[1;33m\u001b[0m\u001b[0m\n",
      "\u001b[1;32m~\\anaconda3\\lib\\encodings\\cp1252.py\u001b[0m in \u001b[0;36mencode\u001b[1;34m(self, input, final)\u001b[0m\n\u001b[0;32m     17\u001b[0m \u001b[1;32mclass\u001b[0m \u001b[0mIncrementalEncoder\u001b[0m\u001b[1;33m(\u001b[0m\u001b[0mcodecs\u001b[0m\u001b[1;33m.\u001b[0m\u001b[0mIncrementalEncoder\u001b[0m\u001b[1;33m)\u001b[0m\u001b[1;33m:\u001b[0m\u001b[1;33m\u001b[0m\u001b[1;33m\u001b[0m\u001b[0m\n\u001b[0;32m     18\u001b[0m     \u001b[1;32mdef\u001b[0m \u001b[0mencode\u001b[0m\u001b[1;33m(\u001b[0m\u001b[0mself\u001b[0m\u001b[1;33m,\u001b[0m \u001b[0minput\u001b[0m\u001b[1;33m,\u001b[0m \u001b[0mfinal\u001b[0m\u001b[1;33m=\u001b[0m\u001b[1;32mFalse\u001b[0m\u001b[1;33m)\u001b[0m\u001b[1;33m:\u001b[0m\u001b[1;33m\u001b[0m\u001b[1;33m\u001b[0m\u001b[0m\n\u001b[1;32m---> 19\u001b[1;33m         \u001b[1;32mreturn\u001b[0m \u001b[0mcodecs\u001b[0m\u001b[1;33m.\u001b[0m\u001b[0mcharmap_encode\u001b[0m\u001b[1;33m(\u001b[0m\u001b[0minput\u001b[0m\u001b[1;33m,\u001b[0m\u001b[0mself\u001b[0m\u001b[1;33m.\u001b[0m\u001b[0merrors\u001b[0m\u001b[1;33m,\u001b[0m\u001b[0mencoding_table\u001b[0m\u001b[1;33m)\u001b[0m\u001b[1;33m[\u001b[0m\u001b[1;36m0\u001b[0m\u001b[1;33m]\u001b[0m\u001b[1;33m\u001b[0m\u001b[1;33m\u001b[0m\u001b[0m\n\u001b[0m\u001b[0;32m     20\u001b[0m \u001b[1;33m\u001b[0m\u001b[0m\n\u001b[0;32m     21\u001b[0m \u001b[1;32mclass\u001b[0m \u001b[0mIncrementalDecoder\u001b[0m\u001b[1;33m(\u001b[0m\u001b[0mcodecs\u001b[0m\u001b[1;33m.\u001b[0m\u001b[0mIncrementalDecoder\u001b[0m\u001b[1;33m)\u001b[0m\u001b[1;33m:\u001b[0m\u001b[1;33m\u001b[0m\u001b[1;33m\u001b[0m\u001b[0m\n",
      "\u001b[1;31mUnicodeEncodeError\u001b[0m: 'charmap' codec can't encode character '\\u010d' in position 24: character maps to <undefined>"
     ]
    }
   ],
   "source": [
    "u =open('title.txt','w')\n",
    "for i in title:\n",
    "    u.write(i+\"\\n\")\n",
    "u.close()"
   ]
  },
  {
   "cell_type": "code",
   "execution_count": null,
   "id": "de1f6a9b",
   "metadata": {},
   "outputs": [],
   "source": []
  },
  {
   "cell_type": "code",
   "execution_count": null,
   "id": "9dead384",
   "metadata": {},
   "outputs": [],
   "source": []
  },
  {
   "cell_type": "code",
   "execution_count": null,
   "id": "773b5595",
   "metadata": {},
   "outputs": [],
   "source": []
  }
 ],
 "metadata": {
  "kernelspec": {
   "display_name": "Python 3 (ipykernel)",
   "language": "python",
   "name": "python3"
  },
  "language_info": {
   "codemirror_mode": {
    "name": "ipython",
    "version": 3
   },
   "file_extension": ".py",
   "mimetype": "text/x-python",
   "name": "python",
   "nbconvert_exporter": "python",
   "pygments_lexer": "ipython3",
   "version": "3.9.7"
  }
 },
 "nbformat": 4,
 "nbformat_minor": 5
}
