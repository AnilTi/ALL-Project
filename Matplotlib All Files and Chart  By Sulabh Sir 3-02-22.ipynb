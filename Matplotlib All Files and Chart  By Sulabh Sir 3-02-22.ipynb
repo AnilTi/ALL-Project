{
 "cells": [
  {
   "cell_type": "markdown",
   "id": "f41a150a",
   "metadata": {},
   "source": [
    "<h1 align=\"center\", style=\"color:green\">Matplotlib: All Chart</h1>"
   ]
  },
  {
   "cell_type": "code",
   "execution_count": 1,
   "id": "b1e81125",
   "metadata": {},
   "outputs": [],
   "source": [
    "import matplotlib.pyplot as plt\n",
    "\n",
    "import pandas as pd"
   ]
  },
  {
   "cell_type": "code",
   "execution_count": 2,
   "id": "f4ef9ded",
   "metadata": {},
   "outputs": [],
   "source": [
    "df=pd.read_csv(\"Salary_Data.csv\")"
   ]
  },
  {
   "cell_type": "code",
   "execution_count": 3,
   "id": "c7ad0971",
   "metadata": {},
   "outputs": [
    {
     "data": {
      "text/html": [
       "<div>\n",
       "<style scoped>\n",
       "    .dataframe tbody tr th:only-of-type {\n",
       "        vertical-align: middle;\n",
       "    }\n",
       "\n",
       "    .dataframe tbody tr th {\n",
       "        vertical-align: top;\n",
       "    }\n",
       "\n",
       "    .dataframe thead th {\n",
       "        text-align: right;\n",
       "    }\n",
       "</style>\n",
       "<table border=\"1\" class=\"dataframe\">\n",
       "  <thead>\n",
       "    <tr style=\"text-align: right;\">\n",
       "      <th></th>\n",
       "      <th>YearsExperience</th>\n",
       "      <th>Salary</th>\n",
       "    </tr>\n",
       "  </thead>\n",
       "  <tbody>\n",
       "    <tr>\n",
       "      <th>0</th>\n",
       "      <td>1.1</td>\n",
       "      <td>39343.0</td>\n",
       "    </tr>\n",
       "    <tr>\n",
       "      <th>1</th>\n",
       "      <td>1.3</td>\n",
       "      <td>46205.0</td>\n",
       "    </tr>\n",
       "    <tr>\n",
       "      <th>2</th>\n",
       "      <td>1.5</td>\n",
       "      <td>37731.0</td>\n",
       "    </tr>\n",
       "    <tr>\n",
       "      <th>3</th>\n",
       "      <td>2.0</td>\n",
       "      <td>43525.0</td>\n",
       "    </tr>\n",
       "    <tr>\n",
       "      <th>4</th>\n",
       "      <td>2.2</td>\n",
       "      <td>39891.0</td>\n",
       "    </tr>\n",
       "    <tr>\n",
       "      <th>5</th>\n",
       "      <td>2.9</td>\n",
       "      <td>56642.0</td>\n",
       "    </tr>\n",
       "    <tr>\n",
       "      <th>6</th>\n",
       "      <td>3.0</td>\n",
       "      <td>60150.0</td>\n",
       "    </tr>\n",
       "    <tr>\n",
       "      <th>7</th>\n",
       "      <td>3.2</td>\n",
       "      <td>54445.0</td>\n",
       "    </tr>\n",
       "    <tr>\n",
       "      <th>8</th>\n",
       "      <td>3.2</td>\n",
       "      <td>64445.0</td>\n",
       "    </tr>\n",
       "    <tr>\n",
       "      <th>9</th>\n",
       "      <td>3.7</td>\n",
       "      <td>57189.0</td>\n",
       "    </tr>\n",
       "    <tr>\n",
       "      <th>10</th>\n",
       "      <td>3.9</td>\n",
       "      <td>63218.0</td>\n",
       "    </tr>\n",
       "    <tr>\n",
       "      <th>11</th>\n",
       "      <td>4.0</td>\n",
       "      <td>55794.0</td>\n",
       "    </tr>\n",
       "    <tr>\n",
       "      <th>12</th>\n",
       "      <td>4.0</td>\n",
       "      <td>56957.0</td>\n",
       "    </tr>\n",
       "    <tr>\n",
       "      <th>13</th>\n",
       "      <td>4.1</td>\n",
       "      <td>57081.0</td>\n",
       "    </tr>\n",
       "    <tr>\n",
       "      <th>14</th>\n",
       "      <td>4.5</td>\n",
       "      <td>61111.0</td>\n",
       "    </tr>\n",
       "    <tr>\n",
       "      <th>15</th>\n",
       "      <td>4.9</td>\n",
       "      <td>67938.0</td>\n",
       "    </tr>\n",
       "    <tr>\n",
       "      <th>16</th>\n",
       "      <td>5.1</td>\n",
       "      <td>66029.0</td>\n",
       "    </tr>\n",
       "    <tr>\n",
       "      <th>17</th>\n",
       "      <td>5.3</td>\n",
       "      <td>83088.0</td>\n",
       "    </tr>\n",
       "    <tr>\n",
       "      <th>18</th>\n",
       "      <td>5.9</td>\n",
       "      <td>81363.0</td>\n",
       "    </tr>\n",
       "    <tr>\n",
       "      <th>19</th>\n",
       "      <td>6.0</td>\n",
       "      <td>93940.0</td>\n",
       "    </tr>\n",
       "    <tr>\n",
       "      <th>20</th>\n",
       "      <td>6.8</td>\n",
       "      <td>91738.0</td>\n",
       "    </tr>\n",
       "    <tr>\n",
       "      <th>21</th>\n",
       "      <td>7.1</td>\n",
       "      <td>98273.0</td>\n",
       "    </tr>\n",
       "    <tr>\n",
       "      <th>22</th>\n",
       "      <td>7.9</td>\n",
       "      <td>101302.0</td>\n",
       "    </tr>\n",
       "    <tr>\n",
       "      <th>23</th>\n",
       "      <td>8.2</td>\n",
       "      <td>113812.0</td>\n",
       "    </tr>\n",
       "    <tr>\n",
       "      <th>24</th>\n",
       "      <td>8.7</td>\n",
       "      <td>109431.0</td>\n",
       "    </tr>\n",
       "    <tr>\n",
       "      <th>25</th>\n",
       "      <td>9.0</td>\n",
       "      <td>105582.0</td>\n",
       "    </tr>\n",
       "    <tr>\n",
       "      <th>26</th>\n",
       "      <td>9.5</td>\n",
       "      <td>116969.0</td>\n",
       "    </tr>\n",
       "    <tr>\n",
       "      <th>27</th>\n",
       "      <td>9.6</td>\n",
       "      <td>112635.0</td>\n",
       "    </tr>\n",
       "    <tr>\n",
       "      <th>28</th>\n",
       "      <td>10.3</td>\n",
       "      <td>122391.0</td>\n",
       "    </tr>\n",
       "    <tr>\n",
       "      <th>29</th>\n",
       "      <td>10.5</td>\n",
       "      <td>121872.0</td>\n",
       "    </tr>\n",
       "  </tbody>\n",
       "</table>\n",
       "</div>"
      ],
      "text/plain": [
       "    YearsExperience    Salary\n",
       "0               1.1   39343.0\n",
       "1               1.3   46205.0\n",
       "2               1.5   37731.0\n",
       "3               2.0   43525.0\n",
       "4               2.2   39891.0\n",
       "5               2.9   56642.0\n",
       "6               3.0   60150.0\n",
       "7               3.2   54445.0\n",
       "8               3.2   64445.0\n",
       "9               3.7   57189.0\n",
       "10              3.9   63218.0\n",
       "11              4.0   55794.0\n",
       "12              4.0   56957.0\n",
       "13              4.1   57081.0\n",
       "14              4.5   61111.0\n",
       "15              4.9   67938.0\n",
       "16              5.1   66029.0\n",
       "17              5.3   83088.0\n",
       "18              5.9   81363.0\n",
       "19              6.0   93940.0\n",
       "20              6.8   91738.0\n",
       "21              7.1   98273.0\n",
       "22              7.9  101302.0\n",
       "23              8.2  113812.0\n",
       "24              8.7  109431.0\n",
       "25              9.0  105582.0\n",
       "26              9.5  116969.0\n",
       "27              9.6  112635.0\n",
       "28             10.3  122391.0\n",
       "29             10.5  121872.0"
      ]
     },
     "execution_count": 3,
     "metadata": {},
     "output_type": "execute_result"
    }
   ],
   "source": [
    "df"
   ]
  },
  {
   "cell_type": "code",
   "execution_count": 4,
   "id": "3f1f824f",
   "metadata": {},
   "outputs": [
    {
     "data": {
      "image/png": "[encoded data removed]",
      "text/plain": [
       "<Figure size 432x288 with 1 Axes>"
      ]
     },
     "metadata": {
      "needs_background": "light"
     },
     "output_type": "display_data"
    }
   ],
   "source": [
    "plt.xlabel('Experience in Years')\n",
    "plt.ylabel('Salary')\n",
    "plt.title('Progress Report')\n",
    "plt.plot(df.YearsExperience,df.Salary)\n",
    "plt.show()"
   ]
  },
  {
   "cell_type": "code",
   "execution_count": 5,
   "id": "ce561992",
   "metadata": {},
   "outputs": [],
   "source": [
    "\n",
    "x=[1,2,3,4,5,6,7]\n",
    "y=[50,51,52,48,47,49,46]"
   ]
  },
  {
   "cell_type": "code",
   "execution_count": 6,
   "id": "06bc566b",
   "metadata": {},
   "outputs": [
    {
     "data": {
      "image/png": "[encoded data removed]",
      "text/plain": [
       "<Figure size 432x288 with 1 Axes>"
      ]
     },
     "metadata": {
      "needs_background": "light"
     },
     "output_type": "display_data"
    }
   ],
   "source": [
    "plt.xlabel('Day')\n",
    "plt.ylabel('Temperature')\n",
    "plt.title('Weather')\n",
    "plt.plot(x,y,color='green',linewidth=5,linestyle='--')\n",
    "plt.show()"
   ]
  },
  {
   "cell_type": "markdown",
   "id": "8d398101",
   "metadata": {},
   "source": [
    "<h1 align=\"center\" style=\"color:green\">Matplotlib: pyplot.plot format strings and other options</h1>\n"
   ]
  },
  {
   "cell_type": "code",
   "execution_count": 7,
   "id": "ba35ace1",
   "metadata": {},
   "outputs": [
    {
     "data": {
      "image/png": "[encoded data removed]",
      "text/plain": [
       "<Figure size 432x288 with 1 Axes>"
      ]
     },
     "metadata": {
      "needs_background": "light"
     },
     "output_type": "display_data"
    }
   ],
   "source": [
    "plt.xlabel('Day')\n",
    "plt.ylabel('Temperature')\n",
    "plt.title('Weather')\n",
    "\n",
    "plt.plot(x,y,'b+--')\n",
    "plt.show()"
   ]
  },
  {
   "cell_type": "markdown",
   "id": "cc72eb06",
   "metadata": {},
   "source": [
    "<h3 style=\"color:purple\">markersize</h3>"
   ]
  },
  {
   "cell_type": "code",
   "execution_count": 8,
   "id": "1ac6834e",
   "metadata": {},
   "outputs": [
    {
     "data": {
      "image/png": "[encoded data removed]",
      "text/plain": [
       "<Figure size 432x288 with 1 Axes>"
      ]
     },
     "metadata": {
      "needs_background": "light"
     },
     "output_type": "display_data"
    }
   ],
   "source": [
    "# Same effect as 'b+--' format string\n",
    "plt.plot(x,y,color='blue',marker='+',linestyle='--')\n",
    "plt.show()"
   ]
  },
  {
   "cell_type": "code",
   "execution_count": 9,
   "id": "e3df502c",
   "metadata": {},
   "outputs": [
    {
     "data": {
      "image/png": "[encoded data removed]",
      "text/plain": [
       "<Figure size 432x288 with 1 Axes>"
      ]
     },
     "metadata": {
      "needs_background": "light"
     },
     "output_type": "display_data"
    }
   ],
   "source": [
    "plt.plot(x,y,color='blue',marker='<',linestyle='-',markersize=20)\n",
    "plt.show()"
   ]
  },
  {
   "cell_type": "markdown",
   "id": "bc74609c",
   "metadata": {},
   "source": [
    "<h3 style=\"color:purple\">alpha property to control transparency of line chart</h3>"
   ]
  },
  {
   "cell_type": "code",
   "execution_count": 10,
   "id": "761411ec",
   "metadata": {},
   "outputs": [
    {
     "data": {
      "image/png": "[encoded data removed]",
      "text/plain": [
       "<Figure size 432x288 with 1 Axes>"
      ]
     },
     "metadata": {
      "needs_background": "light"
     },
     "output_type": "display_data"
    }
   ],
   "source": [
    "plt.plot(x,y,'g<',linestyle='--',alpha=0.5)\n",
    "plt.show()\n",
    "# alpha can be specified on a scale 0 to 1"
   ]
  },
  {
   "cell_type": "markdown",
   "id": "3601d567",
   "metadata": {},
   "source": [
    "<h1 align=\"center\" style=\"color:blue\">Matplotlib: Axes Labels, Legend, Grid</h1>"
   ]
  },
  {
   "cell_type": "code",
   "execution_count": 11,
   "id": "6ee55853",
   "metadata": {},
   "outputs": [],
   "source": [
    "days=[1,2,3,4,5,6,7]\n",
    "max_t=[50,51,52,48,47,49,46]\n",
    "min_t=[43,42,40,44,33,35,37]\n",
    "avg_t=[45,48,48,46,40,42,41]"
   ]
  },
  {
   "cell_type": "code",
   "execution_count": 12,
   "id": "6da7190e",
   "metadata": {},
   "outputs": [
    {
     "data": {
      "image/png": "[encoded data removed]",
      "text/plain": [
       "<Figure size 432x288 with 1 Axes>"
      ]
     },
     "metadata": {
      "needs_background": "light"
     },
     "output_type": "display_data"
    }
   ],
   "source": [
    "plt.plot(days, max_t, label=\"max\")\n",
    "plt.plot(days, min_t, label=\"min\")\n",
    "plt.plot(days, avg_t, label=\"average\")\n",
    "plt.show()"
   ]
  },
  {
   "cell_type": "markdown",
   "id": "b4bd2d74",
   "metadata": {},
   "source": [
    "<h2 style=\"color:purple\">Axes labels and chart title</h2>"
   ]
  },
  {
   "cell_type": "code",
   "execution_count": 13,
   "id": "3e8942cc",
   "metadata": {},
   "outputs": [
    {
     "data": {
      "image/png": "[encoded data removed]",
      "text/plain": [
       "<Figure size 432x288 with 1 Axes>"
      ]
     },
     "metadata": {
      "needs_background": "light"
     },
     "output_type": "display_data"
    }
   ],
   "source": [
    "# set axes labels and chart title\n",
    "plt.xlabel('Day')\n",
    "plt.ylabel('Temperature')\n",
    "plt.title('Weather')\n",
    "\n",
    "\n",
    "plt.plot(days, max_t, label=\"max\")\n",
    "plt.plot(days, min_t, label=\"min\")\n",
    "plt.plot(days, avg_t, label=\"average\")\n",
    "plt.show()"
   ]
  },
  {
   "cell_type": "markdown",
   "id": "3545c6c5",
   "metadata": {},
   "source": [
    "<h2 style=\"color:purple\">Legend</h2>"
   ]
  },
  {
   "cell_type": "code",
   "execution_count": 14,
   "id": "8edc8e5f",
   "metadata": {},
   "outputs": [
    {
     "data": {
      "image/png": "[encoded data removed]",
      "text/plain": [
       "<Figure size 432x288 with 1 Axes>"
      ]
     },
     "metadata": {
      "needs_background": "light"
     },
     "output_type": "display_data"
    }
   ],
   "source": [
    "# Show legend\n",
    "plt.plot(days, max_t, label=\"max\")\n",
    "plt.plot(days, min_t, label=\"min\")\n",
    "plt.plot(days, avg_t, label=\"average\")\n",
    "\n",
    "plt.legend(loc='best')\n",
    "plt.show()"
   ]
  },
  {
   "cell_type": "code",
   "execution_count": 15,
   "id": "2283608d",
   "metadata": {},
   "outputs": [
    {
     "data": {
      "image/png": "[encoded data removed]",
      "text/plain": [
       "<Figure size 432x288 with 1 Axes>"
      ]
     },
     "metadata": {
      "needs_background": "light"
     },
     "output_type": "display_data"
    }
   ],
   "source": [
    "# Legend at different location with shadow enabled and fontsize set to large\n",
    "plt.plot(days, max_t, label=\"max\")\n",
    "plt.plot(days, min_t, label=\"min\")\n",
    "plt.plot(days, avg_t, label=\"average\")\n",
    "\n",
    "plt.legend(loc='upper right',shadow=True,fontsize='large')\n",
    "plt.show()"
   ]
  },
  {
   "cell_type": "markdown",
   "id": "6831aa73",
   "metadata": {},
   "source": [
    "<h2 style=\"color:purple\">Grid</h2>"
   ]
  },
  {
   "cell_type": "code",
   "execution_count": 16,
   "id": "18515d0d",
   "metadata": {},
   "outputs": [
    {
     "data": {
      "image/png": "[encoded data removed]",
      "text/plain": [
       "<Figure size 432x288 with 1 Axes>"
      ]
     },
     "metadata": {
      "needs_background": "light"
     },
     "output_type": "display_data"
    }
   ],
   "source": [
    "plt.plot(days, max_t, label=\"max\")\n",
    "plt.plot(days, min_t, label=\"min\")\n",
    "plt.plot(days, avg_t, label=\"average\")\n",
    "\n",
    "plt.legend(loc='upper right', fontsize=\"large\",shadow=True)\n",
    "plt.grid()"
   ]
  },
  {
   "cell_type": "markdown",
   "id": "02ed59af",
   "metadata": {},
   "source": [
    "<h1 align=\"center\", style=\"color:green\">Matplotlib: Bar Chart</h1>"
   ]
  },
  {
   "cell_type": "code",
   "execution_count": 18,
   "id": "62a2824f",
   "metadata": {},
   "outputs": [],
   "source": [
    "df=pd.read_csv(\"titanic.csv\")"
   ]
  },
  {
   "cell_type": "code",
   "execution_count": 19,
   "id": "584df3a9",
   "metadata": {},
   "outputs": [
    {
     "data": {
      "text/html": [
       "<div>\n",
       "<style scoped>\n",
       "    .dataframe tbody tr th:only-of-type {\n",
       "        vertical-align: middle;\n",
       "    }\n",
       "\n",
       "    .dataframe tbody tr th {\n",
       "        vertical-align: top;\n",
       "    }\n",
       "\n",
       "    .dataframe thead th {\n",
       "        text-align: right;\n",
       "    }\n",
       "</style>\n",
       "<table border=\"1\" class=\"dataframe\">\n",
       "  <thead>\n",
       "    <tr style=\"text-align: right;\">\n",
       "      <th></th>\n",
       "      <th>PassengerId</th>\n",
       "      <th>Survived</th>\n",
       "      <th>Pclass</th>\n",
       "      <th>Name</th>\n",
       "      <th>Sex</th>\n",
       "      <th>Age</th>\n",
       "      <th>SibSp</th>\n",
       "      <th>Parch</th>\n",
       "      <th>Ticket</th>\n",
       "      <th>Fare</th>\n",
       "      <th>Cabin</th>\n",
       "      <th>Embarked</th>\n",
       "    </tr>\n",
       "  </thead>\n",
       "  <tbody>\n",
       "    <tr>\n",
       "      <th>0</th>\n",
       "      <td>1</td>\n",
       "      <td>0</td>\n",
       "      <td>3</td>\n",
       "      <td>Braund, Mr. Owen Harris</td>\n",
       "      <td>male</td>\n",
       "      <td>22.0</td>\n",
       "      <td>1</td>\n",
       "      <td>0</td>\n",
       "      <td>A/5 21171</td>\n",
       "      <td>7.2500</td>\n",
       "      <td>NaN</td>\n",
       "      <td>S</td>\n",
       "    </tr>\n",
       "    <tr>\n",
       "      <th>1</th>\n",
       "      <td>2</td>\n",
       "      <td>1</td>\n",
       "      <td>1</td>\n",
       "      <td>Cumings, Mrs. John Bradley (Florence Briggs Th...</td>\n",
       "      <td>female</td>\n",
       "      <td>38.0</td>\n",
       "      <td>1</td>\n",
       "      <td>0</td>\n",
       "      <td>PC 17599</td>\n",
       "      <td>71.2833</td>\n",
       "      <td>C85</td>\n",
       "      <td>C</td>\n",
       "    </tr>\n",
       "    <tr>\n",
       "      <th>2</th>\n",
       "      <td>3</td>\n",
       "      <td>1</td>\n",
       "      <td>3</td>\n",
       "      <td>Heikkinen, Miss. Laina</td>\n",
       "      <td>female</td>\n",
       "      <td>26.0</td>\n",
       "      <td>0</td>\n",
       "      <td>0</td>\n",
       "      <td>STON/O2. 3101282</td>\n",
       "      <td>7.9250</td>\n",
       "      <td>NaN</td>\n",
       "      <td>S</td>\n",
       "    </tr>\n",
       "    <tr>\n",
       "      <th>3</th>\n",
       "      <td>4</td>\n",
       "      <td>1</td>\n",
       "      <td>1</td>\n",
       "      <td>Futrelle, Mrs. Jacques Heath (Lily May Peel)</td>\n",
       "      <td>female</td>\n",
       "      <td>35.0</td>\n",
       "      <td>1</td>\n",
       "      <td>0</td>\n",
       "      <td>113803</td>\n",
       "      <td>53.1000</td>\n",
       "      <td>C123</td>\n",
       "      <td>S</td>\n",
       "    </tr>\n",
       "    <tr>\n",
       "      <th>4</th>\n",
       "      <td>5</td>\n",
       "      <td>0</td>\n",
       "      <td>3</td>\n",
       "      <td>Allen, Mr. William Henry</td>\n",
       "      <td>male</td>\n",
       "      <td>35.0</td>\n",
       "      <td>0</td>\n",
       "      <td>0</td>\n",
       "      <td>373450</td>\n",
       "      <td>8.0500</td>\n",
       "      <td>NaN</td>\n",
       "      <td>S</td>\n",
       "    </tr>\n",
       "  </tbody>\n",
       "</table>\n",
       "</div>"
      ],
      "text/plain": [
       "   PassengerId  Survived  Pclass  \\\n",
       "0            1         0       3   \n",
       "1            2         1       1   \n",
       "2            3         1       3   \n",
       "3            4         1       1   \n",
       "4            5         0       3   \n",
       "\n",
       "                                                Name     Sex   Age  SibSp  \\\n",
       "0                            Braund, Mr. Owen Harris    male  22.0      1   \n",
       "1  Cumings, Mrs. John Bradley (Florence Briggs Th...  female  38.0      1   \n",
       "2                             Heikkinen, Miss. Laina  female  26.0      0   \n",
       "3       Futrelle, Mrs. Jacques Heath (Lily May Peel)  female  35.0      1   \n",
       "4                           Allen, Mr. William Henry    male  35.0      0   \n",
       "\n",
       "   Parch            Ticket     Fare Cabin Embarked  \n",
       "0      0         A/5 21171   7.2500   NaN        S  \n",
       "1      0          PC 17599  71.2833   C85        C  \n",
       "2      0  STON/O2. 3101282   7.9250   NaN        S  \n",
       "3      0            113803  53.1000  C123        S  \n",
       "4      0            373450   8.0500   NaN        S  "
      ]
     },
     "execution_count": 19,
     "metadata": {},
     "output_type": "execute_result"
    }
   ],
   "source": [
    "df.head()"
   ]
  },
  {
   "cell_type": "code",
   "execution_count": 20,
   "id": "73dc6eef",
   "metadata": {},
   "outputs": [
    {
     "data": {
      "text/plain": [
       "array(['male', 'female'], dtype=object)"
      ]
     },
     "execution_count": 20,
     "metadata": {},
     "output_type": "execute_result"
    }
   ],
   "source": [
    "df.Sex.unique() # Unique values of Gender"
   ]
  },
  {
   "cell_type": "code",
   "execution_count": 21,
   "id": "6ba1b257",
   "metadata": {},
   "outputs": [
    {
     "data": {
      "text/plain": [
       "male      577\n",
       "female    314\n",
       "Name: Sex, dtype: int64"
      ]
     },
     "execution_count": 21,
     "metadata": {},
     "output_type": "execute_result"
    }
   ],
   "source": [
    "df.Sex.value_counts() # Frequency of Unique Gender"
   ]
  },
  {
   "cell_type": "code",
   "execution_count": 22,
   "id": "c2ed8ab9",
   "metadata": {},
   "outputs": [
    {
     "data": {
      "image/png": "[encoded data removed]",
      "text/plain": [
       "<Figure size 432x288 with 1 Axes>"
      ]
     },
     "metadata": {
      "needs_background": "light"
     },
     "output_type": "display_data"
    }
   ],
   "source": [
    "plt.bar(df.Sex.unique(), df.Sex.value_counts())\n",
    "plt.show()"
   ]
  },
  {
   "cell_type": "markdown",
   "id": "39cc7c8d",
   "metadata": {},
   "source": [
    "## Or"
   ]
  },
  {
   "cell_type": "code",
   "execution_count": 23,
   "id": "cad1ed6d",
   "metadata": {},
   "outputs": [
    {
     "data": {
      "image/png": "[encoded data removed]",
      "text/plain": [
       "<Figure size 432x288 with 1 Axes>"
      ]
     },
     "metadata": {
      "needs_background": "light"
     },
     "output_type": "display_data"
    }
   ],
   "source": [
    "plt.bar(['male','female'],[577,314])\n",
    "plt.show()"
   ]
  },
  {
   "cell_type": "markdown",
   "id": "66f04e89",
   "metadata": {},
   "source": [
    "## Horizontal Bar Chart:-"
   ]
  },
  {
   "cell_type": "code",
   "execution_count": 24,
   "id": "c24f420b",
   "metadata": {},
   "outputs": [
    {
     "data": {
      "image/png": "[encoded data removed]",
      "text/plain": [
       "<Figure size 432x288 with 1 Axes>"
      ]
     },
     "metadata": {
      "needs_background": "light"
     },
     "output_type": "display_data"
    }
   ],
   "source": [
    "plt.barh(df.Sex.unique(), df.Sex.value_counts())\n",
    "plt.show()"
   ]
  },
  {
   "cell_type": "code",
   "execution_count": 25,
   "id": "cb8f36b3",
   "metadata": {},
   "outputs": [
    {
     "data": {
      "image/png": "[encoded data removed]",
      "text/plain": [
       "<Figure size 432x288 with 1 Axes>"
      ]
     },
     "metadata": {
      "needs_background": "light"
     },
     "output_type": "display_data"
    }
   ],
   "source": [
    "plt.bar(df.Sex.unique(), df.Sex.value_counts(),edgecolor='k')\n",
    "plt.text('male',577,\"577\")\n",
    "plt.text('female',314,\"314\")\n",
    "plt.show()"
   ]
  },
  {
   "cell_type": "code",
   "execution_count": 26,
   "id": "74a3d585",
   "metadata": {},
   "outputs": [
    {
     "data": {
      "image/png": "[encoded data removed]",
      "text/plain": [
       "<Figure size 432x288 with 1 Axes>"
      ]
     },
     "metadata": {
      "needs_background": "light"
     },
     "output_type": "display_data"
    }
   ],
   "source": [
    "plt.bar(df.Sex.unique(), df.Sex.value_counts(),edgecolor='k', color=['r','g'])\n",
    "plt.text('male',577,\"577\")\n",
    "plt.text('female',314,\"314\")\n",
    "plt.show()"
   ]
  },
  {
   "cell_type": "code",
   "execution_count": 27,
   "id": "9b8c25e3",
   "metadata": {},
   "outputs": [],
   "source": [
    "import matplotlib.pyplot as plt\n",
    "import numpy as np"
   ]
  },
  {
   "cell_type": "markdown",
   "id": "a668e83b",
   "metadata": {},
   "source": [
    "<h3>Simple bar chart showing revenues of major US tech companies</h3>"
   ]
  },
  {
   "cell_type": "code",
   "execution_count": 28,
   "id": "76af2f86",
   "metadata": {},
   "outputs": [],
   "source": [
    "company=['GOOGL','AMZN','MSFT','FB']\n",
    "revenue=[90,136,89,27]"
   ]
  },
  {
   "cell_type": "code",
   "execution_count": 29,
   "id": "c3713a34",
   "metadata": {},
   "outputs": [
    {
     "data": {
      "text/plain": [
       "array([0, 1, 2, 3])"
      ]
     },
     "execution_count": 29,
     "metadata": {},
     "output_type": "execute_result"
    }
   ],
   "source": [
    "xpos = np.arange(len(company))\n",
    "xpos"
   ]
  },
  {
   "cell_type": "code",
   "execution_count": 30,
   "id": "c61b436c",
   "metadata": {},
   "outputs": [
    {
     "data": {
      "image/png": "[encoded data removed]",
      "text/plain": [
       "<Figure size 432x288 with 1 Axes>"
      ]
     },
     "metadata": {
      "needs_background": "light"
     },
     "output_type": "display_data"
    }
   ],
   "source": [
    "plt.bar(xpos,revenue, label=\"Revenue\")\n",
    "\n",
    "plt.xticks(xpos,company)\n",
    "#plt.xlabel(\"Comapny\")\n",
    "plt.ylabel(\"Revenue(Bln)\")\n",
    "plt.title('US Technology Stocks')\n",
    "plt.legend()\n",
    "plt.show()"
   ]
  },
  {
   "cell_type": "markdown",
   "id": "60052a9c",
   "metadata": {},
   "source": [
    " <h3>Horizontal bar chart using barh function<h3>"
   ]
  },
  {
   "cell_type": "code",
   "execution_count": 31,
   "id": "2116a11d",
   "metadata": {},
   "outputs": [
    {
     "data": {
      "image/png": "[encoded data removed]",
      "text/plain": [
       "<Figure size 432x288 with 1 Axes>"
      ]
     },
     "metadata": {
      "needs_background": "light"
     },
     "output_type": "display_data"
    }
   ],
   "source": [
    "plt.barh(xpos,revenue, label=\"Revenue\")\n",
    "\n",
    "plt.yticks(xpos,company)\n",
    "plt.ylabel(\"Revenue(Bln)\")\n",
    "plt.title('US Technolog Stocks')\n",
    "plt.legend()\n",
    "plt.show()"
   ]
  },
  {
   "cell_type": "markdown",
   "id": "6b63d3c8",
   "metadata": {},
   "source": [
    "<h3>Multiple Bars showing revenue and profit of major US tech companies</h3>"
   ]
  },
  {
   "cell_type": "code",
   "execution_count": 32,
   "id": "37a7763d",
   "metadata": {},
   "outputs": [],
   "source": [
    "profit=[40,2,34,12]"
   ]
  },
  {
   "cell_type": "code",
   "execution_count": 33,
   "id": "7bf02ad0",
   "metadata": {},
   "outputs": [
    {
     "data": {
      "image/png": "[encoded data removed]",
      "text/plain": [
       "<Figure size 432x288 with 1 Axes>"
      ]
     },
     "metadata": {
      "needs_background": "light"
     },
     "output_type": "display_data"
    }
   ],
   "source": [
    "plt.bar(xpos-0.2,revenue, width=0.4, label=\"Revenue\")\n",
    "plt.bar(xpos+0.2,profit, width=0.4,label=\"Profit\")\n",
    "\n",
    "plt.xticks(xpos,company)\n",
    "plt.ylabel(\"Revenue(Bln)\")\n",
    "plt.title('US Technology Stocks')\n",
    "plt.legend()\n",
    "plt.show()"
   ]
  },
  {
   "cell_type": "markdown",
   "id": "6c19c9ca",
   "metadata": {},
   "source": [
    "<h1 align=\"center\", style=\"color:green\">Matplotlib: Histogram</h1>"
   ]
  },
  {
   "cell_type": "markdown",
   "id": "4a8d1dd1",
   "metadata": {},
   "source": [
    "**In histogram, x axis contains a variable and y axis will be a frequency of that variable**"
   ]
  },
  {
   "cell_type": "code",
   "execution_count": 34,
   "id": "e77e505f",
   "metadata": {},
   "outputs": [],
   "source": [
    "import matplotlib.pyplot as plt\n",
    "import pandas as pd"
   ]
  },
  {
   "cell_type": "code",
   "execution_count": 35,
   "id": "7caf8bdb",
   "metadata": {},
   "outputs": [],
   "source": [
    "df=pd.read_csv(\"titanic.csv\")"
   ]
  },
  {
   "cell_type": "code",
   "execution_count": 36,
   "id": "ff4146d1",
   "metadata": {},
   "outputs": [
    {
     "data": {
      "text/html": [
       "<div>\n",
       "<style scoped>\n",
       "    .dataframe tbody tr th:only-of-type {\n",
       "        vertical-align: middle;\n",
       "    }\n",
       "\n",
       "    .dataframe tbody tr th {\n",
       "        vertical-align: top;\n",
       "    }\n",
       "\n",
       "    .dataframe thead th {\n",
       "        text-align: right;\n",
       "    }\n",
       "</style>\n",
       "<table border=\"1\" class=\"dataframe\">\n",
       "  <thead>\n",
       "    <tr style=\"text-align: right;\">\n",
       "      <th></th>\n",
       "      <th>PassengerId</th>\n",
       "      <th>Survived</th>\n",
       "      <th>Pclass</th>\n",
       "      <th>Name</th>\n",
       "      <th>Sex</th>\n",
       "      <th>Age</th>\n",
       "      <th>SibSp</th>\n",
       "      <th>Parch</th>\n",
       "      <th>Ticket</th>\n",
       "      <th>Fare</th>\n",
       "      <th>Cabin</th>\n",
       "      <th>Embarked</th>\n",
       "    </tr>\n",
       "  </thead>\n",
       "  <tbody>\n",
       "    <tr>\n",
       "      <th>0</th>\n",
       "      <td>1</td>\n",
       "      <td>0</td>\n",
       "      <td>3</td>\n",
       "      <td>Braund, Mr. Owen Harris</td>\n",
       "      <td>male</td>\n",
       "      <td>22.0</td>\n",
       "      <td>1</td>\n",
       "      <td>0</td>\n",
       "      <td>A/5 21171</td>\n",
       "      <td>7.2500</td>\n",
       "      <td>NaN</td>\n",
       "      <td>S</td>\n",
       "    </tr>\n",
       "    <tr>\n",
       "      <th>1</th>\n",
       "      <td>2</td>\n",
       "      <td>1</td>\n",
       "      <td>1</td>\n",
       "      <td>Cumings, Mrs. John Bradley (Florence Briggs Th...</td>\n",
       "      <td>female</td>\n",
       "      <td>38.0</td>\n",
       "      <td>1</td>\n",
       "      <td>0</td>\n",
       "      <td>PC 17599</td>\n",
       "      <td>71.2833</td>\n",
       "      <td>C85</td>\n",
       "      <td>C</td>\n",
       "    </tr>\n",
       "    <tr>\n",
       "      <th>2</th>\n",
       "      <td>3</td>\n",
       "      <td>1</td>\n",
       "      <td>3</td>\n",
       "      <td>Heikkinen, Miss. Laina</td>\n",
       "      <td>female</td>\n",
       "      <td>26.0</td>\n",
       "      <td>0</td>\n",
       "      <td>0</td>\n",
       "      <td>STON/O2. 3101282</td>\n",
       "      <td>7.9250</td>\n",
       "      <td>NaN</td>\n",
       "      <td>S</td>\n",
       "    </tr>\n",
       "    <tr>\n",
       "      <th>3</th>\n",
       "      <td>4</td>\n",
       "      <td>1</td>\n",
       "      <td>1</td>\n",
       "      <td>Futrelle, Mrs. Jacques Heath (Lily May Peel)</td>\n",
       "      <td>female</td>\n",
       "      <td>35.0</td>\n",
       "      <td>1</td>\n",
       "      <td>0</td>\n",
       "      <td>113803</td>\n",
       "      <td>53.1000</td>\n",
       "      <td>C123</td>\n",
       "      <td>S</td>\n",
       "    </tr>\n",
       "    <tr>\n",
       "      <th>4</th>\n",
       "      <td>5</td>\n",
       "      <td>0</td>\n",
       "      <td>3</td>\n",
       "      <td>Allen, Mr. William Henry</td>\n",
       "      <td>male</td>\n",
       "      <td>35.0</td>\n",
       "      <td>0</td>\n",
       "      <td>0</td>\n",
       "      <td>373450</td>\n",
       "      <td>8.0500</td>\n",
       "      <td>NaN</td>\n",
       "      <td>S</td>\n",
       "    </tr>\n",
       "  </tbody>\n",
       "</table>\n",
       "</div>"
      ],
      "text/plain": [
       "   PassengerId  Survived  Pclass  \\\n",
       "0            1         0       3   \n",
       "1            2         1       1   \n",
       "2            3         1       3   \n",
       "3            4         1       1   \n",
       "4            5         0       3   \n",
       "\n",
       "                                                Name     Sex   Age  SibSp  \\\n",
       "0                            Braund, Mr. Owen Harris    male  22.0      1   \n",
       "1  Cumings, Mrs. John Bradley (Florence Briggs Th...  female  38.0      1   \n",
       "2                             Heikkinen, Miss. Laina  female  26.0      0   \n",
       "3       Futrelle, Mrs. Jacques Heath (Lily May Peel)  female  35.0      1   \n",
       "4                           Allen, Mr. William Henry    male  35.0      0   \n",
       "\n",
       "   Parch            Ticket     Fare Cabin Embarked  \n",
       "0      0         A/5 21171   7.2500   NaN        S  \n",
       "1      0          PC 17599  71.2833   C85        C  \n",
       "2      0  STON/O2. 3101282   7.9250   NaN        S  \n",
       "3      0            113803  53.1000  C123        S  \n",
       "4      0            373450   8.0500   NaN        S  "
      ]
     },
     "execution_count": 36,
     "metadata": {},
     "output_type": "execute_result"
    }
   ],
   "source": [
    "df.head()"
   ]
  },
  {
   "cell_type": "code",
   "execution_count": 37,
   "id": "af4b6864",
   "metadata": {},
   "outputs": [
    {
     "data": {
      "text/plain": [
       "0      22.0\n",
       "1      38.0\n",
       "2      26.0\n",
       "3      35.0\n",
       "4      35.0\n",
       "       ... \n",
       "886    27.0\n",
       "887    19.0\n",
       "888     NaN\n",
       "889    26.0\n",
       "890    32.0\n",
       "Name: Age, Length: 891, dtype: float64"
      ]
     },
     "execution_count": 37,
     "metadata": {},
     "output_type": "execute_result"
    }
   ],
   "source": [
    "age=df.Age\n",
    "age"
   ]
  },
  {
   "cell_type": "code",
   "execution_count": 38,
   "id": "b499f3ce",
   "metadata": {},
   "outputs": [
    {
     "data": {
      "text/plain": [
       "0.42"
      ]
     },
     "execution_count": 38,
     "metadata": {},
     "output_type": "execute_result"
    }
   ],
   "source": [
    "min_age=age.min()\n",
    "min_age"
   ]
  },
  {
   "cell_type": "code",
   "execution_count": 39,
   "id": "c386b17b",
   "metadata": {},
   "outputs": [
    {
     "data": {
      "text/plain": [
       "80.0"
      ]
     },
     "execution_count": 39,
     "metadata": {},
     "output_type": "execute_result"
    }
   ],
   "source": [
    "max_age=age.max()\n",
    "max_age"
   ]
  },
  {
   "cell_type": "code",
   "execution_count": 40,
   "id": "9ed03175",
   "metadata": {},
   "outputs": [],
   "source": [
    "import warnings\n",
    "warnings.filterwarnings('ignore')"
   ]
  },
  {
   "cell_type": "code",
   "execution_count": 41,
   "id": "0459fa64",
   "metadata": {},
   "outputs": [
    {
     "data": {
      "image/png": "[encoded data removed]",
      "text/plain": [
       "<Figure size 432x288 with 1 Axes>"
      ]
     },
     "metadata": {
      "needs_background": "light"
     },
     "output_type": "display_data"
    }
   ],
   "source": [
    "plt.hist(df.Age,edgecolor='k')\n",
    "plt.show()\n",
    "# by default bins=None , if bins values not given then\n",
    "# it generate bins automatically according to data.\n",
    "# so this dataset 10 bins are generated automatically."
   ]
  },
  {
   "cell_type": "code",
   "execution_count": 42,
   "id": "4c257332",
   "metadata": {},
   "outputs": [
    {
     "data": {
      "image/png": "[encoded data removed]",
      "text/plain": [
       "<Figure size 432x288 with 1 Axes>"
      ]
     },
     "metadata": {
      "needs_background": "light"
     },
     "output_type": "display_data"
    }
   ],
   "source": [
    "plt.hist(df.Age,edgecolor='k',bins=5)\n",
    "plt.show()\n",
    "\n",
    "# If u given bins values then intervals generate automatically according to bins value.\n",
    "# like:- 0-18, 18-32, 32-48, 48-64, 64-80"
   ]
  },
  {
   "cell_type": "code",
   "execution_count": 43,
   "id": "a00411ba",
   "metadata": {},
   "outputs": [],
   "source": [
    "# After seeing above graph, \n",
    "# u interpretation max passengers in b/w 18 to 32 Age range."
   ]
  },
  {
   "cell_type": "code",
   "execution_count": 44,
   "id": "8ea3b17b",
   "metadata": {},
   "outputs": [
    {
     "data": {
      "image/png": "[encoded data removed]",
      "text/plain": [
       "<Figure size 432x288 with 1 Axes>"
      ]
     },
     "metadata": {
      "needs_background": "light"
     },
     "output_type": "display_data"
    }
   ],
   "source": [
    "# How to give bins intervals\n",
    "plt.hist(df.Age,edgecolor='k',bins=[0,10,20,30,40,50,60,70,80])\n",
    "plt.show()"
   ]
  },
  {
   "cell_type": "markdown",
   "id": "e68d2344",
   "metadata": {},
   "source": [
    "**In histogram, x axis contains a variable and y axis will be a frequency of that variable**"
   ]
  },
  {
   "cell_type": "markdown",
   "id": "1b48bc8e",
   "metadata": {},
   "source": [
    "**We have a sample data of blood sugar level of different patients, we will try to plot number of patients by blood range and try to figure out how many patients are normal, pre-diabetic and diabetic**"
   ]
  },
  {
   "cell_type": "code",
   "execution_count": 45,
   "id": "2e4afa71",
   "metadata": {},
   "outputs": [
    {
     "data": {
      "image/png": "[encoded data removed]",
      "text/plain": [
       "<Figure size 432x288 with 1 Axes>"
      ]
     },
     "metadata": {
      "needs_background": "light"
     },
     "output_type": "display_data"
    }
   ],
   "source": [
    "blood_sugar = [113, 85, 90, 150, 149, 88, 93, 115, 135, 80, 77, 82, 129]\n",
    "#plt.hist(blood_sugar)\n",
    "#plt.hist(blood_sugar,edgecolor='k') \n",
    "plt.hist(blood_sugar, rwidth=0.8)\n",
    "# by default number of bins is set to None, rwidth=None(relative width)\n",
    "plt.show()"
   ]
  },
  {
   "cell_type": "markdown",
   "id": "c72e8057",
   "metadata": {},
   "source": [
    "<h3 style='color:purple'>bins parameter</h3>"
   ]
  },
  {
   "cell_type": "code",
   "execution_count": 46,
   "id": "5a6d6714",
   "metadata": {},
   "outputs": [
    {
     "data": {
      "image/png": "[encoded data removed]",
      "text/plain": [
       "<Figure size 432x288 with 1 Axes>"
      ]
     },
     "metadata": {
      "needs_background": "light"
     },
     "output_type": "display_data"
    }
   ],
   "source": [
    "plt.hist(blood_sugar,rwidth=0.5,bins=4)\n",
    "plt.show()"
   ]
  },
  {
   "cell_type": "markdown",
   "id": "bce23355",
   "metadata": {},
   "source": [
    "<h3 style='color:purple'>Histogram showing normal, pre-diabetic and diabetic patients distribution</h3>"
   ]
  },
  {
   "cell_type": "markdown",
   "id": "bf2c715c",
   "metadata": {},
   "source": [
    "<ul style=\"color:brown;font-weight: bold;\">\n",
    "    <li>80-100: Normal</li>\n",
    "    <li>100-125: Pre-diabetic</li>\n",
    "    <li>125-150: Diabetic</li>\n",
    "</ul>"
   ]
  },
  {
   "cell_type": "code",
   "execution_count": 47,
   "id": "b3fc94a5",
   "metadata": {},
   "outputs": [
    {
     "data": {
      "image/png": "[encoded data removed]",
      "text/plain": [
       "<Figure size 432x288 with 1 Axes>"
      ]
     },
     "metadata": {
      "needs_background": "light"
     },
     "output_type": "display_data"
    }
   ],
   "source": [
    "plt.xlabel(\"Sugar Level\")\n",
    "plt.ylabel(\"Number Of Patients\")\n",
    "plt.title(\"Blood Sugar Chart\")\n",
    "\n",
    "plt.hist(blood_sugar, bins=[80,100,125,150], rwidth=0.95, color='g')\n",
    "plt.show()"
   ]
  },
  {
   "cell_type": "markdown",
   "id": "349bb023",
   "metadata": {},
   "source": [
    "<h3 style='color:purple'>Mutiple data samples in a histogram</h3>"
   ]
  },
  {
   "cell_type": "code",
   "execution_count": 48,
   "id": "39fd32ab",
   "metadata": {},
   "outputs": [
    {
     "data": {
      "image/png": "[encoded data removed]",
      "text/plain": [
       "<Figure size 432x288 with 1 Axes>"
      ]
     },
     "metadata": {
      "needs_background": "light"
     },
     "output_type": "display_data"
    }
   ],
   "source": [
    "plt.xlabel(\"Sugar Level\")\n",
    "plt.ylabel(\"Number Of Patients\")\n",
    "plt.title(\"Blood Sugar Chart\")\n",
    "\n",
    "blood_sugar_men = [113, 85, 90, 150, 149, 88, 93, 115, 135, 80, 77, 82, 129]\n",
    "blood_sugar_women = [67, 98, 89, 120, 133, 150, 84, 69, 89, 79, 120, 112, 100]\n",
    "\n",
    "plt.hist([blood_sugar_men,blood_sugar_women], bins=[80,100,125,150],\n",
    "         rwidth=0.95, color=['green','orange'],label=['men','women'])\n",
    "plt.legend()\n",
    "plt.show()"
   ]
  },
  {
   "cell_type": "markdown",
   "id": "2d7671c6",
   "metadata": {},
   "source": [
    "<h3 style='color:purple'>histtype=step</h3>"
   ]
  },
  {
   "cell_type": "code",
   "execution_count": 50,
   "id": "3260b5ec",
   "metadata": {},
   "outputs": [
    {
     "data": {
      "image/png": "[encoded data removed]",
      "text/plain": [
       "<Figure size 432x288 with 1 Axes>"
      ]
     },
     "metadata": {
      "needs_background": "light"
     },
     "output_type": "display_data"
    }
   ],
   "source": [
    "plt.xlabel(\"Sugar Level\")\n",
    "plt.ylabel(\"Number Of Patients\")\n",
    "plt.title(\"Blood Sugar Chart\")\n",
    "\n",
    "plt.hist(blood_sugar,bins=[80,100,125,150],rwidth=0.95,histtype='step')\n",
    "plt.show()"
   ]
  },
  {
   "cell_type": "markdown",
   "id": "c5b1c0f7",
   "metadata": {},
   "source": [
    "<h3 style='color:purple'>horizontal orientation</h3>"
   ]
  },
  {
   "cell_type": "code",
   "execution_count": 51,
   "id": "b90e6735",
   "metadata": {},
   "outputs": [
    {
     "data": {
      "image/png": "[encoded data removed]",
      "text/plain": [
       "<Figure size 432x288 with 1 Axes>"
      ]
     },
     "metadata": {
      "needs_background": "light"
     },
     "output_type": "display_data"
    }
   ],
   "source": [
    "plt.xlabel(\"Number Of Patients\")\n",
    "plt.ylabel(\"Sugar Level\")\n",
    "plt.title(\"Blood Sugar Chart\")\n",
    "\n",
    "plt.hist(blood_sugar, bins=[80,100,125,150], rwidth=0.95, \n",
    "         orientation='horizontal')\n",
    "plt.show()"
   ]
  },
  {
   "cell_type": "markdown",
   "id": "dcd7be53",
   "metadata": {},
   "source": [
    "<h1 align=\"center\", style=\"color:green\">Matplotlib: Pie Charts</h1>"
   ]
  },
  {
   "cell_type": "code",
   "execution_count": 52,
   "id": "66803c97",
   "metadata": {},
   "outputs": [],
   "source": [
    "seats=[90,60,30]\n",
    "party=['BJP','Congress','AAP']"
   ]
  },
  {
   "cell_type": "code",
   "execution_count": 53,
   "id": "7884778d",
   "metadata": {},
   "outputs": [
    {
     "data": {
      "image/png": "[encoded data removed]",
      "text/plain": [
       "<Figure size 432x288 with 1 Axes>"
      ]
     },
     "metadata": {},
     "output_type": "display_data"
    }
   ],
   "source": [
    "plt.pie(seats,labels=party)\n",
    "plt.show()"
   ]
  },
  {
   "cell_type": "code",
   "execution_count": 54,
   "id": "de5171e0",
   "metadata": {},
   "outputs": [
    {
     "data": {
      "image/png": "[encoded data removed]",
      "text/plain": [
       "<Figure size 432x288 with 1 Axes>"
      ]
     },
     "metadata": {},
     "output_type": "display_data"
    }
   ],
   "source": [
    "plt.pie(seats,labels=party,autopct='%i') #auto percentage\n",
    "plt.show()"
   ]
  },
  {
   "cell_type": "code",
   "execution_count": 55,
   "id": "57ac27c8",
   "metadata": {},
   "outputs": [
    {
     "data": {
      "image/png": "[encoded data removed]",
      "text/plain": [
       "<Figure size 432x288 with 1 Axes>"
      ]
     },
     "metadata": {},
     "output_type": "display_data"
    }
   ],
   "source": [
    "plt.pie(seats,labels=party,autopct='%f')\n",
    "plt.show()"
   ]
  },
  {
   "cell_type": "code",
   "execution_count": 56,
   "id": "d12ab3b2",
   "metadata": {},
   "outputs": [
    {
     "data": {
      "image/png": "[encoded data removed]",
      "text/plain": [
       "<Figure size 432x288 with 1 Axes>"
      ]
     },
     "metadata": {},
     "output_type": "display_data"
    }
   ],
   "source": [
    "plt.pie(seats,labels=party,autopct='%.2f')\n",
    "plt.show()"
   ]
  },
  {
   "cell_type": "code",
   "execution_count": 57,
   "id": "c8d5c2d8",
   "metadata": {},
   "outputs": [
    {
     "data": {
      "image/png": "[encoded data removed]",
      "text/plain": [
       "<Figure size 432x288 with 1 Axes>"
      ]
     },
     "metadata": {},
     "output_type": "display_data"
    }
   ],
   "source": [
    "plt.pie(seats,labels=party,autopct='%.1f%%')\n",
    "plt.show()"
   ]
  },
  {
   "cell_type": "code",
   "execution_count": 58,
   "id": "e7d069a0",
   "metadata": {},
   "outputs": [
    {
     "data": {
      "image/png": "[encoded data removed]",
      "text/plain": [
       "<Figure size 432x288 with 1 Axes>"
      ]
     },
     "metadata": {},
     "output_type": "display_data"
    }
   ],
   "source": [
    "plt.pie(seats,labels=party,autopct='%.1f%%',wedgeprops={'edgecolor':'k'})\n",
    "plt.show()"
   ]
  },
  {
   "cell_type": "code",
   "execution_count": 59,
   "id": "1655476e",
   "metadata": {},
   "outputs": [
    {
     "data": {
      "image/png": "[encoded data removed]",
      "text/plain": [
       "<Figure size 432x288 with 1 Axes>"
      ]
     },
     "metadata": {},
     "output_type": "display_data"
    }
   ],
   "source": [
    "plt.pie(seats,labels=party,autopct='%.1f%%',wedgeprops={'edgecolor':'k'},\n",
    "        explode=(0,0,0.3))\n",
    "plt.show()"
   ]
  },
  {
   "cell_type": "markdown",
   "id": "f3ff0a63",
   "metadata": {},
   "source": [
    "<h3 style=\"color:purple\">Draw pie chart to track down home expenses</h3>"
   ]
  },
  {
   "cell_type": "code",
   "execution_count": 60,
   "id": "7de41f27",
   "metadata": {},
   "outputs": [
    {
     "data": {
      "image/png": "[encoded data removed]",
      "text/plain": [
       "<Figure size 432x288 with 1 Axes>"
      ]
     },
     "metadata": {},
     "output_type": "display_data"
    }
   ],
   "source": [
    "exp_vals = [1400,600,300,410,250]\n",
    "exp_labels = [\"Home Rent\",\"Food\",\"Phone/Internet Bill\",\"Car \",\"Other Utilities\"]\n",
    "plt.pie(exp_vals,labels=exp_labels)\n",
    "plt.show()"
   ]
  },
  {
   "cell_type": "markdown",
   "id": "28cfc33e",
   "metadata": {},
   "source": [
    "<h3 style=\"color:purple\">Draw pie chart as perfect circle</h3>"
   ]
  },
  {
   "cell_type": "code",
   "execution_count": 61,
   "id": "bdf9d9aa",
   "metadata": {},
   "outputs": [
    {
     "data": {
      "image/png": "[encoded data removed]",
      "text/plain": [
       "<Figure size 432x288 with 1 Axes>"
      ]
     },
     "metadata": {},
     "output_type": "display_data"
    }
   ],
   "source": [
    "plt.pie(exp_vals,labels=exp_labels, shadow=True)\n",
    "plt.axis(\"equal\")\n",
    "plt.show()"
   ]
  },
  {
   "cell_type": "markdown",
   "id": "ab713126",
   "metadata": {},
   "source": [
    "<h3 style=\"color:purple\">Show percentages for every pie. Specify radius to increase chart size</h3>"
   ]
  },
  {
   "cell_type": "code",
   "execution_count": 63,
   "id": "cfe009e9",
   "metadata": {},
   "outputs": [
    {
     "data": {
      "image/png": "[encoded data removed]",
      "text/plain": [
       "<Figure size 432x288 with 1 Axes>"
      ]
     },
     "metadata": {},
     "output_type": "display_data"
    }
   ],
   "source": [
    "plt.pie(exp_vals,labels=exp_labels, shadow=True,autopct='%.2f%%', radius=1.5)\n",
    "#plt.axis(\"equal\")\n",
    "plt.show()"
   ]
  },
  {
   "cell_type": "markdown",
   "id": "e063e8f6",
   "metadata": {},
   "source": [
    "<h3 style=\"color:purple\">Explode</h3>"
   ]
  },
  {
   "cell_type": "code",
   "execution_count": 67,
   "id": "9347c6e4",
   "metadata": {},
   "outputs": [
    {
     "data": {
      "image/png": "[encoded data removed]",
      "text/plain": [
       "<Figure size 432x288 with 1 Axes>"
      ]
     },
     "metadata": {},
     "output_type": "display_data"
    }
   ],
   "source": [
    "plt.axis(\"equal\")\n",
    "plt.pie(exp_vals,labels=exp_labels, shadow=True, autopct='%1.1f%%',radius=1.5,explode=[0,0,0,0.1,0.2])\n",
    "plt.show()"
   ]
  },
  {
   "cell_type": "markdown",
   "id": "525e0841",
   "metadata": {},
   "source": [
    "\n",
    "<h3 style=\"color:purple\">counterclock and angle properties</h3>"
   ]
  },
  {
   "cell_type": "code",
   "execution_count": 68,
   "id": "72ffb9d0",
   "metadata": {},
   "outputs": [
    {
     "data": {
      "image/png": "[encoded data removed]",
      "text/plain": [
       "<Figure size 432x288 with 1 Axes>"
      ]
     },
     "metadata": {},
     "output_type": "display_data"
    }
   ],
   "source": [
    "plt.axis(\"equal\")\n",
    "plt.pie(exp_vals,labels=exp_labels, shadow=True, autopct='%1.1f%%',radius=1.5,explode=[0,0,0,0.1,0.2],counterclock=True, startangle=45)\n",
    "plt.show()"
   ]
  },
  {
   "cell_type": "markdown",
   "id": "ddbc6f4f",
   "metadata": {},
   "source": [
    "<h2 style=\"color:green\" align=\"center\">Saving chart to a file using savefig</h2>"
   ]
  },
  {
   "cell_type": "code",
   "execution_count": 69,
   "id": "c1c5df44",
   "metadata": {},
   "outputs": [],
   "source": [
    "exp_vals = [1400,600,300,410,250]\n",
    "exp_labels = [\"Home Rent\",\"Food\",\"Phone/Internet Bill\",\"Car \",\"Other Utilities\"]"
   ]
  },
  {
   "cell_type": "code",
   "execution_count": 70,
   "id": "2769825c",
   "metadata": {},
   "outputs": [
    {
     "data": {
      "image/png": "[encoded data removed]",
      "text/plain": [
       "<Figure size 432x288 with 1 Axes>"
      ]
     },
     "metadata": {},
     "output_type": "display_data"
    }
   ],
   "source": [
    "plt.axis(\"equal\")\n",
    "plt.pie(exp_vals,labels=exp_labels,radius=2, autopct='%0.1f%%', explode=[0,0.1,0.1,0,0])\n",
    "plt.savefig(\"piechart.jpg\",bbox_inches=\"tight\", pad_inches=1)\n",
    "plt.show()"
   ]
  },
  {
   "cell_type": "markdown",
   "id": "f4ac36d8",
   "metadata": {},
   "source": [
    "<h2>You can also save in pdf format and to a different location on your computer by specifying absolute path<h2>"
   ]
  },
  {
   "cell_type": "markdown",
   "id": "de2d3a6c",
   "metadata": {},
   "source": [
    "<h1 align=\"center\", style=\"color:green\">Matplotlib: Scatter Chart</h1>"
   ]
  },
  {
   "cell_type": "code",
   "execution_count": 71,
   "id": "9eee6233",
   "metadata": {},
   "outputs": [],
   "source": [
    "import matplotlib.pyplot as plt\n",
    "import pandas as pd"
   ]
  },
  {
   "cell_type": "code",
   "execution_count": 72,
   "id": "186be7a0",
   "metadata": {},
   "outputs": [],
   "source": [
    "h=[140,160,150,145,180,130]\n",
    "w=[80,60,75,67,120,65]"
   ]
  },
  {
   "cell_type": "code",
   "execution_count": 73,
   "id": "c75342a3",
   "metadata": {},
   "outputs": [
    {
     "data": {
      "image/png": "[encoded data removed]",
      "text/plain": [
       "<Figure size 432x288 with 1 Axes>"
      ]
     },
     "metadata": {
      "needs_background": "light"
     },
     "output_type": "display_data"
    }
   ],
   "source": [
    "plt.scatter(h,w)\n",
    "plt.show()"
   ]
  },
  {
   "cell_type": "code",
   "execution_count": 74,
   "id": "3e8d46f4",
   "metadata": {},
   "outputs": [
    {
     "data": {
      "image/png": "[encoded data removed]",
      "text/plain": [
       "<Figure size 576x432 with 1 Axes>"
      ]
     },
     "metadata": {
      "needs_background": "light"
     },
     "output_type": "display_data"
    }
   ],
   "source": [
    "plt.figure(figsize=(8,6)) # 8 inch width & 6 inch height\n",
    "plt.scatter(h,w,c='b',s=100,marker='s')\n",
    "plt.xlabel(\"Height(cm)\")\n",
    "plt.ylabel(\"Weight(kg)\")\n",
    "plt.xticks([100,110,120,130,140,150,160,170,180,190,200])\n",
    "plt.yticks(range(40,150,10))\n",
    "plt.title(\"Scatter Chart of Height v/s Weight\")\n",
    "plt.text(110,110,\"Scatter Data\",size=20,c='red')\n",
    "for x,y in zip(h,w):\n",
    "    plt.text(x,y,f\"({x},{y})\")\n",
    "    \n",
    "#plt.grid()\n",
    "plt.show()\n"
   ]
  },
  {
   "cell_type": "markdown",
   "id": "5ab8d710",
   "metadata": {},
   "source": [
    "<h1 align=\"center\", style=\"color:green\">Matplotlib: Subplots</h1>"
   ]
  },
  {
   "cell_type": "markdown",
   "id": "f6d2fc2f",
   "metadata": {},
   "source": [
    "The Matplotlib subplot() function can be called to plot two or more plots in one figure. Matplotlib supports all kind of subplots including 2x1 vertical, 2x1 horizontal or a 2x2 grid."
   ]
  },
  {
   "cell_type": "markdown",
   "id": "8f3f46cb",
   "metadata": {},
   "source": [
    "# Horizontal subplot :"
   ]
  },
  {
   "cell_type": "code",
   "execution_count": 76,
   "id": "aa2d360f",
   "metadata": {},
   "outputs": [],
   "source": [
    "import matplotlib.pyplot as plt\n",
    "import numpy as np"
   ]
  },
  {
   "cell_type": "code",
   "execution_count": 77,
   "id": "3abb8dd8",
   "metadata": {},
   "outputs": [],
   "source": [
    "t =np.arange(0.0, 20.0, 1)\n",
    "s = [1,2,3,4,5,6,7,8,9,10,11,12,13,14,15,16,17,18,19,20]"
   ]
  },
  {
   "cell_type": "code",
   "execution_count": 78,
   "id": "98126a7b",
   "metadata": {},
   "outputs": [
    {
     "data": {
      "image/png": "[encoded data removed]",
      "text/plain": [
       "<Figure size 432x288 with 2 Axes>"
      ]
     },
     "metadata": {},
     "output_type": "display_data"
    }
   ],
   "source": [
    "plt.subplot(2,1,1)\n",
    "plt.xticks([])\n",
    "plt.yticks([])\n",
    "plt.title('subplot(2,1,1)')\n",
    "plt.plot(t,s)\n",
    "\n",
    "plt.subplot(2,1,2)\n",
    "plt.xticks([])\n",
    "plt.yticks([])\n",
    "plt.title('subplot(2,1,2)')\n",
    "plt.plot(t,s,'r-')\n",
    "\n",
    "plt.show()"
   ]
  },
  {
   "cell_type": "markdown",
   "id": "dc66ea8d",
   "metadata": {},
   "source": [
    "# Vertical subplot :"
   ]
  },
  {
   "cell_type": "code",
   "execution_count": 79,
   "id": "2b380d63",
   "metadata": {},
   "outputs": [
    {
     "data": {
      "image/png": "[encoded data removed]",
      "text/plain": [
       "<Figure size 432x288 with 2 Axes>"
      ]
     },
     "metadata": {},
     "output_type": "display_data"
    }
   ],
   "source": [
    "plt.subplot(1,2,1)\n",
    "plt.xticks([])\n",
    "plt.yticks([])\n",
    "plt.title('subplot(2,1,1)')\n",
    "plt.plot(t,s)\n",
    "\n",
    "plt.subplot(1,2,2)\n",
    "plt.xticks([])\n",
    "plt.yticks([])\n",
    "plt.title('subplot(2,1,2)')\n",
    "plt.plot(t,s,'r-')\n",
    "\n",
    "plt.show()"
   ]
  },
  {
   "cell_type": "markdown",
   "id": "89fad04e",
   "metadata": {},
   "source": [
    "# Subplot grid :"
   ]
  },
  {
   "cell_type": "code",
   "execution_count": 80,
   "id": "e02b49cd",
   "metadata": {},
   "outputs": [
    {
     "data": {
      "image/png": "[encoded data removed]",
      "text/plain": [
       "<Figure size 432x288 with 4 Axes>"
      ]
     },
     "metadata": {},
     "output_type": "display_data"
    }
   ],
   "source": [
    "plt.subplot(2,2,1)\n",
    "plt.xticks([])\n",
    "plt.yticks([])\n",
    "plt.title('subplot(2,2,1)')\n",
    "plt.plot(t,s)\n",
    "\n",
    "plt.subplot(2,2,2)\n",
    "plt.xticks([])\n",
    "plt.yticks([])\n",
    "plt.title('subplot(2,2,2)')\n",
    "plt.plot(t,s,'r-')\n",
    "\n",
    "plt.subplot(2,2,3)\n",
    "plt.xticks([])\n",
    "plt.yticks([])\n",
    "plt.title('subplot(2,2,3)')\n",
    "plt.plot(t,s,'g-')\n",
    "\n",
    "plt.subplot(2,2,4)\n",
    "plt.xticks([])\n",
    "plt.yticks([])\n",
    "plt.title('subplot(2,2,4)')\n",
    "plt.plot(t,s,'y-')\n",
    "\n",
    "plt.show()"
   ]
  },
  {
   "cell_type": "code",
   "execution_count": 81,
   "id": "f12d874e",
   "metadata": {},
   "outputs": [
    {
     "data": {
      "image/png": "[encoded data removed]",
      "text/plain": [
       "<Figure size 432x288 with 6 Axes>"
      ]
     },
     "metadata": {},
     "output_type": "display_data"
    }
   ],
   "source": [
    "x=[1,2,3,4]\n",
    "y=[2,0,4,-3]\n",
    "plt.subplot(2,3,1)\n",
    "plt.xticks([])\n",
    "plt.yticks([])\n",
    "plt.title('subplot(2,3,1)')\n",
    "plt.plot(x,y,color='red')\n",
    "\n",
    "x=[1,2,3,4,5,6]\n",
    "y=[10,3,5,6,7,1]\n",
    "plt.subplot(2,3,2)\n",
    "plt.xticks([])\n",
    "plt.yticks([])\n",
    "plt.title('subplot(2,3,2)')\n",
    "plt.bar(x,y)\n",
    "\n",
    "\n",
    "x=[1,2,3,4,5,6]\n",
    "y=[10,3,5,6,7,1]\n",
    "plt.subplot(2,3,3)\n",
    "plt.xticks([])\n",
    "plt.yticks([])\n",
    "plt.title('subplot(2,3,3)')\n",
    "plt.scatter(x,y,color='green')\n",
    "\n",
    "data=[8,2,10,4,6]\n",
    "plt.subplot(2,3,4)\n",
    "plt.xticks([])\n",
    "plt.yticks([])\n",
    "plt.title('subplot(2,3,4)')\n",
    "plt.pie(data,frame=True)\n",
    "plt.axis(\"equal\")\n",
    "\n",
    "plt.subplot(2,3,5)\n",
    "plt.xticks([])\n",
    "plt.yticks([])\n",
    "plt.title('subplot(2,3,5)')\n",
    "plt.barh(x,y,color='purple')\n",
    "\n",
    "plt.subplot(2,3,6)\n",
    "plt.xticks([])\n",
    "plt.yticks([])\n",
    "plt.title('subplot(2,3,6)')\n",
    "plt.hist(x,bins=8,color='orange')\n",
    "\n",
    "plt.show()"
   ]
  },
  {
   "cell_type": "code",
   "execution_count": null,
   "id": "b39a3ea6",
   "metadata": {},
   "outputs": [],
   "source": []
  },
  {
   "cell_type": "code",
   "execution_count": null,
   "id": "6befb2c5",
   "metadata": {},
   "outputs": [],
   "source": [
    "import matplotlib.pyplot as plt\n",
    "%matplotlib nbagg\n",
    "import numpy as np\n",
    "import mplcursors\n",
    "\n",
    "x=[1,2,3,4,5,6,7]\n",
    "y=[50,51,52,48,47,49,46]\n",
    "\n",
    "plt.title(\"Mouse over a point\")\n",
    "plt.scatter(x,y)\n",
    "\n",
    "mplcursors.cursor(hover=True)\n",
    "\n",
    "plt.show()\n"
   ]
  },
  {
   "cell_type": "code",
   "execution_count": 82,
   "id": "db532769",
   "metadata": {},
   "outputs": [
    {
     "data": {
      "application/javascript": [
       "/* Put everything inside the global mpl namespace */\n",
       "/* global mpl */\n",
       "window.mpl = {};\n",
       "\n",
       "mpl.get_websocket_type = function () {\n",
       "    if (typeof WebSocket !== 'undefined') {\n",
       "        return WebSocket;\n",
       "    } else if (typeof MozWebSocket !== 'undefined') {\n",
       "        return MozWebSocket;\n",
       "    } else {\n",
       "        alert(\n",
       "            'Your browser does not have WebSocket support. ' +\n",
       "                'Please try Chrome, Safari or Firefox ≥ 6. ' +\n",
       "                'Firefox 4 and 5 are also supported but you ' +\n",
       "                'have to enable WebSockets in about:config.'\n",
       "        );\n",
       "    }\n",
       "};\n",
       "\n",
       "mpl.figure = function (figure_id, websocket, ondownload, parent_element) {\n",
       "    this.id = figure_id;\n",
       "\n",
       "    this.ws = websocket;\n",
       "\n",
       "    this.supports_binary = this.ws.binaryType !== undefined;\n",
       "\n",
       "    if (!this.supports_binary) {\n",
       "        var warnings = document.getElementById('mpl-warnings');\n",
       "        if (warnings) {\n",
       "            warnings.style.display = 'block';\n",
       "            warnings.textContent =\n",
       "                'This browser does not support binary websocket messages. ' +\n",
       "                'Performance may be slow.';\n",
       "        }\n",
       "    }\n",
       "\n",
       "    this.imageObj = new Image();\n",
       "\n",
       "    this.context = undefined;\n",
       "    this.message = undefined;\n",
       "    this.canvas = undefined;\n",
       "    this.rubberband_canvas = undefined;\n",
       "    this.rubberband_context = undefined;\n",
       "    this.format_dropdown = undefined;\n",
       "\n",
       "    this.image_mode = 'full';\n",
       "\n",
       "    this.root = document.createElement('div');\n",
       "    this.root.setAttribute('style', 'display: inline-block');\n",
       "    this._root_extra_style(this.root);\n",
       "\n",
       "    parent_element.appendChild(this.root);\n",
       "\n",
       "    this._init_header(this);\n",
       "    this._init_canvas(this);\n",
       "    this._init_toolbar(this);\n",
       "\n",
       "    var fig = this;\n",
       "\n",
       "    this.waiting = false;\n",
       "\n",
       "    this.ws.onopen = function () {\n",
       "        fig.send_message('supports_binary', { value: fig.supports_binary });\n",
       "        fig.send_message('send_image_mode', {});\n",
       "        if (fig.ratio !== 1) {\n",
       "            fig.send_message('set_dpi_ratio', { dpi_ratio: fig.ratio });\n",
       "        }\n",
       "        fig.send_message('refresh', {});\n",
       "    };\n",
       "\n",
       "    this.imageObj.onload = function () {\n",
       "        if (fig.image_mode === 'full') {\n",
       "            // Full images could contain transparency (where diff images\n",
       "            // almost always do), so we need to clear the canvas so that\n",
       "            // there is no ghosting.\n",
       "            fig.context.clearRect(0, 0, fig.canvas.width, fig.canvas.height);\n",
       "        }\n",
       "        fig.context.drawImage(fig.imageObj, 0, 0);\n",
       "    };\n",
       "\n",
       "    this.imageObj.onunload = function () {\n",
       "        fig.ws.close();\n",
       "    };\n",
       "\n",
       "    this.ws.onmessage = this._make_on_message_function(this);\n",
       "\n",
       "    this.ondownload = ondownload;\n",
       "};\n",
       "\n",
       "mpl.figure.prototype._init_header = function () {\n",
       "    var titlebar = document.createElement('div');\n",
       "    titlebar.classList =\n",
       "        'ui-dialog-titlebar ui-widget-header ui-corner-all ui-helper-clearfix';\n",
       "    var titletext = document.createElement('div');\n",
       "    titletext.classList = 'ui-dialog-title';\n",
       "    titletext.setAttribute(\n",
       "        'style',\n",
       "        'width: 100%; text-align: center; padding: 3px;'\n",
       "    );\n",
       "    titlebar.appendChild(titletext);\n",
       "    this.root.appendChild(titlebar);\n",
       "    this.header = titletext;\n",
       "};\n",
       "\n",
       "mpl.figure.prototype._canvas_extra_style = function (_canvas_div) {};\n",
       "\n",
       "mpl.figure.prototype._root_extra_style = function (_canvas_div) {};\n",
       "\n",
       "mpl.figure.prototype._init_canvas = function () {\n",
       "    var fig = this;\n",
       "\n",
       "    var canvas_div = (this.canvas_div = document.createElement('div'));\n",
       "    canvas_div.setAttribute(\n",
       "        'style',\n",
       "        'border: 1px solid #ddd;' +\n",
       "            'box-sizing: content-box;' +\n",
       "            'clear: both;' +\n",
       "            'min-height: 1px;' +\n",
       "            'min-width: 1px;' +\n",
       "            'outline: 0;' +\n",
       "            'overflow: hidden;' +\n",
       "            'position: relative;' +\n",
       "            'resize: both;'\n",
       "    );\n",
       "\n",
       "    function on_keyboard_event_closure(name) {\n",
       "        return function (event) {\n",
       "            return fig.key_event(event, name);\n",
       "        };\n",
       "    }\n",
       "\n",
       "    canvas_div.addEventListener(\n",
       "        'keydown',\n",
       "        on_keyboard_event_closure('key_press')\n",
       "    );\n",
       "    canvas_div.addEventListener(\n",
       "        'keyup',\n",
       "        on_keyboard_event_closure('key_release')\n",
       "    );\n",
       "\n",
       "    this._canvas_extra_style(canvas_div);\n",
       "    this.root.appendChild(canvas_div);\n",
       "\n",
       "    var canvas = (this.canvas = document.createElement('canvas'));\n",
       "    canvas.classList.add('mpl-canvas');\n",
       "    canvas.setAttribute('style', 'box-sizing: content-box;');\n",
       "\n",
       "    this.context = canvas.getContext('2d');\n",
       "\n",
       "    var backingStore =\n",
       "        this.context.backingStorePixelRatio ||\n",
       "        this.context.webkitBackingStorePixelRatio ||\n",
       "        this.context.mozBackingStorePixelRatio ||\n",
       "        this.context.msBackingStorePixelRatio ||\n",
       "        this.context.oBackingStorePixelRatio ||\n",
       "        this.context.backingStorePixelRatio ||\n",
       "        1;\n",
       "\n",
       "    this.ratio = (window.devicePixelRatio || 1) / backingStore;\n",
       "\n",
       "    var rubberband_canvas = (this.rubberband_canvas = document.createElement(\n",
       "        'canvas'\n",
       "    ));\n",
       "    rubberband_canvas.setAttribute(\n",
       "        'style',\n",
       "        'box-sizing: content-box; position: absolute; left: 0; top: 0; z-index: 1;'\n",
       "    );\n",
       "\n",
       "    // Apply a ponyfill if ResizeObserver is not implemented by browser.\n",
       "    if (this.ResizeObserver === undefined) {\n",
       "        if (window.ResizeObserver !== undefined) {\n",
       "            this.ResizeObserver = window.ResizeObserver;\n",
       "        } else {\n",
       "            var obs = _JSXTOOLS_RESIZE_OBSERVER({});\n",
       "            this.ResizeObserver = obs.ResizeObserver;\n",
       "        }\n",
       "    }\n",
       "\n",
       "    this.resizeObserverInstance = new this.ResizeObserver(function (entries) {\n",
       "        var nentries = entries.length;\n",
       "        for (var i = 0; i < nentries; i++) {\n",
       "            var entry = entries[i];\n",
       "            var width, height;\n",
       "            if (entry.contentBoxSize) {\n",
       "                if (entry.contentBoxSize instanceof Array) {\n",
       "                    // Chrome 84 implements new version of spec.\n",
       "                    width = entry.contentBoxSize[0].inlineSize;\n",
       "                    height = entry.contentBoxSize[0].blockSize;\n",
       "                } else {\n",
       "                    // Firefox implements old version of spec.\n",
       "                    width = entry.contentBoxSize.inlineSize;\n",
       "                    height = entry.contentBoxSize.blockSize;\n",
       "                }\n",
       "            } else {\n",
       "                // Chrome <84 implements even older version of spec.\n",
       "                width = entry.contentRect.width;\n",
       "                height = entry.contentRect.height;\n",
       "            }\n",
       "\n",
       "            // Keep the size of the canvas and rubber band canvas in sync with\n",
       "            // the canvas container.\n",
       "            if (entry.devicePixelContentBoxSize) {\n",
       "                // Chrome 84 implements new version of spec.\n",
       "                canvas.setAttribute(\n",
       "                    'width',\n",
       "                    entry.devicePixelContentBoxSize[0].inlineSize\n",
       "                );\n",
       "                canvas.setAttribute(\n",
       "                    'height',\n",
       "                    entry.devicePixelContentBoxSize[0].blockSize\n",
       "                );\n",
       "            } else {\n",
       "                canvas.setAttribute('width', width * fig.ratio);\n",
       "                canvas.setAttribute('height', height * fig.ratio);\n",
       "            }\n",
       "            canvas.setAttribute(\n",
       "                'style',\n",
       "                'width: ' + width + 'px; height: ' + height + 'px;'\n",
       "            );\n",
       "\n",
       "            rubberband_canvas.setAttribute('width', width);\n",
       "            rubberband_canvas.setAttribute('height', height);\n",
       "\n",
       "            // And update the size in Python. We ignore the initial 0/0 size\n",
       "            // that occurs as the element is placed into the DOM, which should\n",
       "            // otherwise not happen due to the minimum size styling.\n",
       "            if (fig.ws.readyState == 1 && width != 0 && height != 0) {\n",
       "                fig.request_resize(width, height);\n",
       "            }\n",
       "        }\n",
       "    });\n",
       "    this.resizeObserverInstance.observe(canvas_div);\n",
       "\n",
       "    function on_mouse_event_closure(name) {\n",
       "        return function (event) {\n",
       "            return fig.mouse_event(event, name);\n",
       "        };\n",
       "    }\n",
       "\n",
       "    rubberband_canvas.addEventListener(\n",
       "        'mousedown',\n",
       "        on_mouse_event_closure('button_press')\n",
       "    );\n",
       "    rubberband_canvas.addEventListener(\n",
       "        'mouseup',\n",
       "        on_mouse_event_closure('button_release')\n",
       "    );\n",
       "    rubberband_canvas.addEventListener(\n",
       "        'dblclick',\n",
       "        on_mouse_event_closure('dblclick')\n",
       "    );\n",
       "    // Throttle sequential mouse events to 1 every 20ms.\n",
       "    rubberband_canvas.addEventListener(\n",
       "        'mousemove',\n",
       "        on_mouse_event_closure('motion_notify')\n",
       "    );\n",
       "\n",
       "    rubberband_canvas.addEventListener(\n",
       "        'mouseenter',\n",
       "        on_mouse_event_closure('figure_enter')\n",
       "    );\n",
       "    rubberband_canvas.addEventListener(\n",
       "        'mouseleave',\n",
       "        on_mouse_event_closure('figure_leave')\n",
       "    );\n",
       "\n",
       "    canvas_div.addEventListener('wheel', function (event) {\n",
       "        if (event.deltaY < 0) {\n",
       "            event.step = 1;\n",
       "        } else {\n",
       "            event.step = -1;\n",
       "        }\n",
       "        on_mouse_event_closure('scroll')(event);\n",
       "    });\n",
       "\n",
       "    canvas_div.appendChild(canvas);\n",
       "    canvas_div.appendChild(rubberband_canvas);\n",
       "\n",
       "    this.rubberband_context = rubberband_canvas.getContext('2d');\n",
       "    this.rubberband_context.strokeStyle = '#000000';\n",
       "\n",
       "    this._resize_canvas = function (width, height, forward) {\n",
       "        if (forward) {\n",
       "            canvas_div.style.width = width + 'px';\n",
       "            canvas_div.style.height = height + 'px';\n",
       "        }\n",
       "    };\n",
       "\n",
       "    // Disable right mouse context menu.\n",
       "    this.rubberband_canvas.addEventListener('contextmenu', function (_e) {\n",
       "        event.preventDefault();\n",
       "        return false;\n",
       "    });\n",
       "\n",
       "    function set_focus() {\n",
       "        canvas.focus();\n",
       "        canvas_div.focus();\n",
       "    }\n",
       "\n",
       "    window.setTimeout(set_focus, 100);\n",
       "};\n",
       "\n",
       "mpl.figure.prototype._init_toolbar = function () {\n",
       "    var fig = this;\n",
       "\n",
       "    var toolbar = document.createElement('div');\n",
       "    toolbar.classList = 'mpl-toolbar';\n",
       "    this.root.appendChild(toolbar);\n",
       "\n",
       "    function on_click_closure(name) {\n",
       "        return function (_event) {\n",
       "            return fig.toolbar_button_onclick(name);\n",
       "        };\n",
       "    }\n",
       "\n",
       "    function on_mouseover_closure(tooltip) {\n",
       "        return function (event) {\n",
       "            if (!event.currentTarget.disabled) {\n",
       "                return fig.toolbar_button_onmouseover(tooltip);\n",
       "            }\n",
       "        };\n",
       "    }\n",
       "\n",
       "    fig.buttons = {};\n",
       "    var buttonGroup = document.createElement('div');\n",
       "    buttonGroup.classList = 'mpl-button-group';\n",
       "    for (var toolbar_ind in mpl.toolbar_items) {\n",
       "        var name = mpl.toolbar_items[toolbar_ind][0];\n",
       "        var tooltip = mpl.toolbar_items[toolbar_ind][1];\n",
       "        var image = mpl.toolbar_items[toolbar_ind][2];\n",
       "        var method_name = mpl.toolbar_items[toolbar_ind][3];\n",
       "\n",
       "        if (!name) {\n",
       "            /* Instead of a spacer, we start a new button group. */\n",
       "            if (buttonGroup.hasChildNodes()) {\n",
       "                toolbar.appendChild(buttonGroup);\n",
       "            }\n",
       "            buttonGroup = document.createElement('div');\n",
       "            buttonGroup.classList = 'mpl-button-group';\n",
       "            continue;\n",
       "        }\n",
       "\n",
       "        var button = (fig.buttons[name] = document.createElement('button'));\n",
       "        button.classList = 'mpl-widget';\n",
       "        button.setAttribute('role', 'button');\n",
       "        button.setAttribute('aria-disabled', 'false');\n",
       "        button.addEventListener('click', on_click_closure(method_name));\n",
       "        button.addEventListener('mouseover', on_mouseover_closure(tooltip));\n",
       "\n",
       "        var icon_img = document.createElement('img');\n",
       "        icon_img.src = '_images/' + image + '.png';\n",
       "        icon_img.srcset = '_images/' + image + '_large.png 2x';\n",
       "        icon_img.alt = tooltip;\n",
       "        button.appendChild(icon_img);\n",
       "\n",
       "        buttonGroup.appendChild(button);\n",
       "    }\n",
       "\n",
       "    if (buttonGroup.hasChildNodes()) {\n",
       "        toolbar.appendChild(buttonGroup);\n",
       "    }\n",
       "\n",
       "    var fmt_picker = document.createElement('select');\n",
       "    fmt_picker.classList = 'mpl-widget';\n",
       "    toolbar.appendChild(fmt_picker);\n",
       "    this.format_dropdown = fmt_picker;\n",
       "\n",
       "    for (var ind in mpl.extensions) {\n",
       "        var fmt = mpl.extensions[ind];\n",
       "        var option = document.createElement('option');\n",
       "        option.selected = fmt === mpl.default_extension;\n",
       "        option.innerHTML = fmt;\n",
       "        fmt_picker.appendChild(option);\n",
       "    }\n",
       "\n",
       "    var status_bar = document.createElement('span');\n",
       "    status_bar.classList = 'mpl-message';\n",
       "    toolbar.appendChild(status_bar);\n",
       "    this.message = status_bar;\n",
       "};\n",
       "\n",
       "mpl.figure.prototype.request_resize = function (x_pixels, y_pixels) {\n",
       "    // Request matplotlib to resize the figure. Matplotlib will then trigger a resize in the client,\n",
       "    // which will in turn request a refresh of the image.\n",
       "    this.send_message('resize', { width: x_pixels, height: y_pixels });\n",
       "};\n",
       "\n",
       "mpl.figure.prototype.send_message = function (type, properties) {\n",
       "    properties['type'] = type;\n",
       "    properties['figure_id'] = this.id;\n",
       "    this.ws.send(JSON.stringify(properties));\n",
       "};\n",
       "\n",
       "mpl.figure.prototype.send_draw_message = function () {\n",
       "    if (!this.waiting) {\n",
       "        this.waiting = true;\n",
       "        this.ws.send(JSON.stringify({ type: 'draw', figure_id: this.id }));\n",
       "    }\n",
       "};\n",
       "\n",
       "mpl.figure.prototype.handle_save = function (fig, _msg) {\n",
       "    var format_dropdown = fig.format_dropdown;\n",
       "    var format = format_dropdown.options[format_dropdown.selectedIndex].value;\n",
       "    fig.ondownload(fig, format);\n",
       "};\n",
       "\n",
       "mpl.figure.prototype.handle_resize = function (fig, msg) {\n",
       "    var size = msg['size'];\n",
       "    if (size[0] !== fig.canvas.width || size[1] !== fig.canvas.height) {\n",
       "        fig._resize_canvas(size[0], size[1], msg['forward']);\n",
       "        fig.send_message('refresh', {});\n",
       "    }\n",
       "};\n",
       "\n",
       "mpl.figure.prototype.handle_rubberband = function (fig, msg) {\n",
       "    var x0 = msg['x0'] / fig.ratio;\n",
       "    var y0 = (fig.canvas.height - msg['y0']) / fig.ratio;\n",
       "    var x1 = msg['x1'] / fig.ratio;\n",
       "    var y1 = (fig.canvas.height - msg['y1']) / fig.ratio;\n",
       "    x0 = Math.floor(x0) + 0.5;\n",
       "    y0 = Math.floor(y0) + 0.5;\n",
       "    x1 = Math.floor(x1) + 0.5;\n",
       "    y1 = Math.floor(y1) + 0.5;\n",
       "    var min_x = Math.min(x0, x1);\n",
       "    var min_y = Math.min(y0, y1);\n",
       "    var width = Math.abs(x1 - x0);\n",
       "    var height = Math.abs(y1 - y0);\n",
       "\n",
       "    fig.rubberband_context.clearRect(\n",
       "        0,\n",
       "        0,\n",
       "        fig.canvas.width / fig.ratio,\n",
       "        fig.canvas.height / fig.ratio\n",
       "    );\n",
       "\n",
       "    fig.rubberband_context.strokeRect(min_x, min_y, width, height);\n",
       "};\n",
       "\n",
       "mpl.figure.prototype.handle_figure_label = function (fig, msg) {\n",
       "    // Updates the figure title.\n",
       "    fig.header.textContent = msg['label'];\n",
       "};\n",
       "\n",
       "mpl.figure.prototype.handle_cursor = function (fig, msg) {\n",
       "    var cursor = msg['cursor'];\n",
       "    switch (cursor) {\n",
       "        case 0:\n",
       "            cursor = 'pointer';\n",
       "            break;\n",
       "        case 1:\n",
       "            cursor = 'default';\n",
       "            break;\n",
       "        case 2:\n",
       "            cursor = 'crosshair';\n",
       "            break;\n",
       "        case 3:\n",
       "            cursor = 'move';\n",
       "            break;\n",
       "    }\n",
       "    fig.rubberband_canvas.style.cursor = cursor;\n",
       "};\n",
       "\n",
       "mpl.figure.prototype.handle_message = function (fig, msg) {\n",
       "    fig.message.textContent = msg['message'];\n",
       "};\n",
       "\n",
       "mpl.figure.prototype.handle_draw = function (fig, _msg) {\n",
       "    // Request the server to send over a new figure.\n",
       "    fig.send_draw_message();\n",
       "};\n",
       "\n",
       "mpl.figure.prototype.handle_image_mode = function (fig, msg) {\n",
       "    fig.image_mode = msg['mode'];\n",
       "};\n",
       "\n",
       "mpl.figure.prototype.handle_history_buttons = function (fig, msg) {\n",
       "    for (var key in msg) {\n",
       "        if (!(key in fig.buttons)) {\n",
       "            continue;\n",
       "        }\n",
       "        fig.buttons[key].disabled = !msg[key];\n",
       "        fig.buttons[key].setAttribute('aria-disabled', !msg[key]);\n",
       "    }\n",
       "};\n",
       "\n",
       "mpl.figure.prototype.handle_navigate_mode = function (fig, msg) {\n",
       "    if (msg['mode'] === 'PAN') {\n",
       "        fig.buttons['Pan'].classList.add('active');\n",
       "        fig.buttons['Zoom'].classList.remove('active');\n",
       "    } else if (msg['mode'] === 'ZOOM') {\n",
       "        fig.buttons['Pan'].classList.remove('active');\n",
       "        fig.buttons['Zoom'].classList.add('active');\n",
       "    } else {\n",
       "        fig.buttons['Pan'].classList.remove('active');\n",
       "        fig.buttons['Zoom'].classList.remove('active');\n",
       "    }\n",
       "};\n",
       "\n",
       "mpl.figure.prototype.updated_canvas_event = function () {\n",
       "    // Called whenever the canvas gets updated.\n",
       "    this.send_message('ack', {});\n",
       "};\n",
       "\n",
       "// A function to construct a web socket function for onmessage handling.\n",
       "// Called in the figure constructor.\n",
       "mpl.figure.prototype._make_on_message_function = function (fig) {\n",
       "    return function socket_on_message(evt) {\n",
       "        if (evt.data instanceof Blob) {\n",
       "            var img = evt.data;\n",
       "            if (img.type !== 'image/png') {\n",
       "                /* FIXME: We get \"Resource interpreted as Image but\n",
       "                 * transferred with MIME type text/plain:\" errors on\n",
       "                 * Chrome.  But how to set the MIME type?  It doesn't seem\n",
       "                 * to be part of the websocket stream */\n",
       "                img.type = 'image/png';\n",
       "            }\n",
       "\n",
       "            /* Free the memory for the previous frames */\n",
       "            if (fig.imageObj.src) {\n",
       "                (window.URL || window.webkitURL).revokeObjectURL(\n",
       "                    fig.imageObj.src\n",
       "                );\n",
       "            }\n",
       "\n",
       "            fig.imageObj.src = (window.URL || window.webkitURL).createObjectURL(\n",
       "                img\n",
       "            );\n",
       "            fig.updated_canvas_event();\n",
       "            fig.waiting = false;\n",
       "            return;\n",
       "        } else if (\n",
       "            typeof evt.data === 'string' &&\n",
       "            evt.data.slice(0, 21) === 'data:image/png;base64'\n",
       "        ) {\n",
       "            fig.imageObj.src = evt.data;\n",
       "            fig.updated_canvas_event();\n",
       "            fig.waiting = false;\n",
       "            return;\n",
       "        }\n",
       "\n",
       "        var msg = JSON.parse(evt.data);\n",
       "        var msg_type = msg['type'];\n",
       "\n",
       "        // Call the  \"handle_{type}\" callback, which takes\n",
       "        // the figure and JSON message as its only arguments.\n",
       "        try {\n",
       "            var callback = fig['handle_' + msg_type];\n",
       "        } catch (e) {\n",
       "            console.log(\n",
       "                \"No handler for the '\" + msg_type + \"' message type: \",\n",
       "                msg\n",
       "            );\n",
       "            return;\n",
       "        }\n",
       "\n",
       "        if (callback) {\n",
       "            try {\n",
       "                // console.log(\"Handling '\" + msg_type + \"' message: \", msg);\n",
       "                callback(fig, msg);\n",
       "            } catch (e) {\n",
       "                console.log(\n",
       "                    \"Exception inside the 'handler_\" + msg_type + \"' callback:\",\n",
       "                    e,\n",
       "                    e.stack,\n",
       "                    msg\n",
       "                );\n",
       "            }\n",
       "        }\n",
       "    };\n",
       "};\n",
       "\n",
       "// from http://stackoverflow.com/questions/1114465/getting-mouse-location-in-canvas\n",
       "mpl.findpos = function (e) {\n",
       "    //this section is from http://www.quirksmode.org/js/events_properties.html\n",
       "    var targ;\n",
       "    if (!e) {\n",
       "        e = window.event;\n",
       "    }\n",
       "    if (e.target) {\n",
       "        targ = e.target;\n",
       "    } else if (e.srcElement) {\n",
       "        targ = e.srcElement;\n",
       "    }\n",
       "    if (targ.nodeType === 3) {\n",
       "        // defeat Safari bug\n",
       "        targ = targ.parentNode;\n",
       "    }\n",
       "\n",
       "    // pageX,Y are the mouse positions relative to the document\n",
       "    var boundingRect = targ.getBoundingClientRect();\n",
       "    var x = e.pageX - (boundingRect.left + document.body.scrollLeft);\n",
       "    var y = e.pageY - (boundingRect.top + document.body.scrollTop);\n",
       "\n",
       "    return { x: x, y: y };\n",
       "};\n",
       "\n",
       "/*\n",
       " * return a copy of an object with only non-object keys\n",
       " * we need this to avoid circular references\n",
       " * http://stackoverflow.com/a/24161582/3208463\n",
       " */\n",
       "function simpleKeys(original) {\n",
       "    return Object.keys(original).reduce(function (obj, key) {\n",
       "        if (typeof original[key] !== 'object') {\n",
       "            obj[key] = original[key];\n",
       "        }\n",
       "        return obj;\n",
       "    }, {});\n",
       "}\n",
       "\n",
       "mpl.figure.prototype.mouse_event = function (event, name) {\n",
       "    var canvas_pos = mpl.findpos(event);\n",
       "\n",
       "    if (name === 'button_press') {\n",
       "        this.canvas.focus();\n",
       "        this.canvas_div.focus();\n",
       "    }\n",
       "\n",
       "    var x = canvas_pos.x * this.ratio;\n",
       "    var y = canvas_pos.y * this.ratio;\n",
       "\n",
       "    this.send_message(name, {\n",
       "        x: x,\n",
       "        y: y,\n",
       "        button: event.button,\n",
       "        step: event.step,\n",
       "        guiEvent: simpleKeys(event),\n",
       "    });\n",
       "\n",
       "    /* This prevents the web browser from automatically changing to\n",
       "     * the text insertion cursor when the button is pressed.  We want\n",
       "     * to control all of the cursor setting manually through the\n",
       "     * 'cursor' event from matplotlib */\n",
       "    event.preventDefault();\n",
       "    return false;\n",
       "};\n",
       "\n",
       "mpl.figure.prototype._key_event_extra = function (_event, _name) {\n",
       "    // Handle any extra behaviour associated with a key event\n",
       "};\n",
       "\n",
       "mpl.figure.prototype.key_event = function (event, name) {\n",
       "    // Prevent repeat events\n",
       "    if (name === 'key_press') {\n",
       "        if (event.key === this._key) {\n",
       "            return;\n",
       "        } else {\n",
       "            this._key = event.key;\n",
       "        }\n",
       "    }\n",
       "    if (name === 'key_release') {\n",
       "        this._key = null;\n",
       "    }\n",
       "\n",
       "    var value = '';\n",
       "    if (event.ctrlKey && event.key !== 'Control') {\n",
       "        value += 'ctrl+';\n",
       "    }\n",
       "    else if (event.altKey && event.key !== 'Alt') {\n",
       "        value += 'alt+';\n",
       "    }\n",
       "    else if (event.shiftKey && event.key !== 'Shift') {\n",
       "        value += 'shift+';\n",
       "    }\n",
       "\n",
       "    value += 'k' + event.key;\n",
       "\n",
       "    this._key_event_extra(event, name);\n",
       "\n",
       "    this.send_message(name, { key: value, guiEvent: simpleKeys(event) });\n",
       "    return false;\n",
       "};\n",
       "\n",
       "mpl.figure.prototype.toolbar_button_onclick = function (name) {\n",
       "    if (name === 'download') {\n",
       "        this.handle_save(this, null);\n",
       "    } else {\n",
       "        this.send_message('toolbar_button', { name: name });\n",
       "    }\n",
       "};\n",
       "\n",
       "mpl.figure.prototype.toolbar_button_onmouseover = function (tooltip) {\n",
       "    this.message.textContent = tooltip;\n",
       "};\n",
       "\n",
       "///////////////// REMAINING CONTENT GENERATED BY embed_js.py /////////////////\n",
       "// prettier-ignore\n",
       "var _JSXTOOLS_RESIZE_OBSERVER=function(A){var t,i=new WeakMap,n=new WeakMap,a=new WeakMap,r=new WeakMap,o=new Set;function s(e){if(!(this instanceof s))throw new TypeError(\"Constructor requires 'new' operator\");i.set(this,e)}function h(){throw new TypeError(\"Function is not a constructor\")}function c(e,t,i,n){e=0 in arguments?Number(arguments[0]):0,t=1 in arguments?Number(arguments[1]):0,i=2 in arguments?Number(arguments[2]):0,n=3 in arguments?Number(arguments[3]):0,this.right=(this.x=this.left=e)+(this.width=i),this.bottom=(this.y=this.top=t)+(this.height=n),Object.freeze(this)}function d(){t=requestAnimationFrame(d);var s=new WeakMap,p=new Set;o.forEach((function(t){r.get(t).forEach((function(i){var r=t instanceof window.SVGElement,o=a.get(t),d=r?0:parseFloat(o.paddingTop),f=r?0:parseFloat(o.paddingRight),l=r?0:parseFloat(o.paddingBottom),u=r?0:parseFloat(o.paddingLeft),g=r?0:parseFloat(o.borderTopWidth),m=r?0:parseFloat(o.borderRightWidth),w=r?0:parseFloat(o.borderBottomWidth),b=u+f,F=d+l,v=(r?0:parseFloat(o.borderLeftWidth))+m,W=g+w,y=r?0:t.offsetHeight-W-t.clientHeight,E=r?0:t.offsetWidth-v-t.clientWidth,R=b+v,z=F+W,M=r?t.width:parseFloat(o.width)-R-E,O=r?t.height:parseFloat(o.height)-z-y;if(n.has(t)){var k=n.get(t);if(k[0]===M&&k[1]===O)return}n.set(t,[M,O]);var S=Object.create(h.prototype);S.target=t,S.contentRect=new c(u,d,M,O),s.has(i)||(s.set(i,[]),p.add(i)),s.get(i).push(S)}))})),p.forEach((function(e){i.get(e).call(e,s.get(e),e)}))}return s.prototype.observe=function(i){if(i instanceof window.Element){r.has(i)||(r.set(i,new Set),o.add(i),a.set(i,window.getComputedStyle(i)));var n=r.get(i);n.has(this)||n.add(this),cancelAnimationFrame(t),t=requestAnimationFrame(d)}},s.prototype.unobserve=function(i){if(i instanceof window.Element&&r.has(i)){var n=r.get(i);n.has(this)&&(n.delete(this),n.size||(r.delete(i),o.delete(i))),n.size||r.delete(i),o.size||cancelAnimationFrame(t)}},A.DOMRectReadOnly=c,A.ResizeObserver=s,A.ResizeObserverEntry=h,A}; // eslint-disable-line\n",
       "mpl.toolbar_items = [[\"Home\", \"Reset original view\", \"fa fa-home icon-home\", \"home\"], [\"Back\", \"Back to previous view\", \"fa fa-arrow-left icon-arrow-left\", \"back\"], [\"Forward\", \"Forward to next view\", \"fa fa-arrow-right icon-arrow-right\", \"forward\"], [\"\", \"\", \"\", \"\"], [\"Pan\", \"Left button pans, Right button zooms\\nx/y fixes axis, CTRL fixes aspect\", \"fa fa-arrows icon-move\", \"pan\"], [\"Zoom\", \"Zoom to rectangle\\nx/y fixes axis, CTRL fixes aspect\", \"fa fa-square-o icon-check-empty\", \"zoom\"], [\"\", \"\", \"\", \"\"], [\"Download\", \"Download plot\", \"fa fa-floppy-o icon-save\", \"download\"]];\n",
       "\n",
       "mpl.extensions = [\"eps\", \"jpeg\", \"pgf\", \"pdf\", \"png\", \"ps\", \"raw\", \"svg\", \"tif\"];\n",
       "\n",
       "mpl.default_extension = \"png\";/* global mpl */\n",
       "\n",
       "var comm_websocket_adapter = function (comm) {\n",
       "    // Create a \"websocket\"-like object which calls the given IPython comm\n",
       "    // object with the appropriate methods. Currently this is a non binary\n",
       "    // socket, so there is still some room for performance tuning.\n",
       "    var ws = {};\n",
       "\n",
       "    ws.binaryType = comm.kernel.ws.binaryType;\n",
       "    ws.readyState = comm.kernel.ws.readyState;\n",
       "    function updateReadyState(_event) {\n",
       "        if (comm.kernel.ws) {\n",
       "            ws.readyState = comm.kernel.ws.readyState;\n",
       "        } else {\n",
       "            ws.readyState = 3; // Closed state.\n",
       "        }\n",
       "    }\n",
       "    comm.kernel.ws.addEventListener('open', updateReadyState);\n",
       "    comm.kernel.ws.addEventListener('close', updateReadyState);\n",
       "    comm.kernel.ws.addEventListener('error', updateReadyState);\n",
       "\n",
       "    ws.close = function () {\n",
       "        comm.close();\n",
       "    };\n",
       "    ws.send = function (m) {\n",
       "        //console.log('sending', m);\n",
       "        comm.send(m);\n",
       "    };\n",
       "    // Register the callback with on_msg.\n",
       "    comm.on_msg(function (msg) {\n",
       "        //console.log('receiving', msg['content']['data'], msg);\n",
       "        var data = msg['content']['data'];\n",
       "        if (data['blob'] !== undefined) {\n",
       "            data = {\n",
       "                data: new Blob(msg['buffers'], { type: data['blob'] }),\n",
       "            };\n",
       "        }\n",
       "        // Pass the mpl event to the overridden (by mpl) onmessage function.\n",
       "        ws.onmessage(data);\n",
       "    });\n",
       "    return ws;\n",
       "};\n",
       "\n",
       "mpl.mpl_figure_comm = function (comm, msg) {\n",
       "    // This is the function which gets called when the mpl process\n",
       "    // starts-up an IPython Comm through the \"matplotlib\" channel.\n",
       "\n",
       "    var id = msg.content.data.id;\n",
       "    // Get hold of the div created by the display call when the Comm\n",
       "    // socket was opened in Python.\n",
       "    var element = document.getElementById(id);\n",
       "    var ws_proxy = comm_websocket_adapter(comm);\n",
       "\n",
       "    function ondownload(figure, _format) {\n",
       "        window.open(figure.canvas.toDataURL());\n",
       "    }\n",
       "\n",
       "    var fig = new mpl.figure(id, ws_proxy, ondownload, element);\n",
       "\n",
       "    // Call onopen now - mpl needs it, as it is assuming we've passed it a real\n",
       "    // web socket which is closed, not our websocket->open comm proxy.\n",
       "    ws_proxy.onopen();\n",
       "\n",
       "    fig.parent_element = element;\n",
       "    fig.cell_info = mpl.find_output_cell(\"<div id='\" + id + \"'></div>\");\n",
       "    if (!fig.cell_info) {\n",
       "        console.error('Failed to find cell for figure', id, fig);\n",
       "        return;\n",
       "    }\n",
       "    fig.cell_info[0].output_area.element.on(\n",
       "        'cleared',\n",
       "        { fig: fig },\n",
       "        fig._remove_fig_handler\n",
       "    );\n",
       "};\n",
       "\n",
       "mpl.figure.prototype.handle_close = function (fig, msg) {\n",
       "    var width = fig.canvas.width / fig.ratio;\n",
       "    fig.cell_info[0].output_area.element.off(\n",
       "        'cleared',\n",
       "        fig._remove_fig_handler\n",
       "    );\n",
       "    fig.resizeObserverInstance.unobserve(fig.canvas_div);\n",
       "\n",
       "    // Update the output cell to use the data from the current canvas.\n",
       "    fig.push_to_output();\n",
       "    var dataURL = fig.canvas.toDataURL();\n",
       "    // Re-enable the keyboard manager in IPython - without this line, in FF,\n",
       "    // the notebook keyboard shortcuts fail.\n",
       "    IPython.keyboard_manager.enable();\n",
       "    fig.parent_element.innerHTML =\n",
       "        '<img src=\"' + dataURL + '\" width=\"' + width + '\">';\n",
       "    fig.close_ws(fig, msg);\n",
       "};\n",
       "\n",
       "mpl.figure.prototype.close_ws = function (fig, msg) {\n",
       "    fig.send_message('closing', msg);\n",
       "    // fig.ws.close()\n",
       "};\n",
       "\n",
       "mpl.figure.prototype.push_to_output = function (_remove_interactive) {\n",
       "    // Turn the data on the canvas into data in the output cell.\n",
       "    var width = this.canvas.width / this.ratio;\n",
       "    var dataURL = this.canvas.toDataURL();\n",
       "    this.cell_info[1]['text/html'] =\n",
       "        '<img src=\"' + dataURL + '\" width=\"' + width + '\">';\n",
       "};\n",
       "\n",
       "mpl.figure.prototype.updated_canvas_event = function () {\n",
       "    // Tell IPython that the notebook contents must change.\n",
       "    IPython.notebook.set_dirty(true);\n",
       "    this.send_message('ack', {});\n",
       "    var fig = this;\n",
       "    // Wait a second, then push the new image to the DOM so\n",
       "    // that it is saved nicely (might be nice to debounce this).\n",
       "    setTimeout(function () {\n",
       "        fig.push_to_output();\n",
       "    }, 1000);\n",
       "};\n",
       "\n",
       "mpl.figure.prototype._init_toolbar = function () {\n",
       "    var fig = this;\n",
       "\n",
       "    var toolbar = document.createElement('div');\n",
       "    toolbar.classList = 'btn-toolbar';\n",
       "    this.root.appendChild(toolbar);\n",
       "\n",
       "    function on_click_closure(name) {\n",
       "        return function (_event) {\n",
       "            return fig.toolbar_button_onclick(name);\n",
       "        };\n",
       "    }\n",
       "\n",
       "    function on_mouseover_closure(tooltip) {\n",
       "        return function (event) {\n",
       "            if (!event.currentTarget.disabled) {\n",
       "                return fig.toolbar_button_onmouseover(tooltip);\n",
       "            }\n",
       "        };\n",
       "    }\n",
       "\n",
       "    fig.buttons = {};\n",
       "    var buttonGroup = document.createElement('div');\n",
       "    buttonGroup.classList = 'btn-group';\n",
       "    var button;\n",
       "    for (var toolbar_ind in mpl.toolbar_items) {\n",
       "        var name = mpl.toolbar_items[toolbar_ind][0];\n",
       "        var tooltip = mpl.toolbar_items[toolbar_ind][1];\n",
       "        var image = mpl.toolbar_items[toolbar_ind][2];\n",
       "        var method_name = mpl.toolbar_items[toolbar_ind][3];\n",
       "\n",
       "        if (!name) {\n",
       "            /* Instead of a spacer, we start a new button group. */\n",
       "            if (buttonGroup.hasChildNodes()) {\n",
       "                toolbar.appendChild(buttonGroup);\n",
       "            }\n",
       "            buttonGroup = document.createElement('div');\n",
       "            buttonGroup.classList = 'btn-group';\n",
       "            continue;\n",
       "        }\n",
       "\n",
       "        button = fig.buttons[name] = document.createElement('button');\n",
       "        button.classList = 'btn btn-default';\n",
       "        button.href = '#';\n",
       "        button.title = name;\n",
       "        button.innerHTML = '<i class=\"fa ' + image + ' fa-lg\"></i>';\n",
       "        button.addEventListener('click', on_click_closure(method_name));\n",
       "        button.addEventListener('mouseover', on_mouseover_closure(tooltip));\n",
       "        buttonGroup.appendChild(button);\n",
       "    }\n",
       "\n",
       "    if (buttonGroup.hasChildNodes()) {\n",
       "        toolbar.appendChild(buttonGroup);\n",
       "    }\n",
       "\n",
       "    // Add the status bar.\n",
       "    var status_bar = document.createElement('span');\n",
       "    status_bar.classList = 'mpl-message pull-right';\n",
       "    toolbar.appendChild(status_bar);\n",
       "    this.message = status_bar;\n",
       "\n",
       "    // Add the close button to the window.\n",
       "    var buttongrp = document.createElement('div');\n",
       "    buttongrp.classList = 'btn-group inline pull-right';\n",
       "    button = document.createElement('button');\n",
       "    button.classList = 'btn btn-mini btn-primary';\n",
       "    button.href = '#';\n",
       "    button.title = 'Stop Interaction';\n",
       "    button.innerHTML = '<i class=\"fa fa-power-off icon-remove icon-large\"></i>';\n",
       "    button.addEventListener('click', function (_evt) {\n",
       "        fig.handle_close(fig, {});\n",
       "    });\n",
       "    button.addEventListener(\n",
       "        'mouseover',\n",
       "        on_mouseover_closure('Stop Interaction')\n",
       "    );\n",
       "    buttongrp.appendChild(button);\n",
       "    var titlebar = this.root.querySelector('.ui-dialog-titlebar');\n",
       "    titlebar.insertBefore(buttongrp, titlebar.firstChild);\n",
       "};\n",
       "\n",
       "mpl.figure.prototype._remove_fig_handler = function (event) {\n",
       "    var fig = event.data.fig;\n",
       "    if (event.target !== this) {\n",
       "        // Ignore bubbled events from children.\n",
       "        return;\n",
       "    }\n",
       "    fig.close_ws(fig, {});\n",
       "};\n",
       "\n",
       "mpl.figure.prototype._root_extra_style = function (el) {\n",
       "    el.style.boxSizing = 'content-box'; // override notebook setting of border-box.\n",
       "};\n",
       "\n",
       "mpl.figure.prototype._canvas_extra_style = function (el) {\n",
       "    // this is important to make the div 'focusable\n",
       "    el.setAttribute('tabindex', 0);\n",
       "    // reach out to IPython and tell the keyboard manager to turn it's self\n",
       "    // off when our div gets focus\n",
       "\n",
       "    // location in version 3\n",
       "    if (IPython.notebook.keyboard_manager) {\n",
       "        IPython.notebook.keyboard_manager.register_events(el);\n",
       "    } else {\n",
       "        // location in version 2\n",
       "        IPython.keyboard_manager.register_events(el);\n",
       "    }\n",
       "};\n",
       "\n",
       "mpl.figure.prototype._key_event_extra = function (event, _name) {\n",
       "    var manager = IPython.notebook.keyboard_manager;\n",
       "    if (!manager) {\n",
       "        manager = IPython.keyboard_manager;\n",
       "    }\n",
       "\n",
       "    // Check for shift+enter\n",
       "    if (event.shiftKey && event.which === 13) {\n",
       "        this.canvas_div.blur();\n",
       "        // select the cell after this one\n",
       "        var index = IPython.notebook.find_cell_index(this.cell_info[0]);\n",
       "        IPython.notebook.select(index + 1);\n",
       "    }\n",
       "};\n",
       "\n",
       "mpl.figure.prototype.handle_save = function (fig, _msg) {\n",
       "    fig.ondownload(fig, null);\n",
       "};\n",
       "\n",
       "mpl.find_output_cell = function (html_output) {\n",
       "    // Return the cell and output element which can be found *uniquely* in the notebook.\n",
       "    // Note - this is a bit hacky, but it is done because the \"notebook_saving.Notebook\"\n",
       "    // IPython event is triggered only after the cells have been serialised, which for\n",
       "    // our purposes (turning an active figure into a static one), is too late.\n",
       "    var cells = IPython.notebook.get_cells();\n",
       "    var ncells = cells.length;\n",
       "    for (var i = 0; i < ncells; i++) {\n",
       "        var cell = cells[i];\n",
       "        if (cell.cell_type === 'code') {\n",
       "            for (var j = 0; j < cell.output_area.outputs.length; j++) {\n",
       "                var data = cell.output_area.outputs[j];\n",
       "                if (data.data) {\n",
       "                    // IPython >= 3 moved mimebundle to data attribute of output\n",
       "                    data = data.data;\n",
       "                }\n",
       "                if (data['text/html'] === html_output) {\n",
       "                    return [cell, data, j];\n",
       "                }\n",
       "            }\n",
       "        }\n",
       "    }\n",
       "};\n",
       "\n",
       "// Register the function which deals with the matplotlib target/channel.\n",
       "// The kernel may be null if the page has been refreshed.\n",
       "if (IPython.notebook.kernel !== null) {\n",
       "    IPython.notebook.kernel.comm_manager.register_target(\n",
       "        'matplotlib',\n",
       "        mpl.mpl_figure_comm\n",
       "    );\n",
       "}\n"
      ],
      "text/plain": [
       "<IPython.core.display.Javascript object>"
      ]
     },
     "metadata": {},
     "output_type": "display_data"
    },
    {
     "data": {
      "text/html": [
       "<img src=\"data:image/png;base64,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\" width=\"640\">"
      ],
      "text/plain": [
       "<IPython.core.display.HTML object>"
      ]
     },
     "metadata": {},
     "output_type": "display_data"
    }
   ],
   "source": [
    "import matplotlib.pyplot as plt\n",
    "%matplotlib nbagg\n",
    "import numpy as np\n",
    "import mplcursors\n",
    "\n",
    "\n",
    "x=[1,2,3,4,5,6,7]\n",
    "y=[50,51,52,48,47,49,46]\n",
    "\n",
    "plt.xlabel('Day')\n",
    "plt.ylabel('Temperature')\n",
    "plt.title('Weather')\n",
    "plt.plot(x,y,color='green',linewidth=5,linestyle=':')\n",
    "mplcursors.cursor(hover=True)\n",
    "plt.show()"
   ]
  },
  {
   "cell_type": "markdown",
   "id": "846d376d",
   "metadata": {},
   "source": [
    "# Style Graphs with Matplotlib:"
   ]
  },
  {
   "cell_type": "code",
   "execution_count": 83,
   "id": "03f2b0e0",
   "metadata": {},
   "outputs": [],
   "source": [
    "import matplotlib.pyplot as plt\n",
    "from matplotlib import style"
   ]
  },
  {
   "cell_type": "code",
   "execution_count": 84,
   "id": "7d7e4538",
   "metadata": {},
   "outputs": [
    {
     "name": "stdout",
     "output_type": "stream",
     "text": [
      "['Solarize_Light2', '_classic_test_patch', 'bmh', 'classic', 'dark_background', 'fast', 'fivethirtyeight', 'ggplot', 'grayscale', 'seaborn', 'seaborn-bright', 'seaborn-colorblind', 'seaborn-dark', 'seaborn-dark-palette', 'seaborn-darkgrid', 'seaborn-deep', 'seaborn-muted', 'seaborn-notebook', 'seaborn-paper', 'seaborn-pastel', 'seaborn-poster', 'seaborn-talk', 'seaborn-ticks', 'seaborn-white', 'seaborn-whitegrid', 'tableau-colorblind10']\n"
     ]
    }
   ],
   "source": [
    "# You can see all of the available styles you \n",
    "# currently have by doing:\n",
    "\n",
    "print(plt.style.available)"
   ]
  },
  {
   "cell_type": "code",
   "execution_count": 85,
   "id": "869cc896",
   "metadata": {},
   "outputs": [],
   "source": [
    "style.use('dark_background')"
   ]
  },
  {
   "cell_type": "code",
   "execution_count": 86,
   "id": "e6f1b688",
   "metadata": {},
   "outputs": [],
   "source": [
    "company=['GOOGL','AMZN','MSFT','FB']\n",
    "revenue=[90,136,89,27]"
   ]
  },
  {
   "cell_type": "code",
   "execution_count": 87,
   "id": "caaae581",
   "metadata": {},
   "outputs": [],
   "source": [
    "plt.bar(company,revenue, label=\"Revenue\")\n",
    "\n",
    "plt.xlabel(\"Company\")\n",
    "plt.ylabel(\"Revenue(Bln)\")\n",
    "plt.title('US Technology Stocks')\n",
    "plt.legend()\n",
    "plt.show()"
   ]
  },
  {
   "cell_type": "code",
   "execution_count": 88,
   "id": "884d0963",
   "metadata": {},
   "outputs": [],
   "source": [
    "style.use('seaborn')"
   ]
  },
  {
   "cell_type": "code",
   "execution_count": 89,
   "id": "a9f69923",
   "metadata": {},
   "outputs": [],
   "source": [
    "plt.bar(company,revenue, label=\"Revenue\")\n",
    "\n",
    "plt.xlabel(\"Company\")\n",
    "plt.ylabel(\"Revenue(Bln)\")\n",
    "plt.title('US Technology Stocks')\n",
    "plt.legend()\n",
    "plt.show()"
   ]
  },
  {
   "cell_type": "code",
   "execution_count": 90,
   "id": "4d80b8ee",
   "metadata": {},
   "outputs": [],
   "source": [
    "import requests\n",
    "import json"
   ]
  },
  {
   "cell_type": "code",
   "execution_count": 91,
   "id": "d4447b9d",
   "metadata": {},
   "outputs": [
    {
     "ename": "ConnectionError",
     "evalue": "HTTPSConnectionPool(host='data.nasdaq.com', port=443): Max retries exceeded with url: /api/v3/datasets/BSE/BOM511128.json?api_key=Fc3EgZ_j_ygCsipq8 (Caused by NewConnectionError('<urllib3.connection.HTTPSConnection object at 0x000001426616A460>: Failed to establish a new connection: [Errno 11001] getaddrinfo failed'))",
     "output_type": "error",
     "traceback": [
      "\u001b[1;31m---------------------------------------------------------------------------\u001b[0m",
      "\u001b[1;31mgaierror\u001b[0m                                  Traceback (most recent call last)",
      "\u001b[1;32m~\\anaconda3\\lib\\site-packages\\urllib3\\connection.py\u001b[0m in \u001b[0;36m_new_conn\u001b[1;34m(self)\u001b[0m\n\u001b[0;32m    173\u001b[0m         \u001b[1;32mtry\u001b[0m\u001b[1;33m:\u001b[0m\u001b[1;33m\u001b[0m\u001b[1;33m\u001b[0m\u001b[0m\n\u001b[1;32m--> 174\u001b[1;33m             conn = connection.create_connection(\n\u001b[0m\u001b[0;32m    175\u001b[0m                 \u001b[1;33m(\u001b[0m\u001b[0mself\u001b[0m\u001b[1;33m.\u001b[0m\u001b[0m_dns_host\u001b[0m\u001b[1;33m,\u001b[0m \u001b[0mself\u001b[0m\u001b[1;33m.\u001b[0m\u001b[0mport\u001b[0m\u001b[1;33m)\u001b[0m\u001b[1;33m,\u001b[0m \u001b[0mself\u001b[0m\u001b[1;33m.\u001b[0m\u001b[0mtimeout\u001b[0m\u001b[1;33m,\u001b[0m \u001b[1;33m**\u001b[0m\u001b[0mextra_kw\u001b[0m\u001b[1;33m\u001b[0m\u001b[1;33m\u001b[0m\u001b[0m\n",
      "\u001b[1;32m~\\anaconda3\\lib\\site-packages\\urllib3\\util\\connection.py\u001b[0m in \u001b[0;36mcreate_connection\u001b[1;34m(address, timeout, source_address, socket_options)\u001b[0m\n\u001b[0;32m     72\u001b[0m \u001b[1;33m\u001b[0m\u001b[0m\n\u001b[1;32m---> 73\u001b[1;33m     \u001b[1;32mfor\u001b[0m \u001b[0mres\u001b[0m \u001b[1;32min\u001b[0m \u001b[0msocket\u001b[0m\u001b[1;33m.\u001b[0m\u001b[0mgetaddrinfo\u001b[0m\u001b[1;33m(\u001b[0m\u001b[0mhost\u001b[0m\u001b[1;33m,\u001b[0m \u001b[0mport\u001b[0m\u001b[1;33m,\u001b[0m \u001b[0mfamily\u001b[0m\u001b[1;33m,\u001b[0m \u001b[0msocket\u001b[0m\u001b[1;33m.\u001b[0m\u001b[0mSOCK_STREAM\u001b[0m\u001b[1;33m)\u001b[0m\u001b[1;33m:\u001b[0m\u001b[1;33m\u001b[0m\u001b[1;33m\u001b[0m\u001b[0m\n\u001b[0m\u001b[0;32m     74\u001b[0m         \u001b[0maf\u001b[0m\u001b[1;33m,\u001b[0m \u001b[0msocktype\u001b[0m\u001b[1;33m,\u001b[0m \u001b[0mproto\u001b[0m\u001b[1;33m,\u001b[0m \u001b[0mcanonname\u001b[0m\u001b[1;33m,\u001b[0m \u001b[0msa\u001b[0m \u001b[1;33m=\u001b[0m \u001b[0mres\u001b[0m\u001b[1;33m\u001b[0m\u001b[1;33m\u001b[0m\u001b[0m\n",
      "\u001b[1;32m~\\anaconda3\\lib\\socket.py\u001b[0m in \u001b[0;36mgetaddrinfo\u001b[1;34m(host, port, family, type, proto, flags)\u001b[0m\n\u001b[0;32m    953\u001b[0m     \u001b[0maddrlist\u001b[0m \u001b[1;33m=\u001b[0m \u001b[1;33m[\u001b[0m\u001b[1;33m]\u001b[0m\u001b[1;33m\u001b[0m\u001b[1;33m\u001b[0m\u001b[0m\n\u001b[1;32m--> 954\u001b[1;33m     \u001b[1;32mfor\u001b[0m \u001b[0mres\u001b[0m \u001b[1;32min\u001b[0m \u001b[0m_socket\u001b[0m\u001b[1;33m.\u001b[0m\u001b[0mgetaddrinfo\u001b[0m\u001b[1;33m(\u001b[0m\u001b[0mhost\u001b[0m\u001b[1;33m,\u001b[0m \u001b[0mport\u001b[0m\u001b[1;33m,\u001b[0m \u001b[0mfamily\u001b[0m\u001b[1;33m,\u001b[0m \u001b[0mtype\u001b[0m\u001b[1;33m,\u001b[0m \u001b[0mproto\u001b[0m\u001b[1;33m,\u001b[0m \u001b[0mflags\u001b[0m\u001b[1;33m)\u001b[0m\u001b[1;33m:\u001b[0m\u001b[1;33m\u001b[0m\u001b[1;33m\u001b[0m\u001b[0m\n\u001b[0m\u001b[0;32m    955\u001b[0m         \u001b[0maf\u001b[0m\u001b[1;33m,\u001b[0m \u001b[0msocktype\u001b[0m\u001b[1;33m,\u001b[0m \u001b[0mproto\u001b[0m\u001b[1;33m,\u001b[0m \u001b[0mcanonname\u001b[0m\u001b[1;33m,\u001b[0m \u001b[0msa\u001b[0m \u001b[1;33m=\u001b[0m \u001b[0mres\u001b[0m\u001b[1;33m\u001b[0m\u001b[1;33m\u001b[0m\u001b[0m\n",
      "\u001b[1;31mgaierror\u001b[0m: [Errno 11001] getaddrinfo failed",
      "\nDuring handling of the above exception, another exception occurred:\n",
      "\u001b[1;31mNewConnectionError\u001b[0m                        Traceback (most recent call last)",
      "\u001b[1;32m~\\anaconda3\\lib\\site-packages\\urllib3\\connectionpool.py\u001b[0m in \u001b[0;36murlopen\u001b[1;34m(self, method, url, body, headers, retries, redirect, assert_same_host, timeout, pool_timeout, release_conn, chunked, body_pos, **response_kw)\u001b[0m\n\u001b[0;32m    698\u001b[0m             \u001b[1;31m# Make the request on the httplib connection object.\u001b[0m\u001b[1;33m\u001b[0m\u001b[1;33m\u001b[0m\u001b[0m\n\u001b[1;32m--> 699\u001b[1;33m             httplib_response = self._make_request(\n\u001b[0m\u001b[0;32m    700\u001b[0m                 \u001b[0mconn\u001b[0m\u001b[1;33m,\u001b[0m\u001b[1;33m\u001b[0m\u001b[1;33m\u001b[0m\u001b[0m\n",
      "\u001b[1;32m~\\anaconda3\\lib\\site-packages\\urllib3\\connectionpool.py\u001b[0m in \u001b[0;36m_make_request\u001b[1;34m(self, conn, method, url, timeout, chunked, **httplib_request_kw)\u001b[0m\n\u001b[0;32m    381\u001b[0m         \u001b[1;32mtry\u001b[0m\u001b[1;33m:\u001b[0m\u001b[1;33m\u001b[0m\u001b[1;33m\u001b[0m\u001b[0m\n\u001b[1;32m--> 382\u001b[1;33m             \u001b[0mself\u001b[0m\u001b[1;33m.\u001b[0m\u001b[0m_validate_conn\u001b[0m\u001b[1;33m(\u001b[0m\u001b[0mconn\u001b[0m\u001b[1;33m)\u001b[0m\u001b[1;33m\u001b[0m\u001b[1;33m\u001b[0m\u001b[0m\n\u001b[0m\u001b[0;32m    383\u001b[0m         \u001b[1;32mexcept\u001b[0m \u001b[1;33m(\u001b[0m\u001b[0mSocketTimeout\u001b[0m\u001b[1;33m,\u001b[0m \u001b[0mBaseSSLError\u001b[0m\u001b[1;33m)\u001b[0m \u001b[1;32mas\u001b[0m \u001b[0me\u001b[0m\u001b[1;33m:\u001b[0m\u001b[1;33m\u001b[0m\u001b[1;33m\u001b[0m\u001b[0m\n",
      "\u001b[1;32m~\\anaconda3\\lib\\site-packages\\urllib3\\connectionpool.py\u001b[0m in \u001b[0;36m_validate_conn\u001b[1;34m(self, conn)\u001b[0m\n\u001b[0;32m   1009\u001b[0m         \u001b[1;32mif\u001b[0m \u001b[1;32mnot\u001b[0m \u001b[0mgetattr\u001b[0m\u001b[1;33m(\u001b[0m\u001b[0mconn\u001b[0m\u001b[1;33m,\u001b[0m \u001b[1;34m\"sock\"\u001b[0m\u001b[1;33m,\u001b[0m \u001b[1;32mNone\u001b[0m\u001b[1;33m)\u001b[0m\u001b[1;33m:\u001b[0m  \u001b[1;31m# AppEngine might not have  `.sock`\u001b[0m\u001b[1;33m\u001b[0m\u001b[1;33m\u001b[0m\u001b[0m\n\u001b[1;32m-> 1010\u001b[1;33m             \u001b[0mconn\u001b[0m\u001b[1;33m.\u001b[0m\u001b[0mconnect\u001b[0m\u001b[1;33m(\u001b[0m\u001b[1;33m)\u001b[0m\u001b[1;33m\u001b[0m\u001b[1;33m\u001b[0m\u001b[0m\n\u001b[0m\u001b[0;32m   1011\u001b[0m \u001b[1;33m\u001b[0m\u001b[0m\n",
      "\u001b[1;32m~\\anaconda3\\lib\\site-packages\\urllib3\\connection.py\u001b[0m in \u001b[0;36mconnect\u001b[1;34m(self)\u001b[0m\n\u001b[0;32m    357\u001b[0m         \u001b[1;31m# Add certificate verification\u001b[0m\u001b[1;33m\u001b[0m\u001b[1;33m\u001b[0m\u001b[0m\n\u001b[1;32m--> 358\u001b[1;33m         \u001b[0mconn\u001b[0m \u001b[1;33m=\u001b[0m \u001b[0mself\u001b[0m\u001b[1;33m.\u001b[0m\u001b[0m_new_conn\u001b[0m\u001b[1;33m(\u001b[0m\u001b[1;33m)\u001b[0m\u001b[1;33m\u001b[0m\u001b[1;33m\u001b[0m\u001b[0m\n\u001b[0m\u001b[0;32m    359\u001b[0m         \u001b[0mhostname\u001b[0m \u001b[1;33m=\u001b[0m \u001b[0mself\u001b[0m\u001b[1;33m.\u001b[0m\u001b[0mhost\u001b[0m\u001b[1;33m\u001b[0m\u001b[1;33m\u001b[0m\u001b[0m\n",
      "\u001b[1;32m~\\anaconda3\\lib\\site-packages\\urllib3\\connection.py\u001b[0m in \u001b[0;36m_new_conn\u001b[1;34m(self)\u001b[0m\n\u001b[0;32m    185\u001b[0m         \u001b[1;32mexcept\u001b[0m \u001b[0mSocketError\u001b[0m \u001b[1;32mas\u001b[0m \u001b[0me\u001b[0m\u001b[1;33m:\u001b[0m\u001b[1;33m\u001b[0m\u001b[1;33m\u001b[0m\u001b[0m\n\u001b[1;32m--> 186\u001b[1;33m             raise NewConnectionError(\n\u001b[0m\u001b[0;32m    187\u001b[0m                 \u001b[0mself\u001b[0m\u001b[1;33m,\u001b[0m \u001b[1;34m\"Failed to establish a new connection: %s\"\u001b[0m \u001b[1;33m%\u001b[0m \u001b[0me\u001b[0m\u001b[1;33m\u001b[0m\u001b[1;33m\u001b[0m\u001b[0m\n",
      "\u001b[1;31mNewConnectionError\u001b[0m: <urllib3.connection.HTTPSConnection object at 0x000001426616A460>: Failed to establish a new connection: [Errno 11001] getaddrinfo failed",
      "\nDuring handling of the above exception, another exception occurred:\n",
      "\u001b[1;31mMaxRetryError\u001b[0m                             Traceback (most recent call last)",
      "\u001b[1;32m~\\anaconda3\\lib\\site-packages\\requests\\adapters.py\u001b[0m in \u001b[0;36msend\u001b[1;34m(self, request, stream, timeout, verify, cert, proxies)\u001b[0m\n\u001b[0;32m    438\u001b[0m             \u001b[1;32mif\u001b[0m \u001b[1;32mnot\u001b[0m \u001b[0mchunked\u001b[0m\u001b[1;33m:\u001b[0m\u001b[1;33m\u001b[0m\u001b[1;33m\u001b[0m\u001b[0m\n\u001b[1;32m--> 439\u001b[1;33m                 resp = conn.urlopen(\n\u001b[0m\u001b[0;32m    440\u001b[0m                     \u001b[0mmethod\u001b[0m\u001b[1;33m=\u001b[0m\u001b[0mrequest\u001b[0m\u001b[1;33m.\u001b[0m\u001b[0mmethod\u001b[0m\u001b[1;33m,\u001b[0m\u001b[1;33m\u001b[0m\u001b[1;33m\u001b[0m\u001b[0m\n",
      "\u001b[1;32m~\\anaconda3\\lib\\site-packages\\urllib3\\connectionpool.py\u001b[0m in \u001b[0;36murlopen\u001b[1;34m(self, method, url, body, headers, retries, redirect, assert_same_host, timeout, pool_timeout, release_conn, chunked, body_pos, **response_kw)\u001b[0m\n\u001b[0;32m    754\u001b[0m \u001b[1;33m\u001b[0m\u001b[0m\n\u001b[1;32m--> 755\u001b[1;33m             retries = retries.increment(\n\u001b[0m\u001b[0;32m    756\u001b[0m                 \u001b[0mmethod\u001b[0m\u001b[1;33m,\u001b[0m \u001b[0murl\u001b[0m\u001b[1;33m,\u001b[0m \u001b[0merror\u001b[0m\u001b[1;33m=\u001b[0m\u001b[0me\u001b[0m\u001b[1;33m,\u001b[0m \u001b[0m_pool\u001b[0m\u001b[1;33m=\u001b[0m\u001b[0mself\u001b[0m\u001b[1;33m,\u001b[0m \u001b[0m_stacktrace\u001b[0m\u001b[1;33m=\u001b[0m\u001b[0msys\u001b[0m\u001b[1;33m.\u001b[0m\u001b[0mexc_info\u001b[0m\u001b[1;33m(\u001b[0m\u001b[1;33m)\u001b[0m\u001b[1;33m[\u001b[0m\u001b[1;36m2\u001b[0m\u001b[1;33m]\u001b[0m\u001b[1;33m\u001b[0m\u001b[1;33m\u001b[0m\u001b[0m\n",
      "\u001b[1;32m~\\anaconda3\\lib\\site-packages\\urllib3\\util\\retry.py\u001b[0m in \u001b[0;36mincrement\u001b[1;34m(self, method, url, response, error, _pool, _stacktrace)\u001b[0m\n\u001b[0;32m    573\u001b[0m         \u001b[1;32mif\u001b[0m \u001b[0mnew_retry\u001b[0m\u001b[1;33m.\u001b[0m\u001b[0mis_exhausted\u001b[0m\u001b[1;33m(\u001b[0m\u001b[1;33m)\u001b[0m\u001b[1;33m:\u001b[0m\u001b[1;33m\u001b[0m\u001b[1;33m\u001b[0m\u001b[0m\n\u001b[1;32m--> 574\u001b[1;33m             \u001b[1;32mraise\u001b[0m \u001b[0mMaxRetryError\u001b[0m\u001b[1;33m(\u001b[0m\u001b[0m_pool\u001b[0m\u001b[1;33m,\u001b[0m \u001b[0murl\u001b[0m\u001b[1;33m,\u001b[0m \u001b[0merror\u001b[0m \u001b[1;32mor\u001b[0m \u001b[0mResponseError\u001b[0m\u001b[1;33m(\u001b[0m\u001b[0mcause\u001b[0m\u001b[1;33m)\u001b[0m\u001b[1;33m)\u001b[0m\u001b[1;33m\u001b[0m\u001b[1;33m\u001b[0m\u001b[0m\n\u001b[0m\u001b[0;32m    575\u001b[0m \u001b[1;33m\u001b[0m\u001b[0m\n",
      "\u001b[1;31mMaxRetryError\u001b[0m: HTTPSConnectionPool(host='data.nasdaq.com', port=443): Max retries exceeded with url: /api/v3/datasets/BSE/BOM511128.json?api_key=Fc3EgZ_j_ygCsipq8 (Caused by NewConnectionError('<urllib3.connection.HTTPSConnection object at 0x000001426616A460>: Failed to establish a new connection: [Errno 11001] getaddrinfo failed'))",
      "\nDuring handling of the above exception, another exception occurred:\n",
      "\u001b[1;31mConnectionError\u001b[0m                           Traceback (most recent call last)",
      "\u001b[1;32mC:\\Users\\MONUSA~1\\AppData\\Local\\Temp/ipykernel_9456/2127047486.py\u001b[0m in \u001b[0;36m<module>\u001b[1;34m\u001b[0m\n\u001b[1;32m----> 1\u001b[1;33m \u001b[0mreq\u001b[0m\u001b[1;33m=\u001b[0m\u001b[0mrequests\u001b[0m\u001b[1;33m.\u001b[0m\u001b[0mget\u001b[0m\u001b[1;33m(\u001b[0m\u001b[1;34m'https://data.nasdaq.com/api/v3/datasets/BSE/BOM511128.json?api_key=Fc3EgZ_j_ygCsipq8'\u001b[0m\u001b[1;33m)\u001b[0m\u001b[1;33m\u001b[0m\u001b[1;33m\u001b[0m\u001b[0m\n\u001b[0m",
      "\u001b[1;32m~\\anaconda3\\lib\\site-packages\\requests\\api.py\u001b[0m in \u001b[0;36mget\u001b[1;34m(url, params, **kwargs)\u001b[0m\n\u001b[0;32m     73\u001b[0m     \"\"\"\n\u001b[0;32m     74\u001b[0m \u001b[1;33m\u001b[0m\u001b[0m\n\u001b[1;32m---> 75\u001b[1;33m     \u001b[1;32mreturn\u001b[0m \u001b[0mrequest\u001b[0m\u001b[1;33m(\u001b[0m\u001b[1;34m'get'\u001b[0m\u001b[1;33m,\u001b[0m \u001b[0murl\u001b[0m\u001b[1;33m,\u001b[0m \u001b[0mparams\u001b[0m\u001b[1;33m=\u001b[0m\u001b[0mparams\u001b[0m\u001b[1;33m,\u001b[0m \u001b[1;33m**\u001b[0m\u001b[0mkwargs\u001b[0m\u001b[1;33m)\u001b[0m\u001b[1;33m\u001b[0m\u001b[1;33m\u001b[0m\u001b[0m\n\u001b[0m\u001b[0;32m     76\u001b[0m \u001b[1;33m\u001b[0m\u001b[0m\n\u001b[0;32m     77\u001b[0m \u001b[1;33m\u001b[0m\u001b[0m\n",
      "\u001b[1;32m~\\anaconda3\\lib\\site-packages\\requests\\api.py\u001b[0m in \u001b[0;36mrequest\u001b[1;34m(method, url, **kwargs)\u001b[0m\n\u001b[0;32m     59\u001b[0m     \u001b[1;31m# cases, and look like a memory leak in others.\u001b[0m\u001b[1;33m\u001b[0m\u001b[1;33m\u001b[0m\u001b[0m\n\u001b[0;32m     60\u001b[0m     \u001b[1;32mwith\u001b[0m \u001b[0msessions\u001b[0m\u001b[1;33m.\u001b[0m\u001b[0mSession\u001b[0m\u001b[1;33m(\u001b[0m\u001b[1;33m)\u001b[0m \u001b[1;32mas\u001b[0m \u001b[0msession\u001b[0m\u001b[1;33m:\u001b[0m\u001b[1;33m\u001b[0m\u001b[1;33m\u001b[0m\u001b[0m\n\u001b[1;32m---> 61\u001b[1;33m         \u001b[1;32mreturn\u001b[0m \u001b[0msession\u001b[0m\u001b[1;33m.\u001b[0m\u001b[0mrequest\u001b[0m\u001b[1;33m(\u001b[0m\u001b[0mmethod\u001b[0m\u001b[1;33m=\u001b[0m\u001b[0mmethod\u001b[0m\u001b[1;33m,\u001b[0m \u001b[0murl\u001b[0m\u001b[1;33m=\u001b[0m\u001b[0murl\u001b[0m\u001b[1;33m,\u001b[0m \u001b[1;33m**\u001b[0m\u001b[0mkwargs\u001b[0m\u001b[1;33m)\u001b[0m\u001b[1;33m\u001b[0m\u001b[1;33m\u001b[0m\u001b[0m\n\u001b[0m\u001b[0;32m     62\u001b[0m \u001b[1;33m\u001b[0m\u001b[0m\n\u001b[0;32m     63\u001b[0m \u001b[1;33m\u001b[0m\u001b[0m\n",
      "\u001b[1;32m~\\anaconda3\\lib\\site-packages\\requests\\sessions.py\u001b[0m in \u001b[0;36mrequest\u001b[1;34m(self, method, url, params, data, headers, cookies, files, auth, timeout, allow_redirects, proxies, hooks, stream, verify, cert, json)\u001b[0m\n\u001b[0;32m    540\u001b[0m         }\n\u001b[0;32m    541\u001b[0m         \u001b[0msend_kwargs\u001b[0m\u001b[1;33m.\u001b[0m\u001b[0mupdate\u001b[0m\u001b[1;33m(\u001b[0m\u001b[0msettings\u001b[0m\u001b[1;33m)\u001b[0m\u001b[1;33m\u001b[0m\u001b[1;33m\u001b[0m\u001b[0m\n\u001b[1;32m--> 542\u001b[1;33m         \u001b[0mresp\u001b[0m \u001b[1;33m=\u001b[0m \u001b[0mself\u001b[0m\u001b[1;33m.\u001b[0m\u001b[0msend\u001b[0m\u001b[1;33m(\u001b[0m\u001b[0mprep\u001b[0m\u001b[1;33m,\u001b[0m \u001b[1;33m**\u001b[0m\u001b[0msend_kwargs\u001b[0m\u001b[1;33m)\u001b[0m\u001b[1;33m\u001b[0m\u001b[1;33m\u001b[0m\u001b[0m\n\u001b[0m\u001b[0;32m    543\u001b[0m \u001b[1;33m\u001b[0m\u001b[0m\n\u001b[0;32m    544\u001b[0m         \u001b[1;32mreturn\u001b[0m \u001b[0mresp\u001b[0m\u001b[1;33m\u001b[0m\u001b[1;33m\u001b[0m\u001b[0m\n",
      "\u001b[1;32m~\\anaconda3\\lib\\site-packages\\requests\\sessions.py\u001b[0m in \u001b[0;36msend\u001b[1;34m(self, request, **kwargs)\u001b[0m\n\u001b[0;32m    653\u001b[0m \u001b[1;33m\u001b[0m\u001b[0m\n\u001b[0;32m    654\u001b[0m         \u001b[1;31m# Send the request\u001b[0m\u001b[1;33m\u001b[0m\u001b[1;33m\u001b[0m\u001b[0m\n\u001b[1;32m--> 655\u001b[1;33m         \u001b[0mr\u001b[0m \u001b[1;33m=\u001b[0m \u001b[0madapter\u001b[0m\u001b[1;33m.\u001b[0m\u001b[0msend\u001b[0m\u001b[1;33m(\u001b[0m\u001b[0mrequest\u001b[0m\u001b[1;33m,\u001b[0m \u001b[1;33m**\u001b[0m\u001b[0mkwargs\u001b[0m\u001b[1;33m)\u001b[0m\u001b[1;33m\u001b[0m\u001b[1;33m\u001b[0m\u001b[0m\n\u001b[0m\u001b[0;32m    656\u001b[0m \u001b[1;33m\u001b[0m\u001b[0m\n\u001b[0;32m    657\u001b[0m         \u001b[1;31m# Total elapsed time of the request (approximately)\u001b[0m\u001b[1;33m\u001b[0m\u001b[1;33m\u001b[0m\u001b[0m\n",
      "\u001b[1;32m~\\anaconda3\\lib\\site-packages\\requests\\adapters.py\u001b[0m in \u001b[0;36msend\u001b[1;34m(self, request, stream, timeout, verify, cert, proxies)\u001b[0m\n\u001b[0;32m    514\u001b[0m                 \u001b[1;32mraise\u001b[0m \u001b[0mSSLError\u001b[0m\u001b[1;33m(\u001b[0m\u001b[0me\u001b[0m\u001b[1;33m,\u001b[0m \u001b[0mrequest\u001b[0m\u001b[1;33m=\u001b[0m\u001b[0mrequest\u001b[0m\u001b[1;33m)\u001b[0m\u001b[1;33m\u001b[0m\u001b[1;33m\u001b[0m\u001b[0m\n\u001b[0;32m    515\u001b[0m \u001b[1;33m\u001b[0m\u001b[0m\n\u001b[1;32m--> 516\u001b[1;33m             \u001b[1;32mraise\u001b[0m \u001b[0mConnectionError\u001b[0m\u001b[1;33m(\u001b[0m\u001b[0me\u001b[0m\u001b[1;33m,\u001b[0m \u001b[0mrequest\u001b[0m\u001b[1;33m=\u001b[0m\u001b[0mrequest\u001b[0m\u001b[1;33m)\u001b[0m\u001b[1;33m\u001b[0m\u001b[1;33m\u001b[0m\u001b[0m\n\u001b[0m\u001b[0;32m    517\u001b[0m \u001b[1;33m\u001b[0m\u001b[0m\n\u001b[0;32m    518\u001b[0m         \u001b[1;32mexcept\u001b[0m \u001b[0mClosedPoolError\u001b[0m \u001b[1;32mas\u001b[0m \u001b[0me\u001b[0m\u001b[1;33m:\u001b[0m\u001b[1;33m\u001b[0m\u001b[1;33m\u001b[0m\u001b[0m\n",
      "\u001b[1;31mConnectionError\u001b[0m: HTTPSConnectionPool(host='data.nasdaq.com', port=443): Max retries exceeded with url: /api/v3/datasets/BSE/BOM511128.json?api_key=Fc3EgZ_j_ygCsipq8 (Caused by NewConnectionError('<urllib3.connection.HTTPSConnection object at 0x000001426616A460>: Failed to establish a new connection: [Errno 11001] getaddrinfo failed'))"
     ]
    }
   ],
   "source": [
    "req=requests.get('https://data.nasdaq.com/api/v3/datasets/BSE/BOM511128.json?api_key=Fc3EgZ_j_ygCsipq8')"
   ]
  },
  {
   "cell_type": "code",
   "execution_count": 92,
   "id": "aa6e0a2f",
   "metadata": {},
   "outputs": [
    {
     "ename": "NameError",
     "evalue": "name 'req' is not defined",
     "output_type": "error",
     "traceback": [
      "\u001b[1;31m---------------------------------------------------------------------------\u001b[0m",
      "\u001b[1;31mNameError\u001b[0m                                 Traceback (most recent call last)",
      "\u001b[1;32mC:\\Users\\MONUSA~1\\AppData\\Local\\Temp/ipykernel_9456/3216809631.py\u001b[0m in \u001b[0;36m<module>\u001b[1;34m\u001b[0m\n\u001b[1;32m----> 1\u001b[1;33m \u001b[0mres\u001b[0m\u001b[1;33m=\u001b[0m\u001b[0mjson\u001b[0m\u001b[1;33m.\u001b[0m\u001b[0mloads\u001b[0m\u001b[1;33m(\u001b[0m\u001b[0mreq\u001b[0m\u001b[1;33m.\u001b[0m\u001b[0mtext\u001b[0m\u001b[1;33m)\u001b[0m\u001b[1;33m\u001b[0m\u001b[1;33m\u001b[0m\u001b[0m\n\u001b[0m",
      "\u001b[1;31mNameError\u001b[0m: name 'req' is not defined"
     ]
    }
   ],
   "source": [
    "res=json.loads(req.text)"
   ]
  },
  {
   "cell_type": "code",
   "execution_count": 93,
   "id": "8082f6ab",
   "metadata": {},
   "outputs": [
    {
     "ename": "NameError",
     "evalue": "name 'res' is not defined",
     "output_type": "error",
     "traceback": [
      "\u001b[1;31m---------------------------------------------------------------------------\u001b[0m",
      "\u001b[1;31mNameError\u001b[0m                                 Traceback (most recent call last)",
      "\u001b[1;32mC:\\Users\\MONUSA~1\\AppData\\Local\\Temp/ipykernel_9456/1158820258.py\u001b[0m in \u001b[0;36m<module>\u001b[1;34m\u001b[0m\n\u001b[1;32m----> 1\u001b[1;33m \u001b[0mres\u001b[0m\u001b[1;33m\u001b[0m\u001b[1;33m\u001b[0m\u001b[0m\n\u001b[0m",
      "\u001b[1;31mNameError\u001b[0m: name 'res' is not defined"
     ]
    }
   ],
   "source": [
    "res"
   ]
  },
  {
   "cell_type": "code",
   "execution_count": 94,
   "id": "b609adbe",
   "metadata": {},
   "outputs": [
    {
     "ename": "NameError",
     "evalue": "name 'res' is not defined",
     "output_type": "error",
     "traceback": [
      "\u001b[1;31m---------------------------------------------------------------------------\u001b[0m",
      "\u001b[1;31mNameError\u001b[0m                                 Traceback (most recent call last)",
      "\u001b[1;32mC:\\Users\\MONUSA~1\\AppData\\Local\\Temp/ipykernel_9456/4263474545.py\u001b[0m in \u001b[0;36m<module>\u001b[1;34m\u001b[0m\n\u001b[1;32m----> 1\u001b[1;33m \u001b[0mmy_data\u001b[0m\u001b[1;33m=\u001b[0m\u001b[0mres\u001b[0m\u001b[1;33m[\u001b[0m\u001b[1;34m'dataset'\u001b[0m\u001b[1;33m]\u001b[0m\u001b[1;33m[\u001b[0m\u001b[1;34m'data'\u001b[0m\u001b[1;33m]\u001b[0m\u001b[1;33m\u001b[0m\u001b[1;33m\u001b[0m\u001b[0m\n\u001b[0m\u001b[0;32m      2\u001b[0m \u001b[0mmy_data\u001b[0m\u001b[1;33m\u001b[0m\u001b[1;33m\u001b[0m\u001b[0m\n",
      "\u001b[1;31mNameError\u001b[0m: name 'res' is not defined"
     ]
    }
   ],
   "source": [
    "my_data=res['dataset']['data']\n",
    "my_data"
   ]
  },
  {
   "cell_type": "code",
   "execution_count": 95,
   "id": "eaa6e470",
   "metadata": {},
   "outputs": [
    {
     "ename": "NameError",
     "evalue": "name 'my_data' is not defined",
     "output_type": "error",
     "traceback": [
      "\u001b[1;31m---------------------------------------------------------------------------\u001b[0m",
      "\u001b[1;31mNameError\u001b[0m                                 Traceback (most recent call last)",
      "\u001b[1;32mC:\\Users\\MONUSA~1\\AppData\\Local\\Temp/ipykernel_9456/1461229849.py\u001b[0m in \u001b[0;36m<module>\u001b[1;34m\u001b[0m\n\u001b[1;32m----> 1\u001b[1;33m \u001b[0museful_data\u001b[0m\u001b[1;33m=\u001b[0m\u001b[1;33m[\u001b[0m\u001b[0mi\u001b[0m\u001b[1;33m[\u001b[0m\u001b[1;36m1\u001b[0m\u001b[1;33m]\u001b[0m \u001b[1;32mfor\u001b[0m \u001b[0mi\u001b[0m \u001b[1;32min\u001b[0m \u001b[0mmy_data\u001b[0m\u001b[1;33m]\u001b[0m\u001b[1;33m\u001b[0m\u001b[1;33m\u001b[0m\u001b[0m\n\u001b[0m\u001b[0;32m      2\u001b[0m \u001b[1;31m#useful_data\u001b[0m\u001b[1;33m\u001b[0m\u001b[1;33m\u001b[0m\u001b[0m\n",
      "\u001b[1;31mNameError\u001b[0m: name 'my_data' is not defined"
     ]
    }
   ],
   "source": [
    "useful_data=[i[1] for i in my_data]\n",
    "#useful_data"
   ]
  },
  {
   "cell_type": "code",
   "execution_count": 96,
   "id": "43e0d278",
   "metadata": {},
   "outputs": [
    {
     "ename": "NameError",
     "evalue": "name 'useful_data' is not defined",
     "output_type": "error",
     "traceback": [
      "\u001b[1;31m---------------------------------------------------------------------------\u001b[0m",
      "\u001b[1;31mNameError\u001b[0m                                 Traceback (most recent call last)",
      "\u001b[1;32mC:\\Users\\MONUSA~1\\AppData\\Local\\Temp/ipykernel_9456/1572811181.py\u001b[0m in \u001b[0;36m<module>\u001b[1;34m\u001b[0m\n\u001b[1;32m----> 1\u001b[1;33m \u001b[0mx_data\u001b[0m\u001b[1;33m=\u001b[0m\u001b[1;33m[\u001b[0m\u001b[0mi\u001b[0m \u001b[1;32mfor\u001b[0m \u001b[0mi\u001b[0m \u001b[1;32min\u001b[0m \u001b[0mrange\u001b[0m\u001b[1;33m(\u001b[0m\u001b[0mlen\u001b[0m\u001b[1;33m(\u001b[0m\u001b[0museful_data\u001b[0m\u001b[1;33m)\u001b[0m\u001b[1;33m)\u001b[0m\u001b[1;33m]\u001b[0m\u001b[1;33m\u001b[0m\u001b[1;33m\u001b[0m\u001b[0m\n\u001b[0m\u001b[0;32m      2\u001b[0m \u001b[1;31m#x_data\u001b[0m\u001b[1;33m\u001b[0m\u001b[1;33m\u001b[0m\u001b[0m\n",
      "\u001b[1;31mNameError\u001b[0m: name 'useful_data' is not defined"
     ]
    }
   ],
   "source": [
    "x_data=[i for i in range(len(useful_data))]\n",
    "#x_data"
   ]
  },
  {
   "cell_type": "code",
   "execution_count": 97,
   "id": "9534ff24",
   "metadata": {},
   "outputs": [],
   "source": [
    "import matplotlib.pyplot as plt"
   ]
  },
  {
   "cell_type": "code",
   "execution_count": 98,
   "id": "af3c0104",
   "metadata": {},
   "outputs": [
    {
     "ename": "NameError",
     "evalue": "name 'useful2_data' is not defined",
     "output_type": "error",
     "traceback": [
      "\u001b[1;31m---------------------------------------------------------------------------\u001b[0m",
      "\u001b[1;31mNameError\u001b[0m                                 Traceback (most recent call last)",
      "\u001b[1;32mC:\\Users\\MONUSA~1\\AppData\\Local\\Temp/ipykernel_9456/3988270346.py\u001b[0m in \u001b[0;36m<module>\u001b[1;34m\u001b[0m\n\u001b[1;32m----> 1\u001b[1;33m \u001b[0mplt\u001b[0m\u001b[1;33m.\u001b[0m\u001b[0mplot\u001b[0m\u001b[1;33m(\u001b[0m\u001b[0museful2_data\u001b[0m\u001b[1;33m,\u001b[0m\u001b[0museful_data\u001b[0m\u001b[1;33m)\u001b[0m\u001b[1;33m\u001b[0m\u001b[1;33m\u001b[0m\u001b[0m\n\u001b[0m\u001b[0;32m      2\u001b[0m \u001b[0mplt\u001b[0m\u001b[1;33m.\u001b[0m\u001b[0mshow\u001b[0m\u001b[1;33m(\u001b[0m\u001b[1;33m)\u001b[0m\u001b[1;33m\u001b[0m\u001b[1;33m\u001b[0m\u001b[0m\n",
      "\u001b[1;31mNameError\u001b[0m: name 'useful2_data' is not defined"
     ]
    }
   ],
   "source": [
    "plt.plot(useful2_data,useful_data)\n",
    "plt.show()"
   ]
  },
  {
   "cell_type": "code",
   "execution_count": null,
   "id": "466b30cf",
   "metadata": {},
   "outputs": [],
   "source": []
  },
  {
   "cell_type": "code",
   "execution_count": null,
   "id": "38ea3d65",
   "metadata": {},
   "outputs": [],
   "source": []
  },
  {
   "cell_type": "code",
   "execution_count": null,
   "id": "5b1d08eb",
   "metadata": {},
   "outputs": [],
   "source": []
  },
  {
   "cell_type": "code",
   "execution_count": null,
   "id": "33aa34b5",
   "metadata": {},
   "outputs": [],
   "source": []
  },
  {
   "cell_type": "code",
   "execution_count": null,
   "id": "cbce92a1",
   "metadata": {},
   "outputs": [],
   "source": [
    "# NoW My Practice Start"
   ]
  },
  {
   "cell_type": "code",
   "execution_count": null,
   "id": "088da307",
   "metadata": {},
   "outputs": [],
   "source": [
    "import matplotlib.pyplot as plt\n",
    "import pandas as pd"
   ]
  },
  {
   "cell_type": "code",
   "execution_count": null,
   "id": "db521909",
   "metadata": {},
   "outputs": [],
   "source": [
    "df=pd.read_csv('Salary_Data.csv')\n",
    "df.head()"
   ]
  },
  {
   "cell_type": "code",
   "execution_count": null,
   "id": "bcbd9cd4",
   "metadata": {},
   "outputs": [],
   "source": [
    "plt.xlabel(\"Experence in Year\")\n",
    "plt.ylabel('Salary')\n",
    "plt.title('Progress Report')\n",
    "plt.plot(df.YearsExperience,df.Salary)\n",
    "plt.show()"
   ]
  },
  {
   "cell_type": "code",
   "execution_count": null,
   "id": "e9a70515",
   "metadata": {},
   "outputs": [],
   "source": [
    "x=[1,2,3,4,5,6,7]\n",
    "y=[24,45,28,54,35,38,12]"
   ]
  },
  {
   "cell_type": "code",
   "execution_count": null,
   "id": "673c6319",
   "metadata": {},
   "outputs": [],
   "source": [
    "plt.xlabel('Day')\n",
    "plt.ylabel('Temperature')\n",
    "plt.title(\"Weather\")\n",
    "plt.plot(x,y,color=\"red\",linewidth=5,linestyle=\"--\")\n",
    "plt.show()"
   ]
  },
  {
   "cell_type": "code",
   "execution_count": null,
   "id": "8e811fb9",
   "metadata": {},
   "outputs": [],
   "source": [
    "# format string and other option"
   ]
  },
  {
   "cell_type": "code",
   "execution_count": null,
   "id": "5ccfff27",
   "metadata": {},
   "outputs": [],
   "source": [
    "plt.xlabel('Day')\n",
    "plt.ylabel('Temperature')\n",
    "plt.title('Weather')\n",
    "plt.plot(x,y,'k+--')\n",
    "plt.show()"
   ]
  },
  {
   "cell_type": "code",
   "execution_count": null,
   "id": "d01fef55",
   "metadata": {},
   "outputs": [],
   "source": [
    "# Markersize\n"
   ]
  },
  {
   "cell_type": "code",
   "execution_count": null,
   "id": "47b9b39a",
   "metadata": {},
   "outputs": [],
   "source": [
    "# Same  effect as \"b+--\"format string "
   ]
  },
  {
   "cell_type": "code",
   "execution_count": null,
   "id": "1aadbfbd",
   "metadata": {},
   "outputs": [],
   "source": [
    "plt.plot(x,y,color=\"black\",marker=\"+\",linestyle=\"--\")\n",
    "plt.show()"
   ]
  },
  {
   "cell_type": "code",
   "execution_count": null,
   "id": "caee315f",
   "metadata": {},
   "outputs": [],
   "source": [
    "plt.plot(x,y,color=\"green\",marker=\"<\",linestyle=\"-\",markersize=10)\n",
    "plt.show()"
   ]
  },
  {
   "cell_type": "code",
   "execution_count": null,
   "id": "0106099f",
   "metadata": {},
   "outputs": [],
   "source": [
    "# aplha property to control transparency of line chart"
   ]
  },
  {
   "cell_type": "code",
   "execution_count": null,
   "id": "d2309faa",
   "metadata": {},
   "outputs": [],
   "source": [
    "# aplha can be specified on a sacle 0 to 1\n",
    "plt.plot(x,y,\"g<\",linestyle=\"-\",alpha=0.5)\n",
    "plt.show()"
   ]
  },
  {
   "cell_type": "code",
   "execution_count": null,
   "id": "7b5bcc79",
   "metadata": {},
   "outputs": [],
   "source": [
    "# Matplotlib : Axes Labels , Legend, Grid"
   ]
  },
  {
   "cell_type": "code",
   "execution_count": null,
   "id": "5686a8fe",
   "metadata": {},
   "outputs": [],
   "source": [
    "days=[1,2,3,4,5,6,7]\n",
    "max_t=[50,51,52,48,47,49,46]\n",
    "min_t=[39,34,20,33,32,28,30]\n",
    "avg_t=[41,48,38,46,42,43,39]"
   ]
  },
  {
   "cell_type": "code",
   "execution_count": null,
   "id": "b9030a22",
   "metadata": {},
   "outputs": [],
   "source": [
    "plt.plot(days,max_t,label=\"max\")\n",
    "plt.plot(days,min_t,label=\"min\")\n",
    "plt.plot(days,avg_t,label=\"average\")\n",
    "plt.show()"
   ]
  },
  {
   "cell_type": "code",
   "execution_count": null,
   "id": "2d6d43ba",
   "metadata": {},
   "outputs": [],
   "source": [
    "# Set axes label and chart title\n",
    "plt.xlabel('Day')\n",
    "plt.ylabel('Temperature')\n",
    "plt.title('Weather')\n",
    "\n",
    "plt.plot(days,max_t,label=\"max\")\n",
    "plt.plot(days,min_t,label=\"min\")\n",
    "plt.plot(days,avg_t,label=\"average\")\n",
    "plt.show()\n"
   ]
  },
  {
   "cell_type": "code",
   "execution_count": null,
   "id": "38f29bc9",
   "metadata": {},
   "outputs": [],
   "source": [
    "# Legend"
   ]
  },
  {
   "cell_type": "code",
   "execution_count": null,
   "id": "7c22172a",
   "metadata": {},
   "outputs": [],
   "source": [
    "# Show Legend\n",
    "plt.plot(days,max_t,label=\"max\")\n",
    "plt.plot(days,min_t,label=\"min\")\n",
    "plt.plot(days,avg_t,label=\"average\")\n",
    "plt.legend(loc=\"best\")\n",
    "plt.show()"
   ]
  },
  {
   "cell_type": "code",
   "execution_count": null,
   "id": "287dd43e",
   "metadata": {},
   "outputs": [],
   "source": [
    "#  Legend at differnt location with shadow enabled and fontsize set to large\n",
    "plt.plot(days,max_t,label=\"max\")\n",
    "plt.plot(days,min_t,label=\"min\")\n",
    "plt.plot(days,avg_t,label=\"average\")\n",
    "\n",
    "plt.legend(loc=\"best\",shadow=True,fontsize='large')\n",
    "plt.show()"
   ]
  },
  {
   "cell_type": "code",
   "execution_count": null,
   "id": "17fdbcad",
   "metadata": {},
   "outputs": [],
   "source": [
    "#  Legend at differnt location with shadow enabled and fontsize set to large\n",
    "plt.plot(days,max_t,label=\"max\")\n",
    "plt.plot(days,min_t,label=\"min\")\n",
    "plt.plot(days,avg_t,label=\"average\")\n",
    "\n",
    "plt.legend(loc=\"lower right\",shadow=True,fontsize='large')\n",
    "plt.show()"
   ]
  },
  {
   "cell_type": "code",
   "execution_count": null,
   "id": "909b9b42",
   "metadata": {},
   "outputs": [],
   "source": [
    "# Grid"
   ]
  },
  {
   "cell_type": "code",
   "execution_count": null,
   "id": "bdebe0d8",
   "metadata": {},
   "outputs": [],
   "source": [
    "#  Legend at differnt location with shadow enabled and fontsize set to large\n",
    "plt.plot(days,max_t,label=\"max\")\n",
    "plt.plot(days,min_t,label=\"min\")\n",
    "plt.plot(days,avg_t,label=\"average\")\n",
    "\n",
    "plt.legend(loc=\"lower right\",shadow=True,fontsize='large')\n",
    "plt.grid()"
   ]
  },
  {
   "cell_type": "code",
   "execution_count": null,
   "id": "08a64c5e",
   "metadata": {},
   "outputs": [],
   "source": [
    "# Bar Chart"
   ]
  },
  {
   "cell_type": "code",
   "execution_count": null,
   "id": "4e84f008",
   "metadata": {},
   "outputs": [],
   "source": [
    "df=pd.read_csv(\"titanic.csv\")\n",
    "df.head()"
   ]
  },
  {
   "cell_type": "code",
   "execution_count": null,
   "id": "32d7ea87",
   "metadata": {},
   "outputs": [],
   "source": [
    "df.Sex.unique() # unique values of Gender"
   ]
  },
  {
   "cell_type": "code",
   "execution_count": null,
   "id": "bea267cb",
   "metadata": {},
   "outputs": [],
   "source": [
    "df.Sex.value_counts()"
   ]
  },
  {
   "cell_type": "code",
   "execution_count": null,
   "id": "5b6554f0",
   "metadata": {},
   "outputs": [],
   "source": [
    "plt.bar(df.Sex.unique(),df.Sex.value_counts())\n",
    "plt.show()"
   ]
  },
  {
   "cell_type": "code",
   "execution_count": null,
   "id": "a75d1f24",
   "metadata": {},
   "outputs": [],
   "source": [
    "# OR"
   ]
  },
  {
   "cell_type": "code",
   "execution_count": null,
   "id": "059d1a36",
   "metadata": {},
   "outputs": [],
   "source": [
    "plt.bar(['male','female'],[577,314])\n",
    "plt.grid()"
   ]
  },
  {
   "cell_type": "code",
   "execution_count": null,
   "id": "f4fc46e6",
   "metadata": {},
   "outputs": [],
   "source": [
    "# Horizontal Bar Chart:-"
   ]
  },
  {
   "cell_type": "code",
   "execution_count": null,
   "id": "c3e9c5d1",
   "metadata": {},
   "outputs": [],
   "source": [
    "plt.barh(df.Sex.unique(),df.Sex.value_counts())\n",
    "plt.show()"
   ]
  },
  {
   "cell_type": "code",
   "execution_count": null,
   "id": "bb6b0381",
   "metadata": {},
   "outputs": [],
   "source": [
    "# Text on the bins "
   ]
  },
  {
   "cell_type": "code",
   "execution_count": null,
   "id": "0d3357d5",
   "metadata": {},
   "outputs": [],
   "source": [
    "plt.bar(df.Sex.unique(),df.Sex.value_counts(),edgecolor=\"k\")\n",
    "plt.text('male',578,'Male')\n",
    "plt.text('female',315,'Female')\n",
    "plt.show()"
   ]
  },
  {
   "cell_type": "code",
   "execution_count": null,
   "id": "aec2953d",
   "metadata": {},
   "outputs": [],
   "source": [
    "plt.bar(df.Sex.unique(),df.Sex.value_counts(),edgecolor=\"k\",color=[\"r\",'b'])\n",
    "plt.text('male',578,'577')\n",
    "plt.text('female',315,'314')\n",
    "plt.show()"
   ]
  },
  {
   "cell_type": "code",
   "execution_count": null,
   "id": "ad2dc2e9",
   "metadata": {},
   "outputs": [],
   "source": [
    "# Simple bar chart showing revenues of major US tech companies"
   ]
  },
  {
   "cell_type": "code",
   "execution_count": null,
   "id": "0722dcb9",
   "metadata": {},
   "outputs": [],
   "source": []
  },
  {
   "cell_type": "code",
   "execution_count": null,
   "id": "758db30a",
   "metadata": {},
   "outputs": [],
   "source": [
    "company=[\"GOOGLE\",'AMZON','MSFT','FB']\n",
    "revenue=[90,136,89,45]\n"
   ]
  },
  {
   "cell_type": "code",
   "execution_count": null,
   "id": "869999e2",
   "metadata": {},
   "outputs": [],
   "source": [
    "xpos=np.arange(len(company))\n",
    "xpos"
   ]
  },
  {
   "cell_type": "code",
   "execution_count": null,
   "id": "a89ba0a2",
   "metadata": {},
   "outputs": [],
   "source": [
    "plt.bar(xpos,revenue,label=\"Revenue\")\n",
    "\n",
    "plt.xticks(xpos,company)\n",
    "plt.ylabel(\"Revenue(Bln)\")\n",
    "plt.title(\"US Technology Stock\")\n",
    "plt.legend()\n",
    "plt.show()"
   ]
  },
  {
   "cell_type": "code",
   "execution_count": null,
   "id": "f806d85e",
   "metadata": {},
   "outputs": [],
   "source": [
    "# Horizontal bar chart using barh function"
   ]
  },
  {
   "cell_type": "code",
   "execution_count": null,
   "id": "12a3e6bd",
   "metadata": {},
   "outputs": [],
   "source": [
    "plt.barh(xpos,revenue,label=\"Revenue\")\n",
    "\n",
    "plt.xticks(xpos,company)\n",
    "plt.ylabel(\"Revenue(Bln)\")\n",
    "plt.title(\"US Technology Stock\")\n",
    "plt.legend()\n",
    "plt.show()"
   ]
  },
  {
   "cell_type": "code",
   "execution_count": null,
   "id": "94ce2284",
   "metadata": {},
   "outputs": [],
   "source": [
    "plt.bar(xpos,revenue,label=\"Revenue\")\n",
    "\n",
    "#plt.xticks(xpos,company)\n",
    "plt.xlabel('Company')\n",
    "plt.ylabel(\"Revenue(Bln)\")\n",
    "plt.title(\"US Technology Stock\")\n",
    "plt.legend()\n",
    "plt.show()"
   ]
  },
  {
   "cell_type": "code",
   "execution_count": null,
   "id": "2986ca15",
   "metadata": {},
   "outputs": [],
   "source": [
    "# Multiple Bars showing revenue and profit of major US tech companies"
   ]
  },
  {
   "cell_type": "code",
   "execution_count": null,
   "id": "4810ebc9",
   "metadata": {},
   "outputs": [],
   "source": [
    "profit=[40,2,34,12]"
   ]
  },
  {
   "cell_type": "code",
   "execution_count": null,
   "id": "c7d283b9",
   "metadata": {},
   "outputs": [],
   "source": [
    "plt.bar(xpos-0.2,revenue,width=0.4,label='Revenue')\n",
    "plt.bar(xpos+0.2,profit,width=0.4,label='Profit')\n",
    "plt.xticks(xpos,company)\n",
    "plt.ylabel('Revenue(Bln)')\n",
    "plt.title('US Technolgy Stocks')\n",
    "plt.legend()\n",
    "plt.show()"
   ]
  },
  {
   "cell_type": "code",
   "execution_count": null,
   "id": "414ec1a9",
   "metadata": {},
   "outputs": [],
   "source": [
    "# In histogram , x axis contains a variable and y axis will be frequency of that variable"
   ]
  },
  {
   "cell_type": "code",
   "execution_count": null,
   "id": "798ed4e7",
   "metadata": {},
   "outputs": [],
   "source": [
    "df=pd.read_csv(\"\")"
   ]
  },
  {
   "cell_type": "code",
   "execution_count": null,
   "id": "3e3696e1",
   "metadata": {},
   "outputs": [],
   "source": [
    "plt.bar(xpos,revenue, label=\"Revenue\")\n",
    "\n",
    "#plt.xticks(xpos,company)\n",
    "plt.xlabel(\"Comapny\")\n",
    "plt.ylabel(\"Revenue(Bln)\")\n",
    "plt.title('US Technology Stocks')\n",
    "plt.legend()\n",
    "plt.show()"
   ]
  },
  {
   "cell_type": "code",
   "execution_count": null,
   "id": "341f7a6d",
   "metadata": {},
   "outputs": [],
   "source": []
  }
 ],
 "metadata": {
  "kernelspec": {
   "display_name": "Python 3 (ipykernel)",
   "language": "python",
   "name": "python3"
  },
  "language_info": {
   "codemirror_mode": {
    "name": "ipython",
    "version": 3
   },
   "file_extension": ".py",
   "mimetype": "text/x-python",
   "name": "python",
   "nbconvert_exporter": "python",
   "pygments_lexer": "ipython3",
   "version": "3.9.7"
  }
 },
 "nbformat": 4,
 "nbformat_minor": 5
}
