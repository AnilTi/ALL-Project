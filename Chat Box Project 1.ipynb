{
 "cells": [
  {
   "cell_type": "code",
   "execution_count": null,
   "id": "991a65e8",
   "metadata": {},
   "outputs": [
    {
     "name": "stdout",
     "output_type": "stream",
     "text": [
      ">need help\n",
      "how can i help you\n"
     ]
    }
   ],
   "source": [
    "from nltk.chat.util import Chat,reflections\n",
    "reflections\n",
    "\n",
    "pairs=[\n",
    "    ['need help',['how can i help you']],\n",
    "    ['what is chatbot',['chatbot is python program to help you']]\n",
    "    \n",
    "]\n",
    "chat=Chat(pairs,reflections)\n",
    "chat.converse()"
   ]
  },
  {
   "cell_type": "code",
   "execution_count": null,
   "id": "43345578",
   "metadata": {},
   "outputs": [],
   "source": [
    "import os"
   ]
  },
  {
   "cell_type": "code",
   "execution_count": null,
   "id": "37d36110",
   "metadata": {},
   "outputs": [],
   "source": [
    "os.listdir('chatterbot-corpus-master/ch')"
   ]
  },
  {
   "cell_type": "code",
   "execution_count": null,
   "id": "6069ca2a",
   "metadata": {},
   "outputs": [],
   "source": []
  }
 ],
 "metadata": {
  "kernelspec": {
   "display_name": "Python 3 (ipykernel)",
   "language": "python",
   "name": "python3"
  },
  "language_info": {
   "codemirror_mode": {
    "name": "ipython",
    "version": 3
   },
   "file_extension": ".py",
   "mimetype": "text/x-python",
   "name": "python",
   "nbconvert_exporter": "python",
   "pygments_lexer": "ipython3",
   "version": "3.9.7"
  }
 },
 "nbformat": 4,
 "nbformat_minor": 5
}
